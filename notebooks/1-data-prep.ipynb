{
 "cells": [
  {
   "cell_type": "markdown",
   "id": "8a414bf7-7a93-4291-9f86-09ec8beacd7f",
   "metadata": {},
   "source": [
    "## Data preparation\n",
    "This notebook exhibits our data processing pipeline. We transform the raw datasets into final processed datasets to be used as input into our machine learning models."
   ]
  },
  {
   "cell_type": "markdown",
   "id": "44ff4c5c-94a6-480b-921c-8f6e8cc0e274",
   "metadata": {},
   "source": [
    "#### Useful imports"
   ]
  },
  {
   "cell_type": "code",
   "execution_count": 2,
   "id": "6443545e-3eda-4a41-a561-654217258614",
   "metadata": {},
   "outputs": [],
   "source": [
    "import pandas as pd\n",
    "import numpy as np\n",
    "\n",
    "from modules import preparation\n",
    "\n",
    "%load_ext autoreload\n",
    "%autoreload 2"
   ]
  },
  {
   "cell_type": "markdown",
   "id": "5c5fb208-d54e-46ef-943f-80a6961eb648",
   "metadata": {},
   "source": [
    "## Process data\n",
    "\n",
    "#### Keep relevant data\n",
    "- We first only keep sessions that are not \"onboarding\" sessions and which have at least one participant that has answered the relevant feeling of learning question. \n",
    "- We also save the answering participants along with their response.\n",
    "- Keep all relevant answers\n",
    "- Keep all relevant questions"
   ]
  },
  {
   "cell_type": "code",
   "execution_count": 5,
   "id": "40f1d500-9504-42cd-b2dc-e7731002a7f4",
   "metadata": {
    "tags": []
   },
   "outputs": [],
   "source": [
    "preparation.keep_relevant()"
   ]
  },
  {
   "cell_type": "code",
   "execution_count": 6,
   "id": "efd990d0-f028-4162-969d-9dfc11fd6373",
   "metadata": {},
   "outputs": [],
   "source": [
    "preparation.filter_answers_questions()"
   ]
  },
  {
   "cell_type": "markdown",
   "id": "48ff7d4e-bf11-4318-a258-245d82ee99a3",
   "metadata": {},
   "source": [
    "#### Augment session information\n",
    "Add title length, topic, language, and translation to session information"
   ]
  },
  {
   "cell_type": "code",
   "execution_count": 7,
   "id": "49fb9d50-ecd9-43e8-b052-927830672ca8",
   "metadata": {},
   "outputs": [],
   "source": [
    "# First translate titles\n",
    "preparation.translate_titles()"
   ]
  },
  {
   "cell_type": "code",
   "execution_count": null,
   "id": "9d6b919b-5a56-4ff0-8bf6-b59d956d96d5",
   "metadata": {},
   "outputs": [],
   "source": [
    "# Add title length, topic, language, translation\n",
    "preparation.augment_session_info()\n",
    "# Clear output of cell after running"
   ]
  },
  {
   "cell_type": "markdown",
   "id": "74386b90-d66d-48d0-a53b-f78ef0732a1a",
   "metadata": {},
   "source": [
    "#### Augment answers with added features\n",
    "We now create the (almost) final data which consists of all considered participants' answers with added features from the sessions and questions. "
   ]
  },
  {
   "cell_type": "code",
   "execution_count": 9,
   "id": "c8f840c5-f01d-4fe6-8e0f-60193f9772ea",
   "metadata": {},
   "outputs": [],
   "source": [
    "preparation.augment_answers()"
   ]
  },
  {
   "cell_type": "markdown",
   "id": "3466ab98-8336-42b3-86d7-18117c93a5dd",
   "metadata": {},
   "source": [
    "## Finalize data\n",
    "We now need to simply finalize the dataset(s) such that they can be immediately used by our models.\n",
    "#### Missing data\n",
    "We will impute missing data with a different strategy given the nature of the data. For categorical features, we will replace missing data by the most frequent class. For numerical features. we simply replace with the mean of defined values."
   ]
  },
  {
   "cell_type": "code",
   "execution_count": 10,
   "id": "2b1397ff-6601-460a-aa43-0687d0777c88",
   "metadata": {},
   "outputs": [
    {
     "data": {
      "text/plain": [
       "['mode',\n",
       " 'feedback_mode',\n",
       " 'force_reflection',\n",
       " 'timer',\n",
       " 'is_solo',\n",
       " 'correctness']"
      ]
     },
     "execution_count": 10,
     "metadata": {},
     "output_type": "execute_result"
    }
   ],
   "source": [
    "# We first find out if there are any nan values in our data\n",
    "nan_columns = preparation.nan_columns()\n",
    "nan_columns"
   ]
  },
  {
   "cell_type": "markdown",
   "id": "fc2a50ea-22e0-49c5-bdae-1b37c52d297b",
   "metadata": {},
   "source": [
    "Of these we have categorical and numerical data columns:"
   ]
  },
  {
   "cell_type": "code",
   "execution_count": 11,
   "id": "dda16ad3-6bbc-4567-b9ad-0c4ffd46e012",
   "metadata": {},
   "outputs": [],
   "source": [
    "cat_columns = ['mode', 'feedback_mode', 'force_reflection', 'is_solo']\n",
    "num_columns = ['timer', 'correctness']"
   ]
  },
  {
   "cell_type": "code",
   "execution_count": 15,
   "id": "454f8b30-8b20-4c0e-841c-e4d42f8c93db",
   "metadata": {},
   "outputs": [],
   "source": [
    "preparation.impute(cat_columns, num_columns)"
   ]
  },
  {
   "cell_type": "markdown",
   "id": "51352dd8-d3f9-4198-8764-5d0eb11cbe83",
   "metadata": {},
   "source": [
    "#### Encode categorical features"
   ]
  },
  {
   "cell_type": "code",
   "execution_count": 16,
   "id": "255e1dd9-3c33-4124-b9aa-d81b67f37917",
   "metadata": {},
   "outputs": [],
   "source": [
    "preparation.encode_categorical()"
   ]
  },
  {
   "cell_type": "markdown",
   "id": "2115b9be-8b91-488c-b4a9-84f2b5d870f4",
   "metadata": {},
   "source": [
    "#### Normalizing data\n",
    "In order for all features to be on the same scale and to avoid any weight bias, we normalize our data."
   ]
  },
  {
   "cell_type": "code",
   "execution_count": 17,
   "id": "8202e940-7798-4e47-926c-58b867f07808",
   "metadata": {},
   "outputs": [],
   "source": [
    "preparation.normalize()"
   ]
  },
  {
   "cell_type": "markdown",
   "id": "847a575a-225a-472b-b1d2-846db592b3cf",
   "metadata": {},
   "source": [
    "## Generate Aggregated datasets\n",
    "We now can generate datasets to be used for our classification machine learning models that will take as input participants' aggregated data."
   ]
  },
  {
   "cell_type": "code",
   "execution_count": 18,
   "id": "95a1fd4d-4d0d-4943-bbbd-8870ef5d71dd",
   "metadata": {},
   "outputs": [],
   "source": [
    "preparation.aggregate_participant_data()"
   ]
  },
  {
   "cell_type": "markdown",
   "id": "8c97100a-b5bf-4396-be43-77016f1f1e00",
   "metadata": {},
   "source": [
    "We also generate balanced datasets such that all labels are equally represented."
   ]
  },
  {
   "cell_type": "code",
   "execution_count": 20,
   "id": "c3b9f3fe-ad64-4237-bd5b-6e618178e625",
   "metadata": {},
   "outputs": [],
   "source": [
    "preparation.make_balanced_datasets()"
   ]
  },
  {
   "cell_type": "markdown",
   "id": "19603de3-9b9d-4c92-b08b-576a12d51055",
   "metadata": {},
   "source": [
    "## Generate Time Series datasets\n",
    "We finally can make some adjustments to the dataset for it to be passed as input to Tensorflow neural network architectures. "
   ]
  },
  {
   "cell_type": "code",
   "execution_count": 26,
   "id": "d841d937-d111-439b-804b-f12305e718e7",
   "metadata": {},
   "outputs": [],
   "source": [
    "preparation.prepare_time_series_data(5)\n",
    "preparation.prepare_time_series_data(10)\n",
    "preparation.prepare_time_series_data(15)\n",
    "preparation.prepare_time_series_data(20)"
   ]
  }
 ],
 "metadata": {
  "kernelspec": {
   "display_name": "Python 3 (ipykernel)",
   "language": "python",
   "name": "python3"
  },
  "language_info": {
   "codemirror_mode": {
    "name": "ipython",
    "version": 3
   },
   "file_extension": ".py",
   "mimetype": "text/x-python",
   "name": "python",
   "nbconvert_exporter": "python",
   "pygments_lexer": "ipython3",
   "version": "3.8.10"
  }
 },
 "nbformat": 4,
 "nbformat_minor": 5
}
