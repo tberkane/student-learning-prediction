{
 "cells": [
  {
   "cell_type": "markdown",
   "metadata": {
    "id": "plfK7OATaVCk"
   },
   "source": [
    "## Time Series Prediction\n",
    "This notebook will look into answering our research question using time series data as input.\n",
    "\n",
    "**Research question** : Predicting student reflection responses to the \"How do you feel about your learning progress\" question from their session interactions (response time, response correctness) and from the characteristics of the session (number of questions, feedback mode, time of the day, etc.)\n",
    "\n",
    "#### Useful imports and setup"
   ]
  },
  {
   "cell_type": "code",
   "execution_count": 1,
   "metadata": {
    "id": "LrH0aL9hDnSZ"
   },
   "outputs": [],
   "source": [
    "import pandas as pd\n",
    "import numpy as np\n",
    "import tensorflow as tf\n",
    "import matplotlib.pyplot as plt\n",
    "import seaborn as sns\n",
    "\n",
    "from pathlib import Path\n",
    "\n",
    "%load_ext autoreload\n",
    "%autoreload 2\n",
    "\n",
    "DATA_DIR = '../data' # Change accordingly"
   ]
  },
  {
   "cell_type": "code",
   "execution_count": 2,
   "metadata": {
    "colab": {
     "base_uri": "https://localhost:8080/"
    },
    "id": "tZjlk2jRD1o2",
    "outputId": "e39a3bcf-3d02-414c-8d67-a22c6f3ed7e1"
   },
   "outputs": [
    {
     "name": "stdout",
     "output_type": "stream",
     "text": [
      "Mounted at /content/drive\n"
     ]
    }
   ],
   "source": [
    "# Run this cell if working on Colab\n",
    "from google.colab import drive\n",
    "drive.mount('/content/drive')\n",
    "DATA_DIR = '/content/drive/MyDrive/Classtime'"
   ]
  },
  {
   "cell_type": "markdown",
   "metadata": {
    "id": "lkupXJsetB_Q"
   },
   "source": [
    "### Load data"
   ]
  },
  {
   "cell_type": "code",
   "execution_count": 3,
   "metadata": {
    "id": "p0fpsTJDuWAe"
   },
   "outputs": [],
   "source": [
    "# We decide to consider a fixed amount of time steps\n",
    "N_STEPS = 10 # Note: can be tuned\n",
    "\n",
    "X = np.load(f'{DATA_DIR}/processed/{N_STEPS}-steps.npy', allow_pickle=True)\n",
    "labels = pd.read_csv(f'{DATA_DIR}/processed/participant-labels.csv.gz')\n",
    "\n",
    "N_FEATURES = X.shape[2]"
   ]
  },
  {
   "cell_type": "markdown",
   "metadata": {
    "id": "pff1FYTgserC"
   },
   "source": [
    "## Binary prediction models\n",
    "We will first investigate predicting the feeling of learning as happy versus not happy (binary prediction)."
   ]
  },
  {
   "cell_type": "code",
   "execution_count": 4,
   "metadata": {},
   "outputs": [],
   "source": [
    "# Import code written for task\n",
    "from modules.models import binary"
   ]
  },
  {
   "cell_type": "code",
   "execution_count": 5,
   "metadata": {
    "id": "buB8kkL8sBjA"
   },
   "outputs": [],
   "source": [
    "y = labels.response.map({'happy': 1.0, 'neutral': 0.0, 'upset': 0.0}).to_numpy() # Happy or not"
   ]
  },
  {
   "cell_type": "code",
   "execution_count": 6,
   "metadata": {
    "colab": {
     "base_uri": "https://localhost:8080/"
    },
    "id": "HhG7bJnIsT66",
    "outputId": "82152012-288d-4f4f-8805-d650609587fd"
   },
   "outputs": [
    {
     "data": {
      "text/plain": [
       "True"
      ]
     },
     "execution_count": 6,
     "metadata": {},
     "output_type": "execute_result"
    }
   ],
   "source": [
    "# Number of participants == number of labels\n",
    "X.shape[0] == y.shape[0]"
   ]
  },
  {
   "cell_type": "markdown",
   "metadata": {
    "id": "yOZWE7vsnE61"
   },
   "source": [
    "### Split data"
   ]
  },
  {
   "cell_type": "code",
   "execution_count": 7,
   "metadata": {
    "id": "Qrt009uKtNh1"
   },
   "outputs": [],
   "source": [
    "# Split data into train, val, and test\n",
    "from sklearn.model_selection import train_test_split\n",
    "\n",
    "# Split into train-val and test\n",
    "X_train_val, X_test, y_train_val, y_test = train_test_split(X[:322651], y[:322651], test_size=0.1, random_state=123)\n",
    "\n",
    "# Split train-val in their respective sets\n",
    "X_train, X_val, y_train, y_val = train_test_split(X_train_val, y_train_val, test_size=0.2, random_state=123)"
   ]
  },
  {
   "cell_type": "markdown",
   "metadata": {
    "id": "X1Qwn5OtnKSL"
   },
   "source": [
    "### Parameters"
   ]
  },
  {
   "cell_type": "code",
   "execution_count": 8,
   "metadata": {
    "id": "qGmwR3odvcds"
   },
   "outputs": [],
   "source": [
    "## MODEL PARAMETERS ## Can be tuned for optimization\n",
    "params = {}\n",
    "params['batch_size'] = 16\n",
    "params['mask_value'] = -1.0\n",
    "params['verbose'] = 1\n",
    "params['weights_dir'] = f'{DATA_DIR}/weights'\n",
    "params['optimizer'] = 'adam'\n",
    "params['n_units'] = 32 # Number of recurrent units\n",
    "params['epochs'] = 20\n",
    "params['dropout'] = 0.1\n",
    "params['patience'] = 3 # Early stopping patience"
   ]
  },
  {
   "cell_type": "markdown",
   "metadata": {
    "id": "AuQw88T9nR-i"
   },
   "source": [
    "#### Baseline\n",
    "We first run predictions on a simple neural network with a fully connected hidden layer to compare its performance to the recurrent neural networks."
   ]
  },
  {
   "cell_type": "code",
   "execution_count": 9,
   "metadata": {
    "colab": {
     "base_uri": "https://localhost:8080/"
    },
    "id": "0-243d6Q4EAk",
    "outputId": "06ca59fc-5374-44a1-eec6-fc56b9ffb626"
   },
   "outputs": [
    {
     "name": "stdout",
     "output_type": "stream",
     "text": [
      "Model: \"Baseline\"\n",
      "_________________________________________________________________\n",
      " Layer (type)                Output Shape              Param #   \n",
      "=================================================================\n",
      " inputs (InputLayer)         [(None, None, 9)]         0         \n",
      "                                                                 \n",
      " masking (Masking)           (None, None, 9)           0         \n",
      "                                                                 \n",
      " reshape (Reshape)           (None, 90)                0         \n",
      "                                                                 \n",
      " dense (Dense)               (None, 90)                8190      \n",
      "                                                                 \n",
      " dense_1 (Dense)             (None, 1)                 91        \n",
      "                                                                 \n",
      "=================================================================\n",
      "Total params: 8,281\n",
      "Trainable params: 8,281\n",
      "Non-trainable params: 0\n",
      "_________________________________________________________________\n"
     ]
    }
   ],
   "source": [
    "# Define Baseline model\n",
    "baseline = binary.fully_connected(N_FEATURES, N_STEPS, params)\n",
    "baseline.summary()"
   ]
  },
  {
   "cell_type": "code",
   "execution_count": 10,
   "metadata": {
    "id": "QD-95EQX52C5"
   },
   "outputs": [
    {
     "name": "stdout",
     "output_type": "stream",
     "text": [
      "Epoch 1/20\n",
      "7260/7260 [==============================] - 5s 658us/step - loss: 0.6457 - auc: 0.6646 - binary_accuracy: 0.6283 - val_loss: 0.6384 - val_auc: 0.6757 - val_binary_accuracy: 0.6368\n",
      "Epoch 2/20\n",
      "7260/7260 [==============================] - 4s 612us/step - loss: 0.6421 - auc: 0.6708 - binary_accuracy: 0.6327 - val_loss: 0.6367 - val_auc: 0.6782 - val_binary_accuracy: 0.6389\n",
      "Epoch 3/20\n",
      "7260/7260 [==============================] - 5s 669us/step - loss: 0.6410 - auc: 0.6724 - binary_accuracy: 0.6345 - val_loss: 0.6374 - val_auc: 0.6773 - val_binary_accuracy: 0.6376\n",
      "Epoch 4/20\n",
      "7260/7260 [==============================] - 5s 652us/step - loss: 0.6407 - auc: 0.6730 - binary_accuracy: 0.6347 - val_loss: 0.6371 - val_auc: 0.6779 - val_binary_accuracy: 0.6396\n",
      "Epoch 5/20\n",
      "7260/7260 [==============================] - 5s 727us/step - loss: 0.6402 - auc: 0.6741 - binary_accuracy: 0.6351 - val_loss: 0.6373 - val_auc: 0.6774 - val_binary_accuracy: 0.6389\n"
     ]
    }
   ],
   "source": [
    "# Fit Baseline model on train and validation data\n",
    "binary.fit_model(baseline, params, 'Baseline', X_train, y_train, X_val, y_val)"
   ]
  },
  {
   "cell_type": "markdown",
   "metadata": {
    "id": "DFRwwhf5oEFY"
   },
   "source": [
    "### Recurrent Neural Networks\n",
    "We now investigate the predicting performance of simple recurrent neural network architectures."
   ]
  },
  {
   "cell_type": "markdown",
   "metadata": {
    "id": "iVEEXhKZoPZJ"
   },
   "source": [
    "#### Recurrent neural network"
   ]
  },
  {
   "cell_type": "code",
   "execution_count": 11,
   "metadata": {
    "colab": {
     "base_uri": "https://localhost:8080/"
    },
    "id": "K7V5toiOSqwq",
    "outputId": "45b7ae45-5e7a-40ae-bba4-763d17549fb4"
   },
   "outputs": [
    {
     "name": "stdout",
     "output_type": "stream",
     "text": [
      "Model: \"BinaryRNN\"\n",
      "_________________________________________________________________\n",
      " Layer (type)                Output Shape              Param #   \n",
      "=================================================================\n",
      " inputs (InputLayer)         [(None, None, 9)]         0         \n",
      "                                                                 \n",
      " masking_1 (Masking)         (None, None, 9)           0         \n",
      "                                                                 \n",
      " simple_rnn (SimpleRNN)      (None, 32)                1344      \n",
      "                                                                 \n",
      " dense_2 (Dense)             (None, 1)                 33        \n",
      "                                                                 \n",
      "=================================================================\n",
      "Total params: 1,377\n",
      "Trainable params: 1,377\n",
      "Non-trainable params: 0\n",
      "_________________________________________________________________\n"
     ]
    }
   ],
   "source": [
    "# Define RNN model\n",
    "rnn = binary.create_model(N_FEATURES, params, 'RNN')\n",
    "rnn.summary()"
   ]
  },
  {
   "cell_type": "code",
   "execution_count": 12,
   "metadata": {
    "id": "zVoKX7YUSw_I"
   },
   "outputs": [
    {
     "name": "stdout",
     "output_type": "stream",
     "text": [
      "Epoch 1/20\n",
      "7260/7260 [==============================] - 11s 1ms/step - loss: 0.6530 - auc_1: 0.6485 - binary_accuracy: 0.6204 - val_loss: 0.6438 - val_auc_1: 0.6728 - val_binary_accuracy: 0.6324\n",
      "Epoch 2/20\n",
      "7260/7260 [==============================] - 11s 1ms/step - loss: 0.6511 - auc_1: 0.6525 - binary_accuracy: 0.6234 - val_loss: 0.6424 - val_auc_1: 0.6763 - val_binary_accuracy: 0.6325\n",
      "Epoch 3/20\n",
      "7260/7260 [==============================] - 12s 2ms/step - loss: 0.6506 - auc_1: 0.6534 - binary_accuracy: 0.6226 - val_loss: 0.6405 - val_auc_1: 0.6774 - val_binary_accuracy: 0.6356\n",
      "Epoch 4/20\n",
      "7260/7260 [==============================] - 11s 2ms/step - loss: 0.6501 - auc_1: 0.6546 - binary_accuracy: 0.6238 - val_loss: 0.6424 - val_auc_1: 0.6773 - val_binary_accuracy: 0.6302\n",
      "Epoch 5/20\n",
      "7260/7260 [==============================] - 11s 1ms/step - loss: 0.6499 - auc_1: 0.6551 - binary_accuracy: 0.6236 - val_loss: 0.6389 - val_auc_1: 0.6774 - val_binary_accuracy: 0.6390\n",
      "Epoch 6/20\n",
      "7260/7260 [==============================] - 11s 2ms/step - loss: 0.6501 - auc_1: 0.6543 - binary_accuracy: 0.6229 - val_loss: 0.6385 - val_auc_1: 0.6765 - val_binary_accuracy: 0.6375\n",
      "Epoch 7/20\n",
      "7260/7260 [==============================] - 11s 1ms/step - loss: 0.6498 - auc_1: 0.6553 - binary_accuracy: 0.6240 - val_loss: 0.6410 - val_auc_1: 0.6771 - val_binary_accuracy: 0.6349\n",
      "Epoch 8/20\n",
      "7260/7260 [==============================] - 11s 1ms/step - loss: 0.6492 - auc_1: 0.6563 - binary_accuracy: 0.6240 - val_loss: 0.6513 - val_auc_1: 0.6762 - val_binary_accuracy: 0.6314\n",
      "Epoch 9/20\n",
      "7260/7260 [==============================] - 11s 2ms/step - loss: 0.6487 - auc_1: 0.6576 - binary_accuracy: 0.6250 - val_loss: 0.6385 - val_auc_1: 0.6758 - val_binary_accuracy: 0.6371\n",
      "Epoch 10/20\n",
      "7260/7260 [==============================] - 12s 2ms/step - loss: 0.6489 - auc_1: 0.6572 - binary_accuracy: 0.6247 - val_loss: 0.6394 - val_auc_1: 0.6778 - val_binary_accuracy: 0.6374\n",
      "Epoch 11/20\n",
      "7260/7260 [==============================] - 11s 2ms/step - loss: 0.6485 - auc_1: 0.6579 - binary_accuracy: 0.6251 - val_loss: 0.6390 - val_auc_1: 0.6785 - val_binary_accuracy: 0.6354\n",
      "Epoch 12/20\n",
      "7260/7260 [==============================] - 11s 2ms/step - loss: 0.6479 - auc_1: 0.6590 - binary_accuracy: 0.6265 - val_loss: 0.6390 - val_auc_1: 0.6769 - val_binary_accuracy: 0.6350\n"
     ]
    }
   ],
   "source": [
    "# Fit RNN model on train and validation data\n",
    "binary.fit_model(rnn, params, 'RNN', X_train, y_train, X_val, y_val)"
   ]
  },
  {
   "cell_type": "markdown",
   "metadata": {
    "id": "fM4l-F3ioTTN"
   },
   "source": [
    "#### LSTM"
   ]
  },
  {
   "cell_type": "code",
   "execution_count": 13,
   "metadata": {
    "colab": {
     "base_uri": "https://localhost:8080/"
    },
    "id": "IwkVgoR8zKT9",
    "outputId": "5aaa8203-ba77-4482-8425-0f1c69cc6b53"
   },
   "outputs": [
    {
     "name": "stdout",
     "output_type": "stream",
     "text": [
      "Model: \"BinaryLSTM\"\n",
      "_________________________________________________________________\n",
      " Layer (type)                Output Shape              Param #   \n",
      "=================================================================\n",
      " inputs (InputLayer)         [(None, None, 9)]         0         \n",
      "                                                                 \n",
      " masking_2 (Masking)         (None, None, 9)           0         \n",
      "                                                                 \n",
      " lstm (LSTM)                 (None, 32)                5376      \n",
      "                                                                 \n",
      " dense_3 (Dense)             (None, 1)                 33        \n",
      "                                                                 \n",
      "=================================================================\n",
      "Total params: 5,409\n",
      "Trainable params: 5,409\n",
      "Non-trainable params: 0\n",
      "_________________________________________________________________\n"
     ]
    }
   ],
   "source": [
    "# Define LSTM model\n",
    "lstm = binary.create_model(N_FEATURES, params, 'LSTM')\n",
    "lstm.summary()"
   ]
  },
  {
   "cell_type": "code",
   "execution_count": 14,
   "metadata": {
    "id": "QeYH2L8h1K-7"
   },
   "outputs": [
    {
     "name": "stdout",
     "output_type": "stream",
     "text": [
      "Epoch 1/20\n",
      "7260/7260 [==============================] - 22s 3ms/step - loss: 0.6514 - auc_2: 0.6519 - binary_accuracy: 0.6216 - val_loss: 0.6420 - val_auc_2: 0.6746 - val_binary_accuracy: 0.6323\n",
      "Epoch 2/20\n",
      "7260/7260 [==============================] - 19s 3ms/step - loss: 0.6489 - auc_2: 0.6570 - binary_accuracy: 0.6261 - val_loss: 0.6388 - val_auc_2: 0.6785 - val_binary_accuracy: 0.6389\n",
      "Epoch 3/20\n",
      "7260/7260 [==============================] - 19s 3ms/step - loss: 0.6487 - auc_2: 0.6574 - binary_accuracy: 0.6249 - val_loss: 0.6411 - val_auc_2: 0.6781 - val_binary_accuracy: 0.6337\n",
      "Epoch 4/20\n",
      "7260/7260 [==============================] - 19s 3ms/step - loss: 0.6485 - auc_2: 0.6578 - binary_accuracy: 0.6253 - val_loss: 0.6382 - val_auc_2: 0.6795 - val_binary_accuracy: 0.6400\n",
      "Epoch 5/20\n",
      "7260/7260 [==============================] - 19s 3ms/step - loss: 0.6481 - auc_2: 0.6584 - binary_accuracy: 0.6256 - val_loss: 0.6375 - val_auc_2: 0.6805 - val_binary_accuracy: 0.6416\n",
      "Epoch 6/20\n",
      "7260/7260 [==============================] - 19s 3ms/step - loss: 0.6479 - auc_2: 0.6589 - binary_accuracy: 0.6269 - val_loss: 0.6389 - val_auc_2: 0.6796 - val_binary_accuracy: 0.6386\n",
      "Epoch 7/20\n",
      "7260/7260 [==============================] - 19s 3ms/step - loss: 0.6481 - auc_2: 0.6585 - binary_accuracy: 0.6262 - val_loss: 0.6408 - val_auc_2: 0.6801 - val_binary_accuracy: 0.6393\n",
      "Epoch 8/20\n",
      "7260/7260 [==============================] - 18s 3ms/step - loss: 0.6474 - auc_2: 0.6599 - binary_accuracy: 0.6261 - val_loss: 0.6387 - val_auc_2: 0.6794 - val_binary_accuracy: 0.6396\n"
     ]
    }
   ],
   "source": [
    "# Fit LSTM model on train and validation data\n",
    "binary.fit_model(lstm, params, 'LSTM', X_train, y_train, X_val, y_val)"
   ]
  },
  {
   "cell_type": "markdown",
   "metadata": {
    "id": "1c6wQdYioWLx"
   },
   "source": [
    "#### GRU"
   ]
  },
  {
   "cell_type": "code",
   "execution_count": 15,
   "metadata": {
    "colab": {
     "base_uri": "https://localhost:8080/"
    },
    "id": "8rrJ_y_-Pbrg",
    "outputId": "de0c906f-a7d7-4449-9fef-64071dd1fa1f"
   },
   "outputs": [
    {
     "name": "stdout",
     "output_type": "stream",
     "text": [
      "Model: \"BinaryGRU\"\n",
      "_________________________________________________________________\n",
      " Layer (type)                Output Shape              Param #   \n",
      "=================================================================\n",
      " inputs (InputLayer)         [(None, None, 9)]         0         \n",
      "                                                                 \n",
      " masking_3 (Masking)         (None, None, 9)           0         \n",
      "                                                                 \n",
      " gru (GRU)                   (None, 32)                4128      \n",
      "                                                                 \n",
      " dense_4 (Dense)             (None, 1)                 33        \n",
      "                                                                 \n",
      "=================================================================\n",
      "Total params: 4,161\n",
      "Trainable params: 4,161\n",
      "Non-trainable params: 0\n",
      "_________________________________________________________________\n"
     ]
    }
   ],
   "source": [
    "# Define GRU model\n",
    "gru = binary.create_model(N_FEATURES, params, 'GRU')\n",
    "gru.summary()"
   ]
  },
  {
   "cell_type": "code",
   "execution_count": 16,
   "metadata": {
    "id": "RNIGGoFyTJo7"
   },
   "outputs": [
    {
     "name": "stdout",
     "output_type": "stream",
     "text": [
      "Epoch 1/20\n",
      "7260/7260 [==============================] - 21s 3ms/step - loss: 0.6512 - auc_3: 0.6526 - binary_accuracy: 0.6226 - val_loss: 0.6405 - val_auc_3: 0.6784 - val_binary_accuracy: 0.6336\n",
      "Epoch 2/20\n",
      "7260/7260 [==============================] - 18s 2ms/step - loss: 0.6489 - auc_3: 0.6571 - binary_accuracy: 0.6248 - val_loss: 0.6389 - val_auc_3: 0.6799 - val_binary_accuracy: 0.6391\n",
      "Epoch 3/20\n",
      "7260/7260 [==============================] - 19s 3ms/step - loss: 0.6490 - auc_3: 0.6566 - binary_accuracy: 0.6244 - val_loss: 0.6401 - val_auc_3: 0.6787 - val_binary_accuracy: 0.6347\n",
      "Epoch 4/20\n",
      "7260/7260 [==============================] - 18s 2ms/step - loss: 0.6485 - auc_3: 0.6577 - binary_accuracy: 0.6253 - val_loss: 0.6403 - val_auc_3: 0.6788 - val_binary_accuracy: 0.6348\n",
      "Epoch 5/20\n",
      "7260/7260 [==============================] - 18s 3ms/step - loss: 0.6482 - auc_3: 0.6584 - binary_accuracy: 0.6254 - val_loss: 0.6376 - val_auc_3: 0.6798 - val_binary_accuracy: 0.6399\n",
      "Epoch 6/20\n",
      "7260/7260 [==============================] - 18s 3ms/step - loss: 0.6482 - auc_3: 0.6584 - binary_accuracy: 0.6257 - val_loss: 0.6387 - val_auc_3: 0.6794 - val_binary_accuracy: 0.6393\n",
      "Epoch 7/20\n",
      "7260/7260 [==============================] - 19s 3ms/step - loss: 0.6477 - auc_3: 0.6593 - binary_accuracy: 0.6263 - val_loss: 0.6397 - val_auc_3: 0.6800 - val_binary_accuracy: 0.6400\n",
      "Epoch 8/20\n",
      "7260/7260 [==============================] - 19s 3ms/step - loss: 0.6479 - auc_3: 0.6590 - binary_accuracy: 0.6258 - val_loss: 0.6397 - val_auc_3: 0.6798 - val_binary_accuracy: 0.6401\n"
     ]
    }
   ],
   "source": [
    "# Fit GRU model on train and validation data\n",
    "binary.fit_model(gru, params, 'GRU', X_train, y_train, X_val, y_val)"
   ]
  },
  {
   "cell_type": "markdown",
   "metadata": {
    "id": "qQkTXDvABn28"
   },
   "source": [
    "#### Model evaluation\n",
    "We will now evaluate the binary prediction models on the testing data:"
   ]
  },
  {
   "cell_type": "code",
   "execution_count": 17,
   "metadata": {
    "colab": {
     "base_uri": "https://localhost:8080/"
    },
    "id": "PNCDFLpfBj82",
    "outputId": "1bea55f5-d3f6-4dea-f3e9-224ff1815819"
   },
   "outputs": [
    {
     "name": "stdout",
     "output_type": "stream",
     "text": [
      "Model: Baseline\n",
      "Balanced accuracy: 0.6162\n",
      "AUC: 0.6728\n",
      "Model: RNN\n",
      "Balanced accuracy: 0.6116\n",
      "AUC: 0.6684\n",
      "Model: LSTM\n",
      "Balanced accuracy: 0.6149\n",
      "AUC: 0.6739\n",
      "Model: GRU\n",
      "Balanced accuracy: 0.6162\n",
      "AUC: 0.6740\n"
     ]
    }
   ],
   "source": [
    "models = [(baseline, 'Baseline'), (rnn, 'RNN'), (lstm, 'LSTM'), (gru, 'GRU')]\n",
    "results = []\n",
    "for mod, mod_name in models:\n",
    "    acc, auc = binary.evaluate_model(mod, params, mod_name, X_test, y_test)\n",
    "    results.append((mod_name, acc, auc))\n",
    "results = pd.DataFrame(results, columns=['Model', 'Accuracy', 'AUC'])"
   ]
  },
  {
   "cell_type": "code",
   "execution_count": 18,
   "metadata": {
    "colab": {
     "base_uri": "https://localhost:8080/",
     "height": 175
    },
    "id": "zY2LDiQsXk-J",
    "outputId": "bf3f047b-a425-4105-c242-db0186ad7ae2"
   },
   "outputs": [
    {
     "data": {
      "text/html": [
       "<div>\n",
       "<style scoped>\n",
       "    .dataframe tbody tr th:only-of-type {\n",
       "        vertical-align: middle;\n",
       "    }\n",
       "\n",
       "    .dataframe tbody tr th {\n",
       "        vertical-align: top;\n",
       "    }\n",
       "\n",
       "    .dataframe thead th {\n",
       "        text-align: right;\n",
       "    }\n",
       "</style>\n",
       "<table border=\"1\" class=\"dataframe\">\n",
       "  <thead>\n",
       "    <tr style=\"text-align: right;\">\n",
       "      <th></th>\n",
       "      <th>Model</th>\n",
       "      <th>Accuracy</th>\n",
       "      <th>AUC</th>\n",
       "    </tr>\n",
       "  </thead>\n",
       "  <tbody>\n",
       "    <tr>\n",
       "      <th>0</th>\n",
       "      <td>Baseline</td>\n",
       "      <td>0.616237</td>\n",
       "      <td>0.672756</td>\n",
       "    </tr>\n",
       "    <tr>\n",
       "      <th>1</th>\n",
       "      <td>RNN</td>\n",
       "      <td>0.611630</td>\n",
       "      <td>0.668389</td>\n",
       "    </tr>\n",
       "    <tr>\n",
       "      <th>2</th>\n",
       "      <td>LSTM</td>\n",
       "      <td>0.614939</td>\n",
       "      <td>0.673934</td>\n",
       "    </tr>\n",
       "    <tr>\n",
       "      <th>3</th>\n",
       "      <td>GRU</td>\n",
       "      <td>0.616241</td>\n",
       "      <td>0.674035</td>\n",
       "    </tr>\n",
       "  </tbody>\n",
       "</table>\n",
       "</div>"
      ],
      "text/plain": [
       "      Model  Accuracy       AUC\n",
       "0  Baseline  0.616237  0.672756\n",
       "1       RNN  0.611630  0.668389\n",
       "2      LSTM  0.614939  0.673934\n",
       "3       GRU  0.616241  0.674035"
      ]
     },
     "metadata": {},
     "output_type": "display_data"
    }
   ],
   "source": [
    "display(results)"
   ]
  },
  {
   "cell_type": "code",
   "execution_count": 32,
   "metadata": {
    "colab": {
     "base_uri": "https://localhost:8080/",
     "height": 297
    },
    "id": "KLCwY84uXmF1",
    "outputId": "53e0d7ca-e124-42b7-dec3-57caf9148018"
   },
   "outputs": [
    {
     "data": {
      "image/png": "[encoded data removed]",
      "text/plain": [
       "<Figure size 432x288 with 2 Axes>"
      ]
     },
     "metadata": {
      "needs_background": "light"
     },
     "output_type": "display_data"
    }
   ],
   "source": [
    "fig, axs = plt.subplots(1, 2)\n",
    "\n",
    "sns.barplot(data=results, x='Model', y='Accuracy', ax=axs[0])\n",
    "axs[0].set_title('Model accuracy')\n",
    "axs[0].set_ylim(0.6, 0.7)\n",
    "sns.barplot(data=results, x='Model', y='AUC', ax=axs[1])\n",
    "axs[1].set_title('Model ROC AUC')\n",
    "axs[1].set_ylim(0.6, 0.7)\n",
    "\n",
    "fig.tight_layout()\n",
    "plt.show()"
   ]
  },
  {
   "cell_type": "markdown",
   "metadata": {
    "id": "_ou3_K2-g5CI"
   },
   "source": [
    "A densely connected neural network seems to perform similarly as a recurrent neural network on this particular prediction task (**note the small range of the y-axis**). Aside from this, no other interesting comparison can be made between models unfortunately. "
   ]
  },
  {
   "cell_type": "markdown",
   "metadata": {
    "id": "VbwyyG2Mihhy"
   },
   "source": [
    "### LSTM hyperparameter tuning\n",
    "We will now investigate tuning the hyperparameters of the LSTM model such as the number of recurrent units and dropout rate."
   ]
  },
  {
   "cell_type": "code",
   "execution_count": 21,
   "metadata": {
    "id": "U06VvNfCiftI"
   },
   "outputs": [
    {
     "name": "stdout",
     "output_type": "stream",
     "text": [
      "Epoch 1/20\n",
      "7260/7260 [==============================] - 21s 3ms/step - loss: 0.6517 - auc_5: 0.6509 - binary_accuracy: 0.6212 - val_loss: 0.6401 - val_auc_5: 0.6779 - val_binary_accuracy: 0.6395\n",
      "Epoch 2/20\n",
      "7260/7260 [==============================] - 18s 2ms/step - loss: 0.6488 - auc_5: 0.6570 - binary_accuracy: 0.6264 - val_loss: 0.6386 - val_auc_5: 0.6795 - val_binary_accuracy: 0.6394\n",
      "Epoch 3/20\n",
      "7260/7260 [==============================] - 19s 3ms/step - loss: 0.6483 - auc_5: 0.6581 - binary_accuracy: 0.6258 - val_loss: 0.6383 - val_auc_5: 0.6800 - val_binary_accuracy: 0.6397\n",
      "Epoch 4/20\n",
      "7260/7260 [==============================] - 19s 3ms/step - loss: 0.6483 - auc_5: 0.6581 - binary_accuracy: 0.6257 - val_loss: 0.6380 - val_auc_5: 0.6803 - val_binary_accuracy: 0.6398\n",
      "Epoch 5/20\n",
      "7260/7260 [==============================] - 20s 3ms/step - loss: 0.6479 - auc_5: 0.6590 - binary_accuracy: 0.6260 - val_loss: 0.6382 - val_auc_5: 0.6804 - val_binary_accuracy: 0.6390\n",
      "Epoch 6/20\n",
      "7260/7260 [==============================] - 18s 3ms/step - loss: 0.6480 - auc_5: 0.6587 - binary_accuracy: 0.6260 - val_loss: 0.6386 - val_auc_5: 0.6799 - val_binary_accuracy: 0.6375\n",
      "Epoch 7/20\n",
      "7260/7260 [==============================] - 18s 2ms/step - loss: 0.6474 - auc_5: 0.6600 - binary_accuracy: 0.6265 - val_loss: 0.6394 - val_auc_5: 0.6795 - val_binary_accuracy: 0.6393\n",
      "Model: 8-0.1\n",
      "Balanced accuracy: 0.6134\n",
      "AUC: 0.6736\n",
      "Epoch 1/20\n",
      "7260/7260 [==============================] - 21s 3ms/step - loss: 0.6576 - auc_6: 0.6374 - binary_accuracy: 0.6123 - val_loss: 0.6423 - val_auc_6: 0.6760 - val_binary_accuracy: 0.6335\n",
      "Epoch 2/20\n",
      "7260/7260 [==============================] - 19s 3ms/step - loss: 0.6551 - auc_6: 0.6435 - binary_accuracy: 0.6152 - val_loss: 0.6413 - val_auc_6: 0.6763 - val_binary_accuracy: 0.6365\n",
      "Epoch 3/20\n",
      "7260/7260 [==============================] - 19s 3ms/step - loss: 0.6550 - auc_6: 0.6437 - binary_accuracy: 0.6155 - val_loss: 0.6432 - val_auc_6: 0.6782 - val_binary_accuracy: 0.6383\n",
      "Epoch 4/20\n",
      "7260/7260 [==============================] - 18s 3ms/step - loss: 0.6544 - auc_6: 0.6451 - binary_accuracy: 0.6166 - val_loss: 0.6440 - val_auc_6: 0.6756 - val_binary_accuracy: 0.6368\n",
      "Epoch 5/20\n",
      "7260/7260 [==============================] - 19s 3ms/step - loss: 0.6541 - auc_6: 0.6457 - binary_accuracy: 0.6165 - val_loss: 0.6510 - val_auc_6: 0.6760 - val_binary_accuracy: 0.6368\n",
      "Model: 8-0.2\n",
      "Balanced accuracy: 0.6082\n",
      "AUC: 0.6703\n",
      "Epoch 1/20\n",
      "7260/7260 [==============================] - 21s 3ms/step - loss: 0.6704 - auc_7: 0.6031 - binary_accuracy: 0.5897 - val_loss: 0.6566 - val_auc_7: 0.6711 - val_binary_accuracy: 0.6313\n",
      "Epoch 2/20\n",
      "7260/7260 [==============================] - 19s 3ms/step - loss: 0.6686 - auc_7: 0.6084 - binary_accuracy: 0.5923 - val_loss: 0.6656 - val_auc_7: 0.6562 - val_binary_accuracy: 0.6309- loss: 0.6686 - auc_7: 0.6086 - binary_a\n",
      "Epoch 3/20\n",
      "7260/7260 [==============================] - 19s 3ms/step - loss: 0.6680 - auc_7: 0.6099 - binary_accuracy: 0.5925 - val_loss: 0.6788 - val_auc_7: 0.6504 - val_binary_accuracy: 0.5517\n",
      "Epoch 4/20\n",
      "7260/7260 [==============================] - 19s 3ms/step - loss: 0.6677 - auc_7: 0.6113 - binary_accuracy: 0.5937 - val_loss: 0.6903 - val_auc_7: 0.6474 - val_binary_accuracy: 0.4883\n",
      "Model: 8-0.5\n",
      "Balanced accuracy: 0.5961\n",
      "AUC: 0.6639\n",
      "Epoch 1/20\n",
      "7260/7260 [==============================] - 22s 3ms/step - loss: 0.6510 - auc_8: 0.6527 - binary_accuracy: 0.6217 - val_loss: 0.6416 - val_auc_8: 0.6787 - val_binary_accuracy: 0.6399\n",
      "Epoch 2/20\n",
      "7260/7260 [==============================] - 19s 3ms/step - loss: 0.6490 - auc_8: 0.6567 - binary_accuracy: 0.6256 - val_loss: 0.6402 - val_auc_8: 0.6794 - val_binary_accuracy: 0.6413\n",
      "Epoch 3/20\n",
      "7260/7260 [==============================] - 19s 3ms/step - loss: 0.6479 - auc_8: 0.6589 - binary_accuracy: 0.6256 - val_loss: 0.6387 - val_auc_8: 0.6780 - val_binary_accuracy: 0.6383\n",
      "Epoch 4/20\n",
      "7260/7260 [==============================] - 19s 3ms/step - loss: 0.6485 - auc_8: 0.6577 - binary_accuracy: 0.6251 - val_loss: 0.6391 - val_auc_8: 0.6798 - val_binary_accuracy: 0.6399\n",
      "Epoch 5/20\n",
      "7260/7260 [==============================] - 19s 3ms/step - loss: 0.6477 - auc_8: 0.6594 - binary_accuracy: 0.6268 - val_loss: 0.6383 - val_auc_8: 0.6802 - val_binary_accuracy: 0.6400\n",
      "Epoch 6/20\n",
      "7260/7260 [==============================] - 19s 3ms/step - loss: 0.6479 - auc_8: 0.6588 - binary_accuracy: 0.6259 - val_loss: 0.6384 - val_auc_8: 0.6796 - val_binary_accuracy: 0.6393\n",
      "Epoch 7/20\n",
      "7260/7260 [==============================] - 19s 3ms/step - loss: 0.6480 - auc_8: 0.6586 - binary_accuracy: 0.6254 - val_loss: 0.6397 - val_auc_8: 0.6799 - val_binary_accuracy: 0.6397\n",
      "Epoch 8/20\n",
      "7260/7260 [==============================] - 19s 3ms/step - loss: 0.6477 - auc_8: 0.6595 - binary_accuracy: 0.6265 - val_loss: 0.6366 - val_auc_8: 0.6802 - val_binary_accuracy: 0.6387\n",
      "Epoch 9/20\n",
      "7260/7260 [==============================] - 19s 3ms/step - loss: 0.6473 - auc_8: 0.6602 - binary_accuracy: 0.6269 - val_loss: 0.6428 - val_auc_8: 0.6789 - val_binary_accuracy: 0.6384\n",
      "Epoch 10/20\n",
      "7260/7260 [==============================] - 19s 3ms/step - loss: 0.6468 - auc_8: 0.6611 - binary_accuracy: 0.6276 - val_loss: 0.6394 - val_auc_8: 0.6784 - val_binary_accuracy: 0.6390\n",
      "Epoch 11/20\n",
      "7260/7260 [==============================] - 19s 3ms/step - loss: 0.6472 - auc_8: 0.6604 - binary_accuracy: 0.6262 - val_loss: 0.6420 - val_auc_8: 0.6801 - val_binary_accuracy: 0.6396\n",
      "Model: 16-0.1\n",
      "Balanced accuracy: 0.6124\n",
      "AUC: 0.6740\n",
      "Epoch 1/20\n",
      "7260/7260 [==============================] - 21s 3ms/step - loss: 0.6573 - auc_9: 0.6379 - binary_accuracy: 0.6126 - val_loss: 0.6445 - val_auc_9: 0.6784 - val_binary_accuracy: 0.6396\n",
      "Epoch 2/20\n",
      "7260/7260 [==============================] - 18s 3ms/step - loss: 0.6552 - auc_9: 0.6434 - binary_accuracy: 0.6161 - val_loss: 0.6425 - val_auc_9: 0.6782 - val_binary_accuracy: 0.6384\n",
      "Epoch 3/20\n",
      "7260/7260 [==============================] - 18s 3ms/step - loss: 0.6551 - auc_9: 0.6437 - binary_accuracy: 0.6158 - val_loss: 0.6442 - val_auc_9: 0.6783 - val_binary_accuracy: 0.6376\n",
      "Epoch 4/20\n",
      "7260/7260 [==============================] - 18s 3ms/step - loss: 0.6542 - auc_9: 0.6453 - binary_accuracy: 0.6171 - val_loss: 0.6431 - val_auc_9: 0.6772 - val_binary_accuracy: 0.6379\n",
      "Epoch 5/20\n",
      "7260/7260 [==============================] - 18s 3ms/step - loss: 0.6533 - auc_9: 0.6472 - binary_accuracy: 0.6182 - val_loss: 0.6427 - val_auc_9: 0.6771 - val_binary_accuracy: 0.6390\n",
      "Model: 16-0.2\n",
      "Balanced accuracy: 0.6109\n",
      "AUC: 0.6717\n",
      "Epoch 1/20\n",
      "7260/7260 [==============================] - 21s 3ms/step - loss: 0.6705 - auc_10: 0.6025 - binary_accuracy: 0.5889 - val_loss: 0.6606 - val_auc_10: 0.6602 - val_binary_accuracy: 0.6281\n",
      "Epoch 2/20\n",
      "7260/7260 [==============================] - 20s 3ms/step - loss: 0.6683 - auc_10: 0.6093 - binary_accuracy: 0.5919 - val_loss: 0.6667 - val_auc_10: 0.6611 - val_binary_accuracy: 0.6122\n",
      "Epoch 3/20\n",
      "7260/7260 [==============================] - 20s 3ms/step - loss: 0.6682 - auc_10: 0.6095 - binary_accuracy: 0.5925 - val_loss: 0.6667 - val_auc_10: 0.6597 - val_binary_accuracy: 0.6224\n",
      "Epoch 4/20\n",
      "7260/7260 [==============================] - 20s 3ms/step - loss: 0.6680 - auc_10: 0.6099 - binary_accuracy: 0.5938 - val_loss: 0.6777 - val_auc_10: 0.6497 - val_binary_accuracy: 0.5559\n",
      "Model: 16-0.5\n",
      "Balanced accuracy: 0.6061\n",
      "AUC: 0.6535\n",
      "Epoch 1/20\n",
      "7260/7260 [==============================] - 21s 3ms/step - loss: 0.6511 - auc_11: 0.6528 - binary_accuracy: 0.6218 - val_loss: 0.6398 - val_auc_11: 0.6773 - val_binary_accuracy: 0.6401\n",
      "Epoch 2/20\n",
      "7260/7260 [==============================] - 19s 3ms/step - loss: 0.6492 - auc_11: 0.6565 - binary_accuracy: 0.6250 - val_loss: 0.6376 - val_auc_11: 0.6797 - val_binary_accuracy: 0.6388\n",
      "Epoch 3/20\n",
      "7260/7260 [==============================] - 19s 3ms/step - loss: 0.6491 - auc_11: 0.6565 - binary_accuracy: 0.6245 - val_loss: 0.6391 - val_auc_11: 0.6794 - val_binary_accuracy: 0.6362\n",
      "Epoch 4/20\n",
      "7260/7260 [==============================] - 19s 3ms/step - loss: 0.6485 - auc_11: 0.6576 - binary_accuracy: 0.6252 - val_loss: 0.6372 - val_auc_11: 0.6791 - val_binary_accuracy: 0.6393\n",
      "Epoch 5/20\n",
      "7260/7260 [==============================] - 19s 3ms/step - loss: 0.6483 - auc_11: 0.6582 - binary_accuracy: 0.6253 - val_loss: 0.6382 - val_auc_11: 0.6796 - val_binary_accuracy: 0.6395\n",
      "Epoch 6/20\n",
      "7260/7260 [==============================] - 19s 3ms/step - loss: 0.6477 - auc_11: 0.6592 - binary_accuracy: 0.6262 - val_loss: 0.6394 - val_auc_11: 0.6799 - val_binary_accuracy: 0.6378\n",
      "Epoch 7/20\n",
      "7260/7260 [==============================] - 19s 3ms/step - loss: 0.6481 - auc_11: 0.6586 - binary_accuracy: 0.6266 - val_loss: 0.6361 - val_auc_11: 0.6801 - val_binary_accuracy: 0.6400\n",
      "Epoch 8/20\n",
      "7260/7260 [==============================] - 19s 3ms/step - loss: 0.6477 - auc_11: 0.6593 - binary_accuracy: 0.6258 - val_loss: 0.6392 - val_auc_11: 0.6800 - val_binary_accuracy: 0.6390\n",
      "Epoch 9/20\n",
      "7260/7260 [==============================] - 19s 3ms/step - loss: 0.6477 - auc_11: 0.6591 - binary_accuracy: 0.6267 - val_loss: 0.6390 - val_auc_11: 0.6791 - val_binary_accuracy: 0.6380\n",
      "Epoch 10/20\n",
      "7260/7260 [==============================] - 19s 3ms/step - loss: 0.6476 - auc_11: 0.6595 - binary_accuracy: 0.6272 - val_loss: 0.6399 - val_auc_11: 0.6795 - val_binary_accuracy: 0.6400\n",
      "Model: 32-0.1\n",
      "Balanced accuracy: 0.6157\n",
      "AUC: 0.6737\n",
      "Epoch 1/20\n",
      "7260/7260 [==============================] - 22s 3ms/step - loss: 0.6571 - auc_12: 0.6390 - binary_accuracy: 0.6139 - val_loss: 0.6460 - val_auc_12: 0.6775 - val_binary_accuracy: 0.6388\n",
      "Epoch 2/20\n",
      "7260/7260 [==============================] - 19s 3ms/step - loss: 0.6554 - auc_12: 0.6427 - binary_accuracy: 0.6156 - val_loss: 0.6440 - val_auc_12: 0.6776 - val_binary_accuracy: 0.6348\n",
      "Epoch 3/20\n",
      "7260/7260 [==============================] - 19s 3ms/step - loss: 0.6544 - auc_12: 0.6449 - binary_accuracy: 0.6168 - val_loss: 0.6417 - val_auc_12: 0.6791 - val_binary_accuracy: 0.6350\n",
      "Epoch 4/20\n",
      "7260/7260 [==============================] - 19s 3ms/step - loss: 0.6545 - auc_12: 0.6447 - binary_accuracy: 0.6157 - val_loss: 0.6443 - val_auc_12: 0.6781 - val_binary_accuracy: 0.6401\n",
      "Epoch 5/20\n",
      "7260/7260 [==============================] - 19s 3ms/step - loss: 0.6540 - auc_12: 0.6457 - binary_accuracy: 0.6170 - val_loss: 0.6406 - val_auc_12: 0.6783 - val_binary_accuracy: 0.6373\n",
      "Epoch 6/20\n",
      "7260/7260 [==============================] - 19s 3ms/step - loss: 0.6541 - auc_12: 0.6456 - binary_accuracy: 0.6167 - val_loss: 0.6486 - val_auc_12: 0.6760 - val_binary_accuracy: 0.6357\n",
      "Epoch 7/20\n",
      "7260/7260 [==============================] - 19s 3ms/step - loss: 0.6536 - auc_12: 0.6468 - binary_accuracy: 0.6171 - val_loss: 0.6565 - val_auc_12: 0.6748 - val_binary_accuracy: 0.6232\n",
      "Epoch 8/20\n",
      "7260/7260 [==============================] - 19s 3ms/step - loss: 0.6534 - auc_12: 0.6473 - binary_accuracy: 0.6189 - val_loss: 0.6600 - val_auc_12: 0.6736 - val_binary_accuracy: 0.6210\n",
      "Model: 32-0.2\n",
      "Balanced accuracy: 0.6100\n",
      "AUC: 0.6716\n",
      "Epoch 1/20\n",
      "7260/7260 [==============================] - 22s 3ms/step - loss: 0.6700 - auc_13: 0.6043 - binary_accuracy: 0.5903 - val_loss: 0.6567 - val_auc_13: 0.6693 - val_binary_accuracy: 0.6174\n",
      "Epoch 2/20\n",
      "7260/7260 [==============================] - 19s 3ms/step - loss: 0.6685 - auc_13: 0.6088 - binary_accuracy: 0.5916 - val_loss: 0.6606 - val_auc_13: 0.6594 - val_binary_accuracy: 0.6289\n",
      "Epoch 3/20\n",
      "7260/7260 [==============================] - 19s 3ms/step - loss: 0.6685 - auc_13: 0.6089 - binary_accuracy: 0.5926 - val_loss: 0.6689 - val_auc_13: 0.6584 - val_binary_accuracy: 0.6182\n",
      "Epoch 4/20\n",
      "7260/7260 [==============================] - 19s 3ms/step - loss: 0.6677 - auc_13: 0.6111 - binary_accuracy: 0.5935 - val_loss: 0.6771 - val_auc_13: 0.6464 - val_binary_accuracy: 0.5609\n",
      "Model: 32-0.5\n",
      "Balanced accuracy: 0.5729\n",
      "AUC: 0.6623\n",
      "Epoch 1/20\n",
      "7260/7260 [==============================] - 27s 3ms/step - loss: 0.6519 - auc_14: 0.6512 - binary_accuracy: 0.6223 - val_loss: 0.6424 - val_auc_14: 0.6787 - val_binary_accuracy: 0.6400\n",
      "Epoch 2/20\n",
      "7260/7260 [==============================] - 25s 3ms/step - loss: 0.6490 - auc_14: 0.6569 - binary_accuracy: 0.6245 - val_loss: 0.6421 - val_auc_14: 0.6783 - val_binary_accuracy: 0.6311\n",
      "Epoch 3/20\n",
      "7260/7260 [==============================] - 25s 3ms/step - loss: 0.6486 - auc_14: 0.6576 - binary_accuracy: 0.6247 - val_loss: 0.6386 - val_auc_14: 0.6796 - val_binary_accuracy: 0.6402\n",
      "Epoch 4/20\n",
      "7260/7260 [==============================] - 25s 3ms/step - loss: 0.6482 - auc_14: 0.6583 - binary_accuracy: 0.6251 - val_loss: 0.6393 - val_auc_14: 0.6797 - val_binary_accuracy: 0.6389\n",
      "Epoch 5/20\n",
      "7260/7260 [==============================] - 25s 3ms/step - loss: 0.6481 - auc_14: 0.6587 - binary_accuracy: 0.6256 - val_loss: 0.6385 - val_auc_14: 0.6787 - val_binary_accuracy: 0.6375\n",
      "Epoch 6/20\n",
      "7260/7260 [==============================] - 25s 3ms/step - loss: 0.6481 - auc_14: 0.6586 - binary_accuracy: 0.6259 - val_loss: 0.6390 - val_auc_14: 0.6799 - val_binary_accuracy: 0.6394\n",
      "Epoch 7/20\n",
      "7260/7260 [==============================] - 25s 3ms/step - loss: 0.6479 - auc_14: 0.6589 - binary_accuracy: 0.6258 - val_loss: 0.6389 - val_auc_14: 0.6800 - val_binary_accuracy: 0.6395\n",
      "Epoch 8/20\n",
      "7260/7260 [==============================] - 25s 3ms/step - loss: 0.6477 - auc_14: 0.6593 - binary_accuracy: 0.6259 - val_loss: 0.6380 - val_auc_14: 0.6806 - val_binary_accuracy: 0.6401\n",
      "Epoch 9/20\n",
      "7260/7260 [==============================] - 25s 3ms/step - loss: 0.6476 - auc_14: 0.6595 - binary_accuracy: 0.6265 - val_loss: 0.6391 - val_auc_14: 0.6800 - val_binary_accuracy: 0.6400\n",
      "Epoch 10/20\n",
      "7260/7260 [==============================] - 25s 3ms/step - loss: 0.6478 - auc_14: 0.6591 - binary_accuracy: 0.6261 - val_loss: 0.6391 - val_auc_14: 0.6803 - val_binary_accuracy: 0.6391\n",
      "Epoch 11/20\n",
      "7260/7260 [==============================] - 25s 3ms/step - loss: 0.6475 - auc_14: 0.6597 - binary_accuracy: 0.6262 - val_loss: 0.6404 - val_auc_14: 0.6801 - val_binary_accuracy: 0.6402\n",
      "Model: 64-0.1\n",
      "Balanced accuracy: 0.6155\n",
      "AUC: 0.6737\n",
      "Epoch 1/20\n",
      "7260/7260 [==============================] - 30s 4ms/step - loss: 0.6575 - auc_15: 0.6382 - binary_accuracy: 0.6128 - val_loss: 0.6434 - val_auc_15: 0.6772 - val_binary_accuracy: 0.6336\n",
      "Epoch 2/20\n",
      "7260/7260 [==============================] - 27s 4ms/step - loss: 0.6554 - auc_15: 0.6426 - binary_accuracy: 0.6152 - val_loss: 0.6425 - val_auc_15: 0.6775 - val_binary_accuracy: 0.6292\n",
      "Epoch 3/20\n",
      "7260/7260 [==============================] - 27s 4ms/step - loss: 0.6547 - auc_15: 0.6443 - binary_accuracy: 0.6169 - val_loss: 0.6408 - val_auc_15: 0.6772 - val_binary_accuracy: 0.6372\n",
      "Epoch 4/20\n",
      "7260/7260 [==============================] - 27s 4ms/step - loss: 0.6547 - auc_15: 0.6439 - binary_accuracy: 0.6158 - val_loss: 0.6414 - val_auc_15: 0.6790 - val_binary_accuracy: 0.6369\n",
      "Epoch 5/20\n",
      "7260/7260 [==============================] - 27s 4ms/step - loss: 0.6540 - auc_15: 0.6457 - binary_accuracy: 0.6176 - val_loss: 0.6448 - val_auc_15: 0.6776 - val_binary_accuracy: 0.6386\n",
      "Epoch 6/20\n",
      "7260/7260 [==============================] - 27s 4ms/step - loss: 0.6539 - auc_15: 0.6461 - binary_accuracy: 0.6163 - val_loss: 0.6411 - val_auc_15: 0.6771 - val_binary_accuracy: 0.6376\n",
      "Model: 64-0.2\n",
      "Balanced accuracy: 0.6109\n",
      "AUC: 0.6716\n",
      "Epoch 1/20\n",
      "7260/7260 [==============================] - 29s 4ms/step - loss: 0.6704 - auc_16: 0.6033 - binary_accuracy: 0.5897 - val_loss: 0.6575 - val_auc_16: 0.6631 - val_binary_accuracy: 0.6243\n",
      "Epoch 2/20\n",
      "7260/7260 [==============================] - 26s 4ms/step - loss: 0.6693 - auc_16: 0.6063 - binary_accuracy: 0.5909 - val_loss: 0.6566 - val_auc_16: 0.6630 - val_binary_accuracy: 0.6267\n",
      "Epoch 3/20\n",
      "7260/7260 [==============================] - 26s 4ms/step - loss: 0.6686 - auc_16: 0.6084 - binary_accuracy: 0.5920 - val_loss: 0.6664 - val_auc_16: 0.6538 - val_binary_accuracy: 0.6219\n",
      "Epoch 4/20\n",
      "7260/7260 [==============================] - 26s 4ms/step - loss: 0.6676 - auc_16: 0.6115 - binary_accuracy: 0.5937 - val_loss: 0.6846 - val_auc_16: 0.6513 - val_binary_accuracy: 0.5027\n",
      "Epoch 5/20\n",
      "7260/7260 [==============================] - 26s 4ms/step - loss: 0.6676 - auc_16: 0.6114 - binary_accuracy: 0.5944 - val_loss: 0.7110 - val_auc_16: 0.6292 - val_binary_accuracy: 0.4781\n",
      "Model: 64-0.5\n",
      "Balanced accuracy: 0.5893\n",
      "AUC: 0.6562\n",
      "Epoch 1/20\n",
      "7260/7260 [==============================] - 47s 6ms/step - loss: 0.6521 - auc_17: 0.6505 - binary_accuracy: 0.6219 - val_loss: 0.6366 - val_auc_17: 0.6796 - val_binary_accuracy: 0.6410\n",
      "Epoch 2/20\n",
      "7260/7260 [==============================] - 44s 6ms/step - loss: 0.6495 - auc_17: 0.6557 - binary_accuracy: 0.6236 - val_loss: 0.6444 - val_auc_17: 0.6789 - val_binary_accuracy: 0.6377\n",
      "Epoch 3/20\n",
      "7260/7260 [==============================] - 44s 6ms/step - loss: 0.6486 - auc_17: 0.6575 - binary_accuracy: 0.6255 - val_loss: 0.6401 - val_auc_17: 0.6777 - val_binary_accuracy: 0.6353\n",
      "Epoch 4/20\n",
      "7260/7260 [==============================] - 44s 6ms/step - loss: 0.6486 - auc_17: 0.6575 - binary_accuracy: 0.6255 - val_loss: 0.6385 - val_auc_17: 0.6804 - val_binary_accuracy: 0.6415\n",
      "Model: 128-0.1\n",
      "Balanced accuracy: 0.6161\n",
      "AUC: 0.6734\n",
      "Epoch 1/20\n",
      "7260/7260 [==============================] - 47s 6ms/step - loss: 0.6575 - auc_18: 0.6384 - binary_accuracy: 0.6142 - val_loss: 0.6426 - val_auc_18: 0.6761 - val_binary_accuracy: 0.6366\n",
      "Epoch 2/20\n",
      "7260/7260 [==============================] - 47s 6ms/step - loss: 0.6555 - auc_18: 0.6425 - binary_accuracy: 0.6161 - val_loss: 0.6410 - val_auc_18: 0.6784 - val_binary_accuracy: 0.6384\n",
      "Epoch 3/20\n",
      "7260/7260 [==============================] - 47s 6ms/step - loss: 0.6550 - auc_18: 0.6435 - binary_accuracy: 0.6154 - val_loss: 0.6413 - val_auc_18: 0.6772 - val_binary_accuracy: 0.6377\n",
      "Epoch 4/20\n",
      "7260/7260 [==============================] - 47s 6ms/step - loss: 0.6546 - auc_18: 0.6445 - binary_accuracy: 0.6158 - val_loss: 0.6408 - val_auc_18: 0.6755 - val_binary_accuracy: 0.6348\n",
      "Epoch 5/20\n",
      "7260/7260 [==============================] - 48s 7ms/step - loss: 0.6539 - auc_18: 0.6460 - binary_accuracy: 0.6175 - val_loss: 0.6465 - val_auc_18: 0.6784 - val_binary_accuracy: 0.6397\n",
      "Epoch 6/20\n",
      "7260/7260 [==============================] - 47s 6ms/step - loss: 0.6541 - auc_18: 0.6455 - binary_accuracy: 0.6165 - val_loss: 0.6457 - val_auc_18: 0.6763 - val_binary_accuracy: 0.6379\n",
      "Epoch 7/20\n",
      "7260/7260 [==============================] - 47s 6ms/step - loss: 0.6540 - auc_18: 0.6459 - binary_accuracy: 0.6179 - val_loss: 0.6541 - val_auc_18: 0.6748 - val_binary_accuracy: 0.6319\n",
      "Model: 128-0.2\n",
      "Balanced accuracy: 0.6058\n",
      "AUC: 0.6695\n",
      "Epoch 1/20\n",
      "7260/7260 [==============================] - 48s 6ms/step - loss: 0.6705 - auc_19: 0.6027 - binary_accuracy: 0.5877 - val_loss: 0.6578 - val_auc_19: 0.6693 - val_binary_accuracy: 0.6223\n",
      "Epoch 2/20\n",
      "7260/7260 [==============================] - 44s 6ms/step - loss: 0.6686 - auc_19: 0.6084 - binary_accuracy: 0.5916 - val_loss: 0.6581 - val_auc_19: 0.6659 - val_binary_accuracy: 0.6326\n",
      "Epoch 3/20\n",
      "7260/7260 [==============================] - 44s 6ms/step - loss: 0.6680 - auc_19: 0.6102 - binary_accuracy: 0.5935 - val_loss: 0.6667 - val_auc_19: 0.6576 - val_binary_accuracy: 0.6275\n",
      "Epoch 4/20\n",
      "7260/7260 [==============================] - 44s 6ms/step - loss: 0.6680 - auc_19: 0.6104 - binary_accuracy: 0.5920 - val_loss: 0.6875 - val_auc_19: 0.6538 - val_binary_accuracy: 0.4950\n",
      "Model: 128-0.5\n",
      "Balanced accuracy: 0.5815\n",
      "AUC: 0.6621\n"
     ]
    }
   ],
   "source": [
    "# Grid search\n",
    "aucs = []\n",
    "for n_units in [8, 16, 32, 64, 128]:\n",
    "    for d_rate in [0.1, 0.2, 0.5]:\n",
    "        params['n_units'] = n_units\n",
    "        params['dropout'] = d_rate\n",
    "        model = binary.create_model(N_FEATURES, params, recurrent_layer='LSTM')\n",
    "        binary.fit_model(model, params, f'{n_units}-{d_rate}', X_train, y_train, X_val, y_val)\n",
    "        _, auc = binary.evaluate_model(model, params, f'{n_units}-{d_rate}', X_test, y_test)\n",
    "        aucs.append((n_units, d_rate, auc))"
   ]
  },
  {
   "cell_type": "code",
   "execution_count": 22,
   "metadata": {
    "id": "uL4RolSCrJ_v"
   },
   "outputs": [],
   "source": [
    "aucs = pd.DataFrame(aucs, columns=['units', 'dropout', 'AUC'])"
   ]
  },
  {
   "cell_type": "code",
   "execution_count": 23,
   "metadata": {
    "colab": {
     "base_uri": "https://localhost:8080/",
     "height": 297
    },
    "id": "ss7h5YP_wyVX",
    "outputId": "96c3d704-7839-4e36-a2be-538055f65242"
   },
   "outputs": [
    {
     "data": {
      "image/png": "[encoded data removed]",
      "text/plain": [
       "<Figure size 432x288 with 2 Axes>"
      ]
     },
     "metadata": {
      "needs_background": "light"
     },
     "output_type": "display_data"
    }
   ],
   "source": [
    "fig, axs = plt.subplots(1, 2)\n",
    "\n",
    "sns.barplot(data=aucs, x='units', y='AUC', ax=axs[0])\n",
    "axs[0].set_ylim(0.65, 0.68)\n",
    "axs[0].set_title('LSTM AUC over # of recurrent units')\n",
    "\n",
    "sns.barplot(data=aucs, x='dropout', y='AUC', ax=axs[1])\n",
    "axs[1].set_ylim(0.65, 0.68)\n",
    "axs[1].set_title('LSTM AUC over dropout rate')\n",
    "\n",
    "fig.tight_layout()\n",
    "plt.show()"
   ]
  },
  {
   "cell_type": "code",
   "execution_count": 24,
   "metadata": {
    "colab": {
     "base_uri": "https://localhost:8080/"
    },
    "id": "s62fRn7Byin2",
    "outputId": "7798ae0d-0de5-4b24-c41d-6b53cf9f525c"
   },
   "outputs": [
    {
     "name": "stdout",
     "output_type": "stream",
     "text": [
      "Best parameters:\n"
     ]
    },
    {
     "data": {
      "text/plain": [
       "units      16.0\n",
       "dropout     0.1\n",
       "Name: 3, dtype: float64"
      ]
     },
     "execution_count": 24,
     "metadata": {},
     "output_type": "execute_result"
    }
   ],
   "source": [
    "print('Best parameters:')\n",
    "aucs.sort_values(by='AUC', ascending=False).iloc[0][['units', 'dropout']]"
   ]
  },
  {
   "cell_type": "code",
   "execution_count": null,
   "metadata": {},
   "outputs": [],
   "source": []
  },
  {
   "cell_type": "code",
   "execution_count": null,
   "metadata": {},
   "outputs": [],
   "source": []
  }
 ],
 "metadata": {
  "accelerator": "GPU",
  "colab": {
   "collapsed_sections": [],
   "name": "3-time-series.ipynb",
   "provenance": []
  },
  "kernelspec": {
   "display_name": "Python 3 (ipykernel)",
   "language": "python",
   "name": "python3"
  },
  "language_info": {
   "codemirror_mode": {
    "name": "ipython",
    "version": 3
   },
   "file_extension": ".py",
   "mimetype": "text/x-python",
   "name": "python",
   "nbconvert_exporter": "python",
   "pygments_lexer": "ipython3",
   "version": "3.8.10"
  }
 },
 "nbformat": 4,
 "nbformat_minor": 4
}
