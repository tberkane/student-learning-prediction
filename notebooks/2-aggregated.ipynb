{
 "cells": [
  {
   "cell_type": "markdown",
   "metadata": {
    "id": "xzbZgko9DOcL",
    "tags": []
   },
   "source": [
    "## Predictions on aggregated data\n",
    "\n",
    "**Research question:** Predicting student reflection responses to the \"How do you feel about your learning progress\" question from their session interactions (response time, response correctness) and from the characteristics of the session (number of questions, feedback mode, time of the day, etc.)"
   ]
  },
  {
   "cell_type": "code",
   "execution_count": 1,
   "metadata": {
    "id": "LaJ59ZOPGI5N"
   },
   "outputs": [],
   "source": [
    "import numpy as np\n",
    "import pandas as pd\n",
    "import seaborn as sns\n",
    "import matplotlib.pyplot as plt\n",
    "\n",
    "DATA_DIR = '../data/processed' # Change accordingly\n",
    "\n",
    "from modules.models import aggregated\n",
    "\n",
    "# Machine Learning\n",
    "from sklearn.model_selection import train_test_split, RandomizedSearchCV, GridSearchCV\n",
    "from sklearn.pipeline import Pipeline\n",
    "from sklearn.preprocessing import StandardScaler\n",
    "from sklearn.linear_model import LogisticRegression\n",
    "from sklearn.svm import LinearSVC, SVC\n",
    "from sklearn.ensemble import RandomForestClassifier\n",
    "from sklearn.metrics import accuracy_score, balanced_accuracy_score, roc_auc_score"
   ]
  },
  {
   "cell_type": "code",
   "execution_count": null,
   "metadata": {
    "id": "c1ntfmX5NUYO"
   },
   "outputs": [],
   "source": [
    "# Run this cell if working on Colab\n",
    "from google.colab import drive\n",
    "drive.mount('/content/drive')\n",
    "DATA_DIR = '/content/drive/MyDrive/Classtime'"
   ]
  },
  {
   "cell_type": "markdown",
   "metadata": {
    "id": "cRRbTISyCFIp"
   },
   "source": [
    "## Building our dataframe\n",
    "We have generated a dataset of all participant answers with session information and question information such that these participants have answered the relevant feeling of learning question. Their features have been aggregated into one row per participant with which we will perform predictions."
   ]
  },
  {
   "cell_type": "code",
   "execution_count": 3,
   "metadata": {
    "colab": {
     "base_uri": "https://localhost:8080/",
     "height": 270
    },
    "id": "DlqXrhERNRKS",
    "outputId": "80e257de-6cab-413f-f52b-a0a30b5e9ab5"
   },
   "outputs": [
    {
     "data": {
      "text/html": [
       "\n",
       "  <div id=\"df-2518a0fb-9892-4016-95fb-a39d726c1998\">\n",
       "    <div class=\"colab-df-container\">\n",
       "      <div>\n",
       "<style scoped>\n",
       "    .dataframe tbody tr th:only-of-type {\n",
       "        vertical-align: middle;\n",
       "    }\n",
       "\n",
       "    .dataframe tbody tr th {\n",
       "        vertical-align: top;\n",
       "    }\n",
       "\n",
       "    .dataframe thead th {\n",
       "        text-align: right;\n",
       "    }\n",
       "</style>\n",
       "<table border=\"1\" class=\"dataframe\">\n",
       "  <thead>\n",
       "    <tr style=\"text-align: right;\">\n",
       "      <th></th>\n",
       "      <th>min_answer_time</th>\n",
       "      <th>max_answer_time</th>\n",
       "      <th>mean_answer_time</th>\n",
       "      <th>std_answer_time</th>\n",
       "      <th>mode</th>\n",
       "      <th>feedback_mode</th>\n",
       "      <th>force_reflection</th>\n",
       "      <th>timer</th>\n",
       "      <th>is_solo</th>\n",
       "      <th>title_lang</th>\n",
       "      <th>title_len</th>\n",
       "      <th>title_topic</th>\n",
       "      <th>mean_video</th>\n",
       "      <th>mean_image</th>\n",
       "      <th>mean_correctness</th>\n",
       "      <th>std_correctness</th>\n",
       "      <th>n_answers</th>\n",
       "      <th>response</th>\n",
       "    </tr>\n",
       "  </thead>\n",
       "  <tbody>\n",
       "    <tr>\n",
       "      <th>0</th>\n",
       "      <td>0.0</td>\n",
       "      <td>0.000019</td>\n",
       "      <td>6.876232e-06</td>\n",
       "      <td>7.179509e-06</td>\n",
       "      <td>0.0</td>\n",
       "      <td>0.0</td>\n",
       "      <td>0.0</td>\n",
       "      <td>0.041667</td>\n",
       "      <td>0.0</td>\n",
       "      <td>0.914894</td>\n",
       "      <td>0.164062</td>\n",
       "      <td>1.00</td>\n",
       "      <td>0.0</td>\n",
       "      <td>0.333333</td>\n",
       "      <td>1.000000</td>\n",
       "      <td>0.000000</td>\n",
       "      <td>12</td>\n",
       "      <td>happy</td>\n",
       "    </tr>\n",
       "    <tr>\n",
       "      <th>1</th>\n",
       "      <td>0.0</td>\n",
       "      <td>0.000643</td>\n",
       "      <td>5.444873e-05</td>\n",
       "      <td>1.854787e-04</td>\n",
       "      <td>0.0</td>\n",
       "      <td>0.0</td>\n",
       "      <td>0.0</td>\n",
       "      <td>0.024369</td>\n",
       "      <td>0.0</td>\n",
       "      <td>0.159574</td>\n",
       "      <td>0.109375</td>\n",
       "      <td>1.00</td>\n",
       "      <td>0.0</td>\n",
       "      <td>0.000000</td>\n",
       "      <td>0.833333</td>\n",
       "      <td>0.389249</td>\n",
       "      <td>12</td>\n",
       "      <td>happy</td>\n",
       "    </tr>\n",
       "    <tr>\n",
       "      <th>2</th>\n",
       "      <td>0.0</td>\n",
       "      <td>0.000001</td>\n",
       "      <td>6.062629e-07</td>\n",
       "      <td>5.107490e-07</td>\n",
       "      <td>0.0</td>\n",
       "      <td>1.0</td>\n",
       "      <td>0.0</td>\n",
       "      <td>0.024369</td>\n",
       "      <td>0.0</td>\n",
       "      <td>0.042553</td>\n",
       "      <td>0.085938</td>\n",
       "      <td>1.00</td>\n",
       "      <td>0.0</td>\n",
       "      <td>0.000000</td>\n",
       "      <td>0.861667</td>\n",
       "      <td>0.220945</td>\n",
       "      <td>6</td>\n",
       "      <td>neutral</td>\n",
       "    </tr>\n",
       "    <tr>\n",
       "      <th>3</th>\n",
       "      <td>0.0</td>\n",
       "      <td>0.000027</td>\n",
       "      <td>6.914540e-06</td>\n",
       "      <td>8.718291e-06</td>\n",
       "      <td>0.0</td>\n",
       "      <td>0.0</td>\n",
       "      <td>0.0</td>\n",
       "      <td>0.024369</td>\n",
       "      <td>0.0</td>\n",
       "      <td>0.914894</td>\n",
       "      <td>0.265625</td>\n",
       "      <td>1.00</td>\n",
       "      <td>0.0</td>\n",
       "      <td>0.272727</td>\n",
       "      <td>0.788182</td>\n",
       "      <td>0.401916</td>\n",
       "      <td>11</td>\n",
       "      <td>upset</td>\n",
       "    </tr>\n",
       "    <tr>\n",
       "      <th>4</th>\n",
       "      <td>0.0</td>\n",
       "      <td>0.000011</td>\n",
       "      <td>3.607664e-06</td>\n",
       "      <td>3.019396e-06</td>\n",
       "      <td>0.0</td>\n",
       "      <td>0.0</td>\n",
       "      <td>0.0</td>\n",
       "      <td>0.062500</td>\n",
       "      <td>0.0</td>\n",
       "      <td>0.702128</td>\n",
       "      <td>0.320312</td>\n",
       "      <td>0.75</td>\n",
       "      <td>0.0</td>\n",
       "      <td>0.200000</td>\n",
       "      <td>0.795333</td>\n",
       "      <td>0.327804</td>\n",
       "      <td>15</td>\n",
       "      <td>neutral</td>\n",
       "    </tr>\n",
       "  </tbody>\n",
       "</table>\n",
       "</div>\n",
       "      <button class=\"colab-df-convert\" onclick=\"convertToInteractive('df-2518a0fb-9892-4016-95fb-a39d726c1998')\"\n",
       "              title=\"Convert this dataframe to an interactive table.\"\n",
       "              style=\"display:none;\">\n",
       "        \n",
       "  <svg xmlns=\"http://www.w3.org/2000/svg\" height=\"24px\"viewBox=\"0 0 24 24\"\n",
       "       width=\"24px\">\n",
       "    <path d=\"M0 0h24v24H0V0z\" fill=\"none\"/>\n",
       "    <path d=\"M18.56 5.44l.94 2.06.94-2.06 2.06-.94-2.06-.94-.94-2.06-.94 2.06-2.06.94zm-11 1L8.5 8.5l.94-2.06 2.06-.94-2.06-.94L8.5 2.5l-.94 2.06-2.06.94zm10 10l.94 2.06.94-2.06 2.06-.94-2.06-.94-.94-2.06-.94 2.06-2.06.94z\"/><path d=\"M17.41 7.96l-1.37-1.37c-.4-.4-.92-.59-1.43-.59-.52 0-1.04.2-1.43.59L10.3 9.45l-7.72 7.72c-.78.78-.78 2.05 0 2.83L4 21.41c.39.39.9.59 1.41.59.51 0 1.02-.2 1.41-.59l7.78-7.78 2.81-2.81c.8-.78.8-2.07 0-2.86zM5.41 20L4 18.59l7.72-7.72 1.47 1.35L5.41 20z\"/>\n",
       "  </svg>\n",
       "      </button>\n",
       "      \n",
       "  <style>\n",
       "    .colab-df-container {\n",
       "      display:flex;\n",
       "      flex-wrap:wrap;\n",
       "      gap: 12px;\n",
       "    }\n",
       "\n",
       "    .colab-df-convert {\n",
       "      background-color: #E8F0FE;\n",
       "      border: none;\n",
       "      border-radius: 50%;\n",
       "      cursor: pointer;\n",
       "      display: none;\n",
       "      fill: #1967D2;\n",
       "      height: 32px;\n",
       "      padding: 0 0 0 0;\n",
       "      width: 32px;\n",
       "    }\n",
       "\n",
       "    .colab-df-convert:hover {\n",
       "      background-color: #E2EBFA;\n",
       "      box-shadow: 0px 1px 2px rgba(60, 64, 67, 0.3), 0px 1px 3px 1px rgba(60, 64, 67, 0.15);\n",
       "      fill: #174EA6;\n",
       "    }\n",
       "\n",
       "    [theme=dark] .colab-df-convert {\n",
       "      background-color: #3B4455;\n",
       "      fill: #D2E3FC;\n",
       "    }\n",
       "\n",
       "    [theme=dark] .colab-df-convert:hover {\n",
       "      background-color: #434B5C;\n",
       "      box-shadow: 0px 1px 3px 1px rgba(0, 0, 0, 0.15);\n",
       "      filter: drop-shadow(0px 1px 2px rgba(0, 0, 0, 0.3));\n",
       "      fill: #FFFFFF;\n",
       "    }\n",
       "  </style>\n",
       "\n",
       "      <script>\n",
       "        const buttonEl =\n",
       "          document.querySelector('#df-2518a0fb-9892-4016-95fb-a39d726c1998 button.colab-df-convert');\n",
       "        buttonEl.style.display =\n",
       "          google.colab.kernel.accessAllowed ? 'block' : 'none';\n",
       "\n",
       "        async function convertToInteractive(key) {\n",
       "          const element = document.querySelector('#df-2518a0fb-9892-4016-95fb-a39d726c1998');\n",
       "          const dataTable =\n",
       "            await google.colab.kernel.invokeFunction('convertToInteractive',\n",
       "                                                     [key], {});\n",
       "          if (!dataTable) return;\n",
       "\n",
       "          const docLinkHtml = 'Like what you see? Visit the ' +\n",
       "            '<a target=\"_blank\" href=https://colab.research.google.com/notebooks/data_table.ipynb>data table notebook</a>'\n",
       "            + ' to learn more about interactive tables.';\n",
       "          element.innerHTML = '';\n",
       "          dataTable['output_type'] = 'display_data';\n",
       "          await google.colab.output.renderOutput(dataTable, element);\n",
       "          const docLink = document.createElement('div');\n",
       "          docLink.innerHTML = docLinkHtml;\n",
       "          element.appendChild(docLink);\n",
       "        }\n",
       "      </script>\n",
       "    </div>\n",
       "  </div>\n",
       "  "
      ],
      "text/plain": [
       "   min_answer_time  max_answer_time  mean_answer_time  std_answer_time  mode  \\\n",
       "0              0.0         0.000019      6.876232e-06     7.179509e-06   0.0   \n",
       "1              0.0         0.000643      5.444873e-05     1.854787e-04   0.0   \n",
       "2              0.0         0.000001      6.062629e-07     5.107490e-07   0.0   \n",
       "3              0.0         0.000027      6.914540e-06     8.718291e-06   0.0   \n",
       "4              0.0         0.000011      3.607664e-06     3.019396e-06   0.0   \n",
       "\n",
       "   feedback_mode  force_reflection     timer  is_solo  title_lang  title_len  \\\n",
       "0            0.0               0.0  0.041667      0.0    0.914894   0.164062   \n",
       "1            0.0               0.0  0.024369      0.0    0.159574   0.109375   \n",
       "2            1.0               0.0  0.024369      0.0    0.042553   0.085938   \n",
       "3            0.0               0.0  0.024369      0.0    0.914894   0.265625   \n",
       "4            0.0               0.0  0.062500      0.0    0.702128   0.320312   \n",
       "\n",
       "   title_topic  mean_video  mean_image  mean_correctness  std_correctness  \\\n",
       "0         1.00         0.0    0.333333          1.000000         0.000000   \n",
       "1         1.00         0.0    0.000000          0.833333         0.389249   \n",
       "2         1.00         0.0    0.000000          0.861667         0.220945   \n",
       "3         1.00         0.0    0.272727          0.788182         0.401916   \n",
       "4         0.75         0.0    0.200000          0.795333         0.327804   \n",
       "\n",
       "   n_answers response  \n",
       "0         12    happy  \n",
       "1         12    happy  \n",
       "2          6  neutral  \n",
       "3         11    upset  \n",
       "4         15  neutral  "
      ]
     },
     "execution_count": 3,
     "metadata": {},
     "output_type": "execute_result"
    }
   ],
   "source": [
    "# Load preprocessed dataset\n",
    "df = pd.read_csv('{}/participants_aggregated.csv.gz'.format(DATA_DIR))\n",
    "df.drop(labels=['participant_id'], axis='columns', inplace=True)\n",
    "df.head()"
   ]
  },
  {
   "cell_type": "markdown",
   "metadata": {
    "id": "imjlsyA5Cd4f"
   },
   "source": [
    "## Model training and prediction"
   ]
  },
  {
   "cell_type": "code",
   "execution_count": 4,
   "metadata": {
    "id": "yRYUaV5ZNRKW"
   },
   "outputs": [],
   "source": [
    "# Target label\n",
    "y = df.pop('response')\n",
    "# Features\n",
    "X = df.to_numpy()"
   ]
  },
  {
   "cell_type": "markdown",
   "metadata": {
    "id": "UZxqy-_DGvOf"
   },
   "source": [
    "To compare models, we will use accuracy (regular and balanced) as an evaluation metric. We also compare our model performances to a baseline which simply predicts the most frequent class (\"happy” in our case), which gives an accuracy of about 0.5604 and a balanced accuracy of 0.3333..."
   ]
  },
  {
   "cell_type": "markdown",
   "metadata": {
    "id": "JI-XqYveHNaJ"
   },
   "source": [
    "#### Baseline"
   ]
  },
  {
   "cell_type": "code",
   "execution_count": 5,
   "metadata": {
    "colab": {
     "base_uri": "https://localhost:8080/"
    },
    "id": "AZyRdrTcHG1S",
    "outputId": "df1b47e4-c073-4d03-83e1-e4395c06e096"
   },
   "outputs": [
    {
     "data": {
      "text/plain": [
       "happy      453498\n",
       "neutral    243852\n",
       "upset      111874\n",
       "Name: response, dtype: int64"
      ]
     },
     "execution_count": 5,
     "metadata": {},
     "output_type": "execute_result"
    }
   ],
   "source": [
    "y.value_counts()"
   ]
  },
  {
   "cell_type": "code",
   "execution_count": 6,
   "metadata": {
    "colab": {
     "base_uri": "https://localhost:8080/"
    },
    "id": "hEHNFkHHHSOe",
    "outputId": "227cb237-84bb-43a4-984d-084b989de8b0"
   },
   "outputs": [
    {
     "name": "stdout",
     "output_type": "stream",
     "text": [
      "Baseline accuracy = 0.5604\n"
     ]
    }
   ],
   "source": [
    "print(f\"Baseline accuracy = {y.value_counts()[0]/len(y):.4f}\")"
   ]
  },
  {
   "cell_type": "code",
   "execution_count": 8,
   "metadata": {
    "colab": {
     "base_uri": "https://localhost:8080/"
    },
    "id": "XKon5PfEsUAT",
    "outputId": "5147c30b-d656-4cf2-adfa-616455545c06"
   },
   "outputs": [
    {
     "name": "stdout",
     "output_type": "stream",
     "text": [
      "Baseline balanced accuracy = 0.3333\n"
     ]
    }
   ],
   "source": [
    "pred = ['happy'] * len(y)\n",
    "print(f\"Baseline balanced accuracy = {balanced_accuracy_score(y, pred):.4f}\")"
   ]
  },
  {
   "cell_type": "markdown",
   "metadata": {
    "id": "IPKn0NNGHQCd",
    "tags": []
   },
   "source": [
    "#### Classification\n",
    "We first evaluate classification models on the prediction task"
   ]
  },
  {
   "cell_type": "code",
   "execution_count": 9,
   "metadata": {
    "id": "QS663PASNRKb"
   },
   "outputs": [],
   "source": [
    "models = {\n",
    "    'LR': LogisticRegression(random_state=123, n_jobs=-1),\n",
    "    'SVM': LinearSVC(random_state=123, dual=False),\n",
    "    'RF': RandomForestClassifier(random_state=123, n_jobs=-1)\n",
    "}\n",
    "\n",
    "scalers = {\n",
    "    StandardScaler()\n",
    "}\n",
    "\n",
    "param_grid = {\n",
    "    'LR': {\n",
    "        'model__multi_class': ['ovr', 'multinomial'],\n",
    "        'model__C': np.logspace(-4, 4, 20)\n",
    "    },\n",
    "    'SVM': {\n",
    "        'model__penalty': ['l1', 'l2'],\n",
    "        'model__C': np.logspace(-4, 4, 20)\n",
    "    },\n",
    "    'RF': {\n",
    "        'model__n_estimators': [int(x) for x in np.linspace(start = 50, stop = 150, num = 5)],\n",
    "        'model__min_samples_split': [2, 5, 10],\n",
    "        'model__min_samples_leaf': [1, 2, 4]\n",
    "    }\n",
    "}"
   ]
  },
  {
   "cell_type": "code",
   "execution_count": 16,
   "metadata": {
    "colab": {
     "base_uri": "https://localhost:8080/"
    },
    "id": "H7Qh_G9UNRKc",
    "outputId": "ce427aac-278f-43db-a5a6-bb660a3ce7b4"
   },
   "outputs": [
    {
     "name": "stdout",
     "output_type": "stream",
     "text": [
      "StandardScaler() LR\n",
      "Fitting 5 folds for each of 40 candidates, totalling 200 fits\n",
      "StandardScaler() SVM\n",
      "Fitting 5 folds for each of 40 candidates, totalling 200 fits\n",
      "StandardScaler() RF\n",
      "Fitting 5 folds for each of 45 candidates, totalling 225 fits\n"
     ]
    }
   ],
   "source": [
    "results_list = []\n",
    "for scaler in scalers:\n",
    "    for name in models.keys():\n",
    "        print(scaler, name)\n",
    "        model = models[name]\n",
    "        params = param_grid[name]\n",
    "        \n",
    "        steps = [('scaler', scaler),\n",
    "                 ('model', model)]\n",
    "        pipeline = Pipeline(steps)\n",
    "        scoring = {\"Accuracy\": 'accuracy', \"Balanced\": 'balanced_accuracy'}\n",
    "        # Number of folds can be tuned\n",
    "        search = GridSearchCV(pipeline, params, cv=5, scoring=scoring,\n",
    "                              refit=\"Balanced\", verbose=1)\n",
    "        search.fit(X, y)\n",
    "        results = (model, name, scaler, search.best_score_, search.best_params_, search.cv_results_)\n",
    "        results_list.append(results)\n",
    "results_df = pd.DataFrame(results_list, columns=['model', 'name', 'scaler', 'score', 'params', 'results']).sort_values('score', ascending=False)"
   ]
  },
  {
   "cell_type": "code",
   "execution_count": 79,
   "metadata": {
    "colab": {
     "base_uri": "https://localhost:8080/",
     "height": 294
    },
    "id": "Dwj-RgHwAtoI",
    "outputId": "54bbd645-ca57-44da-bca0-f9190b313642"
   },
   "outputs": [
    {
     "data": {
      "image/png": "[encoded data removed]",
      "text/plain": [
       "<Figure size 432x288 with 2 Axes>"
      ]
     },
     "metadata": {
      "needs_background": "light"
     },
     "output_type": "display_data"
    }
   ],
   "source": [
    "# Extract cross validation results\n",
    "cv_results = pd.json_normalize(results_df.results).set_index(results_df.name)\n",
    "cv_results['max_Balanced'] = cv_results.mean_test_Balanced.apply(lambda a: np.max(a))\n",
    "cv_results['min_Balanced'] = cv_results.mean_test_Balanced.apply(lambda a: np.min(a))\n",
    "cv_results['max_Accuracy'] = cv_results.mean_test_Accuracy.apply(lambda a: np.max(a))\n",
    "cv_results['min_Accuracy'] = cv_results.mean_test_Accuracy.apply(lambda a: np.min(a))\n",
    "\n",
    "# Barplot with min-max error bars\n",
    "def min_max_bar(ax, title, cv_results, y_lim, baseline):\n",
    "    sns.barplot(data=cv_results[f'mean_test_{title}'], ax=ax, ci=None)\n",
    "    ax.set_title(title)\n",
    "    ax.set_ylim(y_lim[0], y_lim[1])\n",
    "    ax.axhline(baseline, color='red')\n",
    "    ax.text(2.55, baseline, 'Baseline', color='red')\n",
    "    ax.vlines([0, 1, 2], cv_results[f'min_{title}'], cv_results[f'max_{title}'], color='k')\n",
    "    ax.set_xticklabels(cv_results.index)\n",
    "    ax.set_ylabel('Accuracy')\n",
    "\n",
    "fig, axs = plt.subplots(1, 2)\n",
    "fig.suptitle('Model normal vs. balanced accuracy', x=1.25)\n",
    "min_max_bar(axs[0], 'Accuracy', cv_results, (0.3, 0.6), 0.5604)\n",
    "min_max_bar(axs[1], 'Balanced', cv_results, (0., 0.45), 0.3333)\n",
    "\n",
    "# Adjust spacing between subplots\n",
    "plt.subplots_adjust(right=2.5)\n",
    "plt.show()"
   ]
  },
  {
   "cell_type": "markdown",
   "metadata": {
    "id": "-1Grz3-ZAYWG"
   },
   "source": [
    "Random forests seem to have the best improvement of our considered models, which all improve upon the baseline in terms of normal and balanced accuracy. Random forests, however, seem to best perform in terms of balanced classification. That is, they perform better for all classes. In terms of normal accuracy, performance gains are only marginal (**note the small range of the y-axis**) compared to the computational cost."
   ]
  },
  {
   "cell_type": "code",
   "execution_count": 19,
   "metadata": {
    "colab": {
     "base_uri": "https://localhost:8080/",
     "height": 161
    },
    "id": "CDyei61yTAjS",
    "outputId": "a5af1b90-04c5-4465-9ef2-42de07701354"
   },
   "outputs": [
    {
     "name": "stdout",
     "output_type": "stream",
     "text": [
      "Best scores (balanced accuracy):\n"
     ]
    },
    {
     "data": {
      "text/html": [
       "\n",
       "  <div id=\"df-4cad0d82-4f69-482e-83fe-75fecfc044a1\">\n",
       "    <div class=\"colab-df-container\">\n",
       "      <div>\n",
       "<style scoped>\n",
       "    .dataframe tbody tr th:only-of-type {\n",
       "        vertical-align: middle;\n",
       "    }\n",
       "\n",
       "    .dataframe tbody tr th {\n",
       "        vertical-align: top;\n",
       "    }\n",
       "\n",
       "    .dataframe thead th {\n",
       "        text-align: right;\n",
       "    }\n",
       "</style>\n",
       "<table border=\"1\" class=\"dataframe\">\n",
       "  <thead>\n",
       "    <tr style=\"text-align: right;\">\n",
       "      <th></th>\n",
       "      <th>name</th>\n",
       "      <th>score</th>\n",
       "    </tr>\n",
       "  </thead>\n",
       "  <tbody>\n",
       "    <tr>\n",
       "      <th>2</th>\n",
       "      <td>RF</td>\n",
       "      <td>0.398847</td>\n",
       "    </tr>\n",
       "    <tr>\n",
       "      <th>0</th>\n",
       "      <td>LR</td>\n",
       "      <td>0.387042</td>\n",
       "    </tr>\n",
       "    <tr>\n",
       "      <th>1</th>\n",
       "      <td>SVM</td>\n",
       "      <td>0.379540</td>\n",
       "    </tr>\n",
       "  </tbody>\n",
       "</table>\n",
       "</div>\n",
       "      <button class=\"colab-df-convert\" onclick=\"convertToInteractive('df-4cad0d82-4f69-482e-83fe-75fecfc044a1')\"\n",
       "              title=\"Convert this dataframe to an interactive table.\"\n",
       "              style=\"display:none;\">\n",
       "        \n",
       "  <svg xmlns=\"http://www.w3.org/2000/svg\" height=\"24px\"viewBox=\"0 0 24 24\"\n",
       "       width=\"24px\">\n",
       "    <path d=\"M0 0h24v24H0V0z\" fill=\"none\"/>\n",
       "    <path d=\"M18.56 5.44l.94 2.06.94-2.06 2.06-.94-2.06-.94-.94-2.06-.94 2.06-2.06.94zm-11 1L8.5 8.5l.94-2.06 2.06-.94-2.06-.94L8.5 2.5l-.94 2.06-2.06.94zm10 10l.94 2.06.94-2.06 2.06-.94-2.06-.94-.94-2.06-.94 2.06-2.06.94z\"/><path d=\"M17.41 7.96l-1.37-1.37c-.4-.4-.92-.59-1.43-.59-.52 0-1.04.2-1.43.59L10.3 9.45l-7.72 7.72c-.78.78-.78 2.05 0 2.83L4 21.41c.39.39.9.59 1.41.59.51 0 1.02-.2 1.41-.59l7.78-7.78 2.81-2.81c.8-.78.8-2.07 0-2.86zM5.41 20L4 18.59l7.72-7.72 1.47 1.35L5.41 20z\"/>\n",
       "  </svg>\n",
       "      </button>\n",
       "      \n",
       "  <style>\n",
       "    .colab-df-container {\n",
       "      display:flex;\n",
       "      flex-wrap:wrap;\n",
       "      gap: 12px;\n",
       "    }\n",
       "\n",
       "    .colab-df-convert {\n",
       "      background-color: #E8F0FE;\n",
       "      border: none;\n",
       "      border-radius: 50%;\n",
       "      cursor: pointer;\n",
       "      display: none;\n",
       "      fill: #1967D2;\n",
       "      height: 32px;\n",
       "      padding: 0 0 0 0;\n",
       "      width: 32px;\n",
       "    }\n",
       "\n",
       "    .colab-df-convert:hover {\n",
       "      background-color: #E2EBFA;\n",
       "      box-shadow: 0px 1px 2px rgba(60, 64, 67, 0.3), 0px 1px 3px 1px rgba(60, 64, 67, 0.15);\n",
       "      fill: #174EA6;\n",
       "    }\n",
       "\n",
       "    [theme=dark] .colab-df-convert {\n",
       "      background-color: #3B4455;\n",
       "      fill: #D2E3FC;\n",
       "    }\n",
       "\n",
       "    [theme=dark] .colab-df-convert:hover {\n",
       "      background-color: #434B5C;\n",
       "      box-shadow: 0px 1px 3px 1px rgba(0, 0, 0, 0.15);\n",
       "      filter: drop-shadow(0px 1px 2px rgba(0, 0, 0, 0.3));\n",
       "      fill: #FFFFFF;\n",
       "    }\n",
       "  </style>\n",
       "\n",
       "      <script>\n",
       "        const buttonEl =\n",
       "          document.querySelector('#df-4cad0d82-4f69-482e-83fe-75fecfc044a1 button.colab-df-convert');\n",
       "        buttonEl.style.display =\n",
       "          google.colab.kernel.accessAllowed ? 'block' : 'none';\n",
       "\n",
       "        async function convertToInteractive(key) {\n",
       "          const element = document.querySelector('#df-4cad0d82-4f69-482e-83fe-75fecfc044a1');\n",
       "          const dataTable =\n",
       "            await google.colab.kernel.invokeFunction('convertToInteractive',\n",
       "                                                     [key], {});\n",
       "          if (!dataTable) return;\n",
       "\n",
       "          const docLinkHtml = 'Like what you see? Visit the ' +\n",
       "            '<a target=\"_blank\" href=https://colab.research.google.com/notebooks/data_table.ipynb>data table notebook</a>'\n",
       "            + ' to learn more about interactive tables.';\n",
       "          element.innerHTML = '';\n",
       "          dataTable['output_type'] = 'display_data';\n",
       "          await google.colab.output.renderOutput(dataTable, element);\n",
       "          const docLink = document.createElement('div');\n",
       "          docLink.innerHTML = docLinkHtml;\n",
       "          element.appendChild(docLink);\n",
       "        }\n",
       "      </script>\n",
       "    </div>\n",
       "  </div>\n",
       "  "
      ],
      "text/plain": [
       "  name     score\n",
       "2   RF  0.398847\n",
       "0   LR  0.387042\n",
       "1  SVM  0.379540"
      ]
     },
     "metadata": {},
     "output_type": "display_data"
    }
   ],
   "source": [
    "print('Best scores (balanced accuracy):')\n",
    "display(results_df[['name', 'score']])"
   ]
  },
  {
   "cell_type": "markdown",
   "metadata": {
    "id": "GhWw9bLzTRwC"
   },
   "source": [
    "We select the best model and best parameters and evaluate on a 90-10 train test split. We compare performance to a balanced dataset."
   ]
  },
  {
   "cell_type": "code",
   "execution_count": 38,
   "metadata": {
    "id": "ZAq5-hY5YexJ"
   },
   "outputs": [],
   "source": [
    "# Balanced dataset\n",
    "X_bal = pd.read_csv(f'{DATA_DIR}/balanced_multi_agg.csv.gz').drop(labels=['participant_id'], axis='columns')\n",
    "y_bal = X_bal.pop('response')"
   ]
  },
  {
   "cell_type": "code",
   "execution_count": 47,
   "metadata": {
    "colab": {
     "base_uri": "https://localhost:8080/"
    },
    "id": "sn_ETJ1STLzN",
    "outputId": "8180d29b-0ae3-47b5-e523-f3f4d0c4399b"
   },
   "outputs": [
    {
     "name": "stdout",
     "output_type": "stream",
     "text": [
      "Dataset: Full\n",
      "Accuracy: 0.5691\n",
      "Balanced accuracy: 0.4092\n",
      "\n",
      "Dataset: Balanced\n",
      "Accuracy: 0.4539\n",
      "Balanced accuracy: 0.4539\n",
      "\n"
     ]
    }
   ],
   "source": [
    "# Use the best parameters\n",
    "best_params = { k.replace('model__', ''):v for k, v in dict(results_df.iloc[0].params).items()}\n",
    "# Random Forest was best\n",
    "model = RandomForestClassifier(random_state=123, n_jobs=-1, **best_params)\n",
    "\n",
    "# Evaluate and compare\n",
    "aggregated.eval_multi_model(model, X, y, 'Full')\n",
    "aggregated.eval_multi_model(model, X_bal, y_bal, 'Balanced')"
   ]
  },
  {
   "cell_type": "markdown",
   "metadata": {
    "id": "Pxe0M0WCgUTA"
   },
   "source": [
    "Although overall accuracy for the balanced dataset is around 0.1 lower compared to the full dataset, balanced accuracy actually increases by about 0.05. This means that the model performs slightly better for all outcome labels given a balanced dataset as train input."
   ]
  },
  {
   "cell_type": "markdown",
   "metadata": {
    "id": "m7U83SE3jKMw"
   },
   "source": [
    "#### Binary classification\n",
    "Unfortunately, the multi-classification problem did not yield great predicting accuracy. Instead of predicting responses for each class, we will instead investigate predicting whether the student was happy or not (and turn the problem into a binary prediction problem)."
   ]
  },
  {
   "cell_type": "code",
   "execution_count": 48,
   "metadata": {
    "id": "itxcJ0cnjIvG"
   },
   "outputs": [],
   "source": [
    "y_bin = y.map({'happy': 'happy', 'neutral': 'not_happy', 'upset': 'not_happy'})"
   ]
  },
  {
   "cell_type": "code",
   "execution_count": 59,
   "metadata": {
    "colab": {
     "base_uri": "https://localhost:8080/"
    },
    "id": "JBSwstV9WdPt",
    "outputId": "7b4243df-530a-43af-9572-f8082c4687cc"
   },
   "outputs": [
    {
     "name": "stdout",
     "output_type": "stream",
     "text": [
      "Baseline accuracy = 0.5604\n",
      "Baseline balanced accuracy = 0.5000\n",
      "Baseline ROC AUC = 0.5000\n"
     ]
    }
   ],
   "source": [
    "print(f\"Baseline accuracy = {y_bin.value_counts()[0]/len(y_bin):.4f}\")\n",
    "pred = ['happy'] * len(y_bin)\n",
    "print(f\"Baseline balanced accuracy = {balanced_accuracy_score(y_bin, pred):.4f}\")\n",
    "# What was the baseline ROC AUC ?\n",
    "roc = roc_auc_score(y_bin.map({'happy': 1, 'not_happy': 0}).values, [1 for _ in range(len(y_bin))])\n",
    "print(f'Baseline ROC AUC = {roc:.4f}')"
   ]
  },
  {
   "cell_type": "code",
   "execution_count": 50,
   "metadata": {
    "colab": {
     "base_uri": "https://localhost:8080/"
    },
    "id": "f_REy_BAVl9H",
    "outputId": "fefa72e0-3e6a-41f5-8b07-37abea954cde"
   },
   "outputs": [
    {
     "name": "stdout",
     "output_type": "stream",
     "text": [
      "LR\n",
      "Fitting 5 folds for each of 40 candidates, totalling 200 fits\n",
      "RF\n",
      "Fitting 5 folds for each of 45 candidates, totalling 225 fits\n"
     ]
    }
   ],
   "source": [
    "bin_results_list = []\n",
    "for name in ['LR', 'RF']:\n",
    "    print(name)\n",
    "    model = models[name]\n",
    "    params = param_grid[name]\n",
    "\n",
    "    steps = [('model', model)]\n",
    "    pipeline = Pipeline(steps)\n",
    "    scoring = {\"Accuracy\": 'accuracy', \"Balanced\": 'balanced_accuracy', \"AUC\": 'roc_auc'}\n",
    "    search = GridSearchCV(pipeline, params, cv=5, scoring=scoring, refit=\"AUC\", verbose=1)\n",
    "    search.fit(X, y_bin)\n",
    "    results = (model, name, scaler, search.best_score_, search.best_params_, search.cv_results_)\n",
    "    bin_results_list.append(results)"
   ]
  },
  {
   "cell_type": "code",
   "execution_count": 120,
   "metadata": {
    "id": "me-eRVBlq74z"
   },
   "outputs": [],
   "source": [
    "# Barplot with min-max error bars\n",
    "def min_max_bar(ax, title, cv_results, y_lim, baseline):\n",
    "    sns.barplot(data=cv_results[f'mean_test_{title}'], ax=ax, ci=None)\n",
    "    ax.set_title(title)\n",
    "    ax.set_ylim(y_lim[0], y_lim[1])\n",
    "    ax.axhline(baseline, color='red')\n",
    "    ax.text(1.45, baseline, 'Baseline', color='red')\n",
    "    ax.vlines([0, 1], cv_results[f'min_{title}'], cv_results[f'max_{title}'], color='k')\n",
    "    ax.set_xticklabels(cv_results.index)\n",
    "    ax.set_ylabel('Accuracy')"
   ]
  },
  {
   "cell_type": "code",
   "execution_count": 121,
   "metadata": {
    "colab": {
     "base_uri": "https://localhost:8080/",
     "height": 250
    },
    "id": "2R--BeZIbBm3",
    "outputId": "dc974cfd-1237-43b5-e387-6c4b10a78df1"
   },
   "outputs": [
    {
     "data": {
      "image/png": "[encoded data removed]",
      "text/plain": [
       "<Figure size 432x288 with 3 Axes>"
      ]
     },
     "metadata": {
      "needs_background": "light"
     },
     "output_type": "display_data"
    }
   ],
   "source": [
    "bin_results_df = pd.DataFrame(bin_results_list, columns=['model', 'name', 'scaler', 'score', 'params', 'results']).sort_values('score', ascending=False)\n",
    "# Extract cross validation results\n",
    "bin_cv_results = pd.json_normalize(bin_results_df.results).set_index(bin_results_df.name)\n",
    "for metric in ['Accuracy', 'Balanced', 'AUC']:\n",
    "    bin_cv_results[f'max_{metric}'] = bin_cv_results[f'mean_test_{metric}'].apply(lambda a: np.max(a))\n",
    "    bin_cv_results[f'min_{metric}'] = bin_cv_results[f'mean_test_{metric}'].apply(lambda a: np.min(a))\n",
    "\n",
    "# Plot\n",
    "fig, axs = plt.subplots(1, 3)\n",
    "fig.suptitle('Binary model metrics', x=2.1)\n",
    "min_max_bar(axs[0], 'Accuracy', bin_cv_results, (0.3, 0.8), 0.5604)\n",
    "min_max_bar(axs[1], 'Balanced', bin_cv_results, (0.3, 0.8), 0.5)\n",
    "min_max_bar(axs[2], 'AUC', bin_cv_results, (0.3, 0.8), 0.5)\n",
    "\n",
    "# Adjust spacing between subplots\n",
    "plt.subplots_adjust(right=4.0)\n",
    "plt.show()"
   ]
  },
  {
   "cell_type": "code",
   "execution_count": 80,
   "metadata": {
    "colab": {
     "base_uri": "https://localhost:8080/",
     "height": 129
    },
    "id": "Z5s2pNzjfEb6",
    "outputId": "f03a1c3d-4819-4429-dfb3-8f3b7ffd916a"
   },
   "outputs": [
    {
     "name": "stdout",
     "output_type": "stream",
     "text": [
      "Best scores:\n"
     ]
    },
    {
     "data": {
      "text/html": [
       "\n",
       "  <div id=\"df-acc75933-46fb-4627-b7ad-462c4e2e06e4\">\n",
       "    <div class=\"colab-df-container\">\n",
       "      <div>\n",
       "<style scoped>\n",
       "    .dataframe tbody tr th:only-of-type {\n",
       "        vertical-align: middle;\n",
       "    }\n",
       "\n",
       "    .dataframe tbody tr th {\n",
       "        vertical-align: top;\n",
       "    }\n",
       "\n",
       "    .dataframe thead th {\n",
       "        text-align: right;\n",
       "    }\n",
       "</style>\n",
       "<table border=\"1\" class=\"dataframe\">\n",
       "  <thead>\n",
       "    <tr style=\"text-align: right;\">\n",
       "      <th></th>\n",
       "      <th>name</th>\n",
       "      <th>score</th>\n",
       "    </tr>\n",
       "  </thead>\n",
       "  <tbody>\n",
       "    <tr>\n",
       "      <th>0</th>\n",
       "      <td>LR</td>\n",
       "      <td>0.686705</td>\n",
       "    </tr>\n",
       "    <tr>\n",
       "      <th>1</th>\n",
       "      <td>RF</td>\n",
       "      <td>0.686403</td>\n",
       "    </tr>\n",
       "  </tbody>\n",
       "</table>\n",
       "</div>\n",
       "      <button class=\"colab-df-convert\" onclick=\"convertToInteractive('df-acc75933-46fb-4627-b7ad-462c4e2e06e4')\"\n",
       "              title=\"Convert this dataframe to an interactive table.\"\n",
       "              style=\"display:none;\">\n",
       "        \n",
       "  <svg xmlns=\"http://www.w3.org/2000/svg\" height=\"24px\"viewBox=\"0 0 24 24\"\n",
       "       width=\"24px\">\n",
       "    <path d=\"M0 0h24v24H0V0z\" fill=\"none\"/>\n",
       "    <path d=\"M18.56 5.44l.94 2.06.94-2.06 2.06-.94-2.06-.94-.94-2.06-.94 2.06-2.06.94zm-11 1L8.5 8.5l.94-2.06 2.06-.94-2.06-.94L8.5 2.5l-.94 2.06-2.06.94zm10 10l.94 2.06.94-2.06 2.06-.94-2.06-.94-.94-2.06-.94 2.06-2.06.94z\"/><path d=\"M17.41 7.96l-1.37-1.37c-.4-.4-.92-.59-1.43-.59-.52 0-1.04.2-1.43.59L10.3 9.45l-7.72 7.72c-.78.78-.78 2.05 0 2.83L4 21.41c.39.39.9.59 1.41.59.51 0 1.02-.2 1.41-.59l7.78-7.78 2.81-2.81c.8-.78.8-2.07 0-2.86zM5.41 20L4 18.59l7.72-7.72 1.47 1.35L5.41 20z\"/>\n",
       "  </svg>\n",
       "      </button>\n",
       "      \n",
       "  <style>\n",
       "    .colab-df-container {\n",
       "      display:flex;\n",
       "      flex-wrap:wrap;\n",
       "      gap: 12px;\n",
       "    }\n",
       "\n",
       "    .colab-df-convert {\n",
       "      background-color: #E8F0FE;\n",
       "      border: none;\n",
       "      border-radius: 50%;\n",
       "      cursor: pointer;\n",
       "      display: none;\n",
       "      fill: #1967D2;\n",
       "      height: 32px;\n",
       "      padding: 0 0 0 0;\n",
       "      width: 32px;\n",
       "    }\n",
       "\n",
       "    .colab-df-convert:hover {\n",
       "      background-color: #E2EBFA;\n",
       "      box-shadow: 0px 1px 2px rgba(60, 64, 67, 0.3), 0px 1px 3px 1px rgba(60, 64, 67, 0.15);\n",
       "      fill: #174EA6;\n",
       "    }\n",
       "\n",
       "    [theme=dark] .colab-df-convert {\n",
       "      background-color: #3B4455;\n",
       "      fill: #D2E3FC;\n",
       "    }\n",
       "\n",
       "    [theme=dark] .colab-df-convert:hover {\n",
       "      background-color: #434B5C;\n",
       "      box-shadow: 0px 1px 3px 1px rgba(0, 0, 0, 0.15);\n",
       "      filter: drop-shadow(0px 1px 2px rgba(0, 0, 0, 0.3));\n",
       "      fill: #FFFFFF;\n",
       "    }\n",
       "  </style>\n",
       "\n",
       "      <script>\n",
       "        const buttonEl =\n",
       "          document.querySelector('#df-acc75933-46fb-4627-b7ad-462c4e2e06e4 button.colab-df-convert');\n",
       "        buttonEl.style.display =\n",
       "          google.colab.kernel.accessAllowed ? 'block' : 'none';\n",
       "\n",
       "        async function convertToInteractive(key) {\n",
       "          const element = document.querySelector('#df-acc75933-46fb-4627-b7ad-462c4e2e06e4');\n",
       "          const dataTable =\n",
       "            await google.colab.kernel.invokeFunction('convertToInteractive',\n",
       "                                                     [key], {});\n",
       "          if (!dataTable) return;\n",
       "\n",
       "          const docLinkHtml = 'Like what you see? Visit the ' +\n",
       "            '<a target=\"_blank\" href=https://colab.research.google.com/notebooks/data_table.ipynb>data table notebook</a>'\n",
       "            + ' to learn more about interactive tables.';\n",
       "          element.innerHTML = '';\n",
       "          dataTable['output_type'] = 'display_data';\n",
       "          await google.colab.output.renderOutput(dataTable, element);\n",
       "          const docLink = document.createElement('div');\n",
       "          docLink.innerHTML = docLinkHtml;\n",
       "          element.appendChild(docLink);\n",
       "        }\n",
       "      </script>\n",
       "    </div>\n",
       "  </div>\n",
       "  "
      ],
      "text/plain": [
       "  name     score\n",
       "0   LR  0.686705\n",
       "1   RF  0.686403"
      ]
     },
     "metadata": {},
     "output_type": "display_data"
    }
   ],
   "source": [
    "print('Best scores:')\n",
    "display(bin_results_df[['name', 'score']])"
   ]
  },
  {
   "cell_type": "markdown",
   "metadata": {
    "id": "OkdKD2_Ue5gV"
   },
   "source": [
    "The binary prediction now seems to perform a lot better than the baseline, with accuracy metrics sitting around the 0.65 mark. The ROC area under curve score also sees a significant increase from the baseline 0.5 to values around 0.69. We again compare random random forest performance on a balanced dataset."
   ]
  },
  {
   "cell_type": "code",
   "execution_count": 5,
   "metadata": {
    "id": "gj-M-2CA4Mo_"
   },
   "outputs": [],
   "source": [
    "# Balanced dataset\n",
    "X_bal = pd.read_csv(f'{DATA_DIR}/balanced_bin_agg.csv.gz').drop(labels=['participant_id'], axis='columns')\n",
    "y_bal = X_bal.pop('response')"
   ]
  },
  {
   "cell_type": "code",
   "execution_count": 118,
   "metadata": {
    "colab": {
     "base_uri": "https://localhost:8080/"
    },
    "id": "94h_GyubQis_",
    "outputId": "cbec8e13-0cf5-429c-8c1e-f56be2a1fca5"
   },
   "outputs": [
    {
     "name": "stdout",
     "output_type": "stream",
     "text": [
      "Dataset: Full\n",
      "Accuracy: 0.6410\n",
      "Balanced accuracy: 0.6251\n",
      "AUC: 0.6251\n",
      "\n",
      "Dataset: Balanced\n",
      "Accuracy: 0.6368\n",
      "Balanced accuracy: 0.6368\n",
      "AUC: 0.6368\n",
      "\n"
     ]
    }
   ],
   "source": [
    "# Use the best parameters\n",
    "best_params = { k.replace('model__', ''):v for k, v in dict(bin_results_df.iloc[0].params).items()}\n",
    "# Logistic Regression model\n",
    "model = LogisticRegression(random_state=123, n_jobs=-1, **best_params)\n",
    "\n",
    "# Evaluate and compare\n",
    "aggregated.eval_bin_model(model, X, y_bin, 'Full')\n",
    "aggregated.eval_bin_model(model, X_bal, y_bal, 'Balanced')"
   ]
  },
  {
   "cell_type": "code",
   "execution_count": 116,
   "metadata": {
    "colab": {
     "base_uri": "https://localhost:8080/"
    },
    "id": "LNIa6Cois9Eq",
    "outputId": "9a08f5fe-3633-4254-acef-e2e4a0c0606c"
   },
   "outputs": [
    {
     "name": "stdout",
     "output_type": "stream",
     "text": [
      "Dataset: Full\n",
      "Accuracy: 0.6483\n",
      "Balanced accuracy: 0.6367\n",
      "AUC: 0.6367\n",
      "\n",
      "Dataset: Balanced\n",
      "Accuracy: 0.6432\n",
      "Balanced accuracy: 0.6432\n",
      "AUC: 0.6432\n",
      "\n"
     ]
    }
   ],
   "source": [
    "# Use the best parameters\n",
    "best_params = { k.replace('model__', ''):v for k, v in dict(bin_results_df.iloc[1].params).items()}\n",
    "# Random Forest model\n",
    "model = RandomForestClassifier(random_state=123, n_jobs=-1, **best_params)\n",
    "\n",
    "# Evaluate and compare\n",
    "aggregated.eval_bin_model(model, X, y_bin, 'Full')\n",
    "aggregated.eval_bin_model(model, X_bal, y_bal, 'Balanced')"
   ]
  },
  {
   "cell_type": "markdown",
   "metadata": {
    "id": "xVQDFIsKDUQK"
   },
   "source": [
    "Once again, the balanced dataset has a slightly lowered accuracy but improved balanced accuracy score. So far, we achieve 0.64 balanced accuracy. To try to improve performance, we will add pairwise products of the features.\n",
    "\n",
    "#### Augmenting features"
   ]
  },
  {
   "cell_type": "code",
   "execution_count": 109,
   "metadata": {
    "id": "_V5uvx51Dhge"
   },
   "outputs": [],
   "source": [
    "from sklearn.preprocessing import PolynomialFeatures\n",
    "X_aug = PolynomialFeatures(2).fit_transform(X_bal)"
   ]
  },
  {
   "cell_type": "code",
   "execution_count": 117,
   "metadata": {
    "colab": {
     "base_uri": "https://localhost:8080/"
    },
    "id": "wyajkE-eF2V7",
    "outputId": "e4f5ae5f-fb65-4125-c3e6-3bd964b1d183"
   },
   "outputs": [
    {
     "name": "stdout",
     "output_type": "stream",
     "text": [
      "Dataset: Balanced polynomial augmented\n",
      "Accuracy: 0.6395\n",
      "Balanced accuracy: 0.6395\n",
      "AUC: 0.6395\n",
      "\n"
     ]
    }
   ],
   "source": [
    "aggregated.eval_bin_model(model, X_aug, y_bal, 'Balanced polynomial augmented')"
   ]
  },
  {
   "cell_type": "markdown",
   "metadata": {
    "id": "s6-4_TOJTeTz"
   },
   "source": [
    "Augmenting features does not seem to be helping for this dataset when using random forests or logistic regression. We will therefore discard this method for now.\n",
    "\n",
    "This leads us to take interest in the importance of our considered features. We will inspect feature importances for the random forest classifier on the binary prediction task trained with the balanced dataset.\n",
    "### Feature importances"
   ]
  },
  {
   "cell_type": "code",
   "execution_count": null,
   "metadata": {
    "id": "QSsVJ_r5UJ8o"
   },
   "outputs": [],
   "source": [
    "# First train the model\n",
    "forest = RandomForestClassifier(random_state=123, n_jobs=-1, **best_params)\n",
    "\n",
    "# Specify feature names\n",
    "feature_names = X_bal.columns.values\n",
    "\n",
    "# Perform train-test split\n",
    "X_train, X_test, y_train, y_test = train_test_split(X_bal, y_bal, test_size=0.1, stratify=y_bal, random_state=123)\n",
    "\n",
    "# Fit model on balanced data\n",
    "forest.fit(X_train, y_train)"
   ]
  },
  {
   "cell_type": "markdown",
   "metadata": {
    "id": "6G0CPEbDWCWQ"
   },
   "source": [
    "#### Feature importance using MDI\n",
    "MDI = mean decrease in impurity"
   ]
  },
  {
   "cell_type": "code",
   "execution_count": null,
   "metadata": {
    "id": "kvx0ktNQU12c"
   },
   "outputs": [],
   "source": [
    "# The impurity-based feature importances\n",
    "importances = forest.feature_importances_\n",
    "std = np.std([tree.feature_importances_ for tree in forest.estimators_], axis=0)\n",
    "\n",
    "# Attach feature names to importances\n",
    "forest_importances = pd.Series(importances, index=feature_names)\n",
    "\n",
    "# Plot\n",
    "fig, ax = plt.subplots()\n",
    "forest_importances.plot.bar(yerr=std, ax=ax)\n",
    "ax.set_title(\"Feature importances using MDI\")\n",
    "ax.set_ylabel(\"Mean decrease in impurity\")\n",
    "fig.tight_layout()\n",
    "plt.show()"
   ]
  },
  {
   "cell_type": "markdown",
   "metadata": {
    "id": "fgPjT9myYBVS"
   },
   "source": [
    "![mdi.png](data:image/png;base64,iVBORw0KGgoAAAANSUhEUgAAAagAAAEYCAYAAAAJeGK1AAAABHNCSVQICAgIfAhkiAAAAAlwSFlzAAALEgAACxIB0t1+/AAAADh0RVh0U29mdHdhcmUAbWF0cGxvdGxpYiB2ZXJzaW9uMy4yLjIsIGh0dHA6Ly9tYXRwbG90bGliLm9yZy+WH4yJAAAgAElEQVR4nOydd7hdVdH/P18iXUKR3ouIoihqaIKACgoiYEEpooAI4o9mQaUoIHasCOoL0qQroBg1vDQJgggkQCQE5SUEpIj0Jij1+/tjrZPse3PLuWftnZybM5/nOc89e5+9Z889Zc9aM7NmZJsgCIIg6Dbmm9sKBEEQBMFAhIEKgiAIupIwUEEQBEFXEgYqCIIg6ErCQAVBEARdSRioIAiCoCsJAxX0JJIOl3Ty3Najl4j3PBgpinVQwUiRdDewHPBSZfdrbP+zUOYnbV9ept3oQ9LRwKtt7z63dRmtSDLwMLCi7RfzvvmB+4FlbCvvmwhsDLwAGLgDOB/4oe3n8jFHE59HVxAzqKBTtrf9ysqjY+NUB5JeMTev3ymjVe8u5XFg28r2tnlffw6wvRiwAvB5YBdggiQ1r2IwEsJABbUhaXFJp0h6QNL9kr4uaUx+bS1Jf5T0qKRHJJ0taYn82pnAqsDvJP1b0hclbSnpvn7y75a0VX5+tKQLJJ0l6Slgz6GuP4CuR0s6Kz9fXZIl7SXpXkmPS9pP0gaSbpH0hKQTKufuKenPkk6Q9KSkv0t6V+X1FSWNl/SYpOmS9ul33are+wGHAzvn//2v+bi9JP1N0tOSZkj6VEXGlpLuk/R5SQ/l/3evyusLS/q+pH9k/a6RtHB+bWNJ1+b/6a+Stuz3f83I17xL0kcHee9Ol/T1/vpUtr+U3/+nJd3eem8Gec/3kHRP/k4c0e9/+EX+LP6WvxN9vg8DcCbw8cr2x4EzBjvY9jO2JwI7AJsA2w0jP5jDhIEK6uR04EXg1cCbgXcDn8yvCfgWsCLwOmAV4GgA2x8D7mHWrOzYNq+3I3ABsARw9jDXb4eNgLWBnYEfAUcAWwGvBz4iaYt+x94JLA0cBfxa0lL5tfOA+/L/uhPwTUnvHETvU4BvAr/M//ub8jEPAe8DxgJ7AT+U9JaKjOWBxYGVgL2Bn0haMr/2PeCtwNuApYAvAi9LWgn4A/D1vP8Q4EJJy0haFPgxsG2eXbwNmDKC9w4ASesABwAbZDnvAe4e4pTNgHWAdwFHSnpd3n8UsDqwJrA10I677SJgc0lL5Pfi7cBvhzvJ9j3A5Hx80EWEgQo65aI8Cn9C0kWSlgPeC3wmj0wfAn5Icp9ge7rty2w/Z/th4AfAFoOLb4u/2L7I9sukG/mg12+Tr9n+r+1LgWeAc20/ZPt+4GqS0WvxEPAj2y/Y/iVwO7CdpFWATYEvZVlTgJPpO7Kfqbft/wykiO0/2L7TiauAS+l7A30BOCZffwLwb2AdSfMBnwAOtn2/7ZdsX5vjK7sDE2xPyNe+jHRjfm+W+TLwBkkL237A9rQRvHctXgIWBNaVNL/tu23fOcTxX7X9H9t/Bf4KtAz0R4Bv2n7c9n0k4zkc/wV+Rxpg7AyMz/va4Z8kox10EWGggk55v+0l8uP9wGrA/MADLcMFnAgsCyBpOUnnZdfPU8BZpNlHCfdWng95/TZ5sPL8PwNsv7Kyfb/7Zhj9gzRjWhF4zPbT/V5baRC9B0TStpKuy27CJ0hGpPp+PdpKBsg8m/VbGliINLvrz2rAhysDiydIM5gVbD9DuqnvR3oP/yDptcPp2R/b04HPkGbHD+XPfMUhTvnXAP8DpPex+j4N+55lziANBoZ07w3ASsBjIzg+mAOEgQrq4l7gOWDpiuEaa/v1+fVvkrKm1rM9ljSarwal+6eTPgMs0trIsaRl+h1TPWe469fNSlKfoPqqpFH4P4GlJC3W77X7B9F7tm1JCwIXklx1y9leAphA3/drMB4hzRrWGuC1e4EzK+/PErYXtf1tANuX2N6alDzwd+Dng1yjz2dDcjfO+mfsc2xvRjKIBr7Tht79eQBYubK9SpvnXU3SfzngmnZOyLPet+Zzgy4iDFRQC7YfILmhvi9prKT5lBIjWm68xUhuqCdzLOQL/UQ8SIo3tPg/YCFJ2ymlC3+Z5Drq9Pp1syxwkKT5JX2YFFebYPte4FrgW5IWkvRGUozorCFkPQisnt1zAAuQ/teHgRclbUuKpw1LdneeCvwgJ2uMkbRJNnpnAdtLek/ev1BOcFg5z3B3zLGo50if1cuDXGYK8F5JS0lanjRjAlIMStI78/X+S5p5DiZnKH4FHCZpyfx9OaDN/9/A9sAO/Wa4syFpkfz9+C1wA2kQEHQRYaCCOvk46eZ6Gym99wLSaBbgq8BbgCdJgfpf9zv3W8CXs+vpENtPAv+PFL+5nzRqHy6La6jr1831pISKR4BvADvZfjS/tispwP9P4DfAUcOs7zo//31U0k3ZPXgQ6Sb9OLAbKZ7SLocAU4FJJLfVd4D5svHckZQ1+DBpRvUF0n1gPuBzWefHSPHBTw8i/0xSvOhu0qDgl5XXFgS+TXpf/kUy5IeNQPcWx5A+77uAy0mf5XPtnGh72jDxsxMkPU0aGPyINFvdJhv3oIuIhbpBMEIk7UlaVLzZ3NalV5D0aWAX203NiIMuJGZQQRB0HZJWkLRpdtWuQ1pQ+5u5rVcwZ4lV7EEQdCMLkLIw1wCeIK0t++lc1SiY44SLLwiCIOhKwsUXBEEQdCXzjItv6aWX9uqrrz631QiCIAhGyI033viI7f7rHOcdA7X66qszefLkua1GEARBMEIk/WOg/eHiC4IgCLqSMFBBEARBVxIGKgiCIOhKGjVQkrbJDcumSzp0gNf3kzRV0hSlpmrrVl47LJ93u6T3NKlnEARB0H00ZqBy9emfkNourwvsWjVAmXNsr2d7feBYUo8g8nG7kBrFbQP8VIN0Rg2CIAjmTZqcQW0ITLc9w/bzpJXgO1YPsP1UZXNRZrUd2BE4Lze3uwuYnuUFQRD0JFtuuSVbbrnl3FZjjtJkmvlK9G0ydh+pTXYfJO1PqqK8ANBqi70ScF2/c1ciCIIg6BmGnUFJulHS/pKWbEIB2z+xvRbwJVLPn7aRtK+kyZImP/zww02oFwRBEMwl2nHx7Uxqvzwpt29+T79OooNxP327YK5M366i/TkPeP9IzrV9ku1xtscts8xsi5CDIAiCUcywBsr2dNtHAK8BziF16/yHpK9KWmqIUycBa0taQ9ICpKSHPk3XJK1d2dwOuCM/Hw/sImlBSWuQGsPd0O4/FQRBEIx+2opB5bbVewHvJXWfPBvYDPgjsP5A59h+UdIBwCXAGOBU29MkHQNMtj0eOEDSVsALpM6he+Rzp0n6Fakz6ovA/rZf6vzfDIIgCEYbwxooSTeS+rGcAhxqu9V2+XpJmw51ru0JwIR++46sPD94iHO/QWqlHQRBEPQg7cygPmx7RnWHpDVs32X7gw3pFQRBEPQ47SRJXNDmviAIgiCojUFnUJJeS6rksLik6kxpLLBQ04oFQRAEvc1QLr51gPcBSwDbV/Y/DezTpFJBEARBMKiBsv1b4LeSNrH9lzmoUxAEQRAM6eL7ou1jgd0k7dr/ddsHNapZEARB0NMM5eL7W/4bfdSDIAiCOc5QLr7f5RYX69k+ZA7qFARBEARDp5nn6g1DLsYNgiAIgiZoZ6HuFEnjgfOBZ1o7bf+6Ma2CIAiCnqcdA7UQ8CizejVBaiwYBioIgiBojGENlO295oQiQRAEQVClnWKxpzGrFftMbH+iEY2CIAiCgPZcfL+vPF8I+ADwz2bUCYIgCIJEOy6+C6vbks4FrmlMoyAIgiCgvWrm/VkbWLadAyVtI+l2SdMlHTrA65+TdJukWyRdIWm1ymsvSZqSH+P7nxsEQRDM27QTg3qaFINS/vsv4EttnDcG+AmwNXAfMEnSeNu3VQ67GRhn+1lJnwaOBXbOr/3H9oDdeoMgCIJ5n3ZcfIt1KHtDYHqr2aGk84AdSW3cW7KvrBx/HbB7h9cKgiAI5jHaSZIg94PajDSDutr2RW2cthJwb2X7PmCjIY7fG7i4sr2QpMnAi8C3B7qmpH2BfQFWXXXVNlQKgiAIRgvtuPh+CrwaODfv2k/S1rb3r0sJSbsD44AtKrtXs32/pDWBP0qaavvO6nm2TwJOAhg3btxsqfBBEATB6KWdGdQ7gdfZNoCkXwDT2jjvfmCVyvbKeV8fJG0FHAFsYfu51n7b9+e/MyRNBN4M3Nn//CAIgmDepJ0svulA1X+2St43HJOAtSWtIWkBYBegTzaepDcDJwI72H6osn9JSQvm50uTCtZWkyuCIAiCeZx2ZlCLAX+TdEPe3gCY3Er9tr3DQCfZflHSAcAlwBjgVNvTJB0DTLY9Hvgu8ErgfEkA92R5rwNOlPQyyYh+u1/2XxAEwTzL6of+YbZ9/5rx6ICv3f3t7eaITnODdgzUkZ0Ktz0BmNBv35GV51sNct61wHqdXjcIgiAY/bSTZn4VgKSx1eNtP9agXkEQBEGP004W377AMcB/gZeZtWB3zWZVC4IgCHqZdlx8XwDeYPuRppUJgiAIghbtZPHdCTzbtCJBEARBUKWdGdRhwLWSrgeq65QOakyrIAiCoOdpx0CdCPwRmEqKQQVBEARB47RjoOa3/bnGNQmCIAiCCu3EoC6WtK+kFSQt1Xo0rlkQBEHQ07Qzg9o1/z2ssi/SzIMgCIJGaWeh7hpzQpEgCIIgqDKogZL0Ttt/zL2gZsP2r5tTKwiCIGiaLbfcEoCJEyfOVT0GY6gZ1Bak7L3tB3jNQBioIAiCoDEGNVC2j8p/95pz6gRBEARBop0sviAIgiCY4zRqoCRtI+l2SdMlHTrA65+TdJukWyRdIWm1ymt7SLojP/ZoUs8gCIKg+2jMQEkaA/wE2BZYF9hV0rr9DrsZGGf7jcAFwLH53KWAo4CNgA2BoyQt2ZSuQRAEQffRzjooJL0NWJ2+/aDOGOa0DYHptmdkGecBO1Jp3W77ysrx1wG75+fvAS5r9ZySdBmwDXBuO/oGQRAEo592+kGdCawFTAFeyrsNDGegVgLurWzfR5oRDcbewMVDnLvSALrtC+wLsOqqqw6jThAEQTCaaGcGNQ5Y17abUkLS7vk6W4zkPNsnAScBjBs3rjH9giAIgjlPOzGoW4HlO5B9P7BKZXvlvK8PkrYCjgB2sP3cSM4NgiAI5l3amUEtDdwm6Qb69oPaYZjzJgFrS1qDZFx2AXarHiDpzaR2HtvYfqjy0iXANyuJEe+mby3AIAiCYB6nHQN1dCeCbb8o6QCSsRkDnGp7mqRjgMm2xwPfBV4JnC8J4B7bO9h+TNLXSEYO4JhWwkQQBEHQG7RTLPaqToXbngBM6LfvyMrzrYY491Tg1E6vHQRBEIxuhioWe43tzSQ9Tcram/kSYNtjG9cuCIIg6FmGqsW3Wf672JxTJwiCIAgSUYsvCIIg6ErCQAVBEARdSVuljoIgCIK5y/K7fXtuqzDHaWsGJWm1vKAWSQtLirhUEARB0CjDGihJ+5AqjZ+Yd60MXNSkUkEQBEHQzgxqf2BT4CkA23cAyzapVBAEQRC0Y6Ces/18a0PSK+i7LioIgiAIaqcdA3WVpMOBhSVtDZwP/K5ZtYIgCIJepx0DdSjwMDAV+BSpdNGXm1QqCIIgCNqpxfcy8HPg57kV+8pN9oYKgiAIAmgvi2+ipLHZON1IMlQ/bF61IAiCoJdpx8W3uO2ngA8CZ9jeCHhXs2oFQRAEvU47BuoVklYAPgL8fiTCJW0j6XZJ0yUdOsDrm0u6SdKLknbq99pLkqbkx/iRXDcIgiAY/bRT6ugYUtPBa2xPkrQmcMdwJ0kaA/wE2Bq4D5gkabzt2yqH3QPsCRwygIj/2F6/Df2CIAiCNlj90D/02f7XjEcH3A9w97e3myM6DUU7SRLnk1LLW9szgA+1IXtDYHo+HknnATsCMw2U7bvzay+PSOsgCIJgnmdYAyVpIWBv4PXAQq39tj8xzKkrAfdWtu8DNhqBbgtJmgy8CHzb9mzllSTtC+wLsOqqq45AdBAEQdDttBODOhNYHngPcBWpFt/TTSqVWc32OGA34EeS1up/gO2TbI+zPW6ZZZaZAyoFQRAEc4p2DNSrbX8FeMb2L4DtaG8mdD+wSmV75byvLWzfn//OACYCb2733CAIgmD0046BeiH/fULSG4DFaa9Y7CRgbUlrSFoA2AVoKxtP0pKSFszPlyYVq71t6LOCIAiCeYl2DNRJkpYEvkIyMLcBxw53ku0XgQNIGYB/A35le5qkYyTtACBpA0n3AR8GTpQ0LZ/+OmCypL8CV5JiUGGggiAIeoh2svhOzk+vAtYciXDbE0i1+6r7jqw8n0Ry/fU/71pgvZFcKwiCIJi3aKfU0XKSTpF0cd5eV9LezasWBEEQ9DLtuPhOJ7npVszb/wd8pimFgiAIggDaM1BL2/4V8DLMjC291KhWQRAEQc/TjoF6RtKryF10JW0MPNmoVkEQBEHP004tvs+RsvfWkvRnYBlgp6FP6T223HJLACZOnDhX9QiCIJhXGNJA5YKvW+THOoCA222/MNR58zoDFVYcrOhiNxRcDIIgGI0MaaBsvyRpV9s/BKYNdWyvs/xu357bKgRBEMxTtOPi+7OkE4BfAs+0dtq+qTGtgiAIgp6nHQPV6sl0TGWfgXfWr04QBKOZiMUGddJOJYl3zAlFgiAIgqBKO/2gvgkca/uJvL0k8HnbX25auSAIupvR1qE1GF204+Lb1vbhrQ3bj0t6LxAGKgiCPkSyUFAn7SzUHdNqfQEgaWFgwSGOD4IgCIJi2plBnQ1cIem0vL0X8IvmVAqCIAiCNmZQtr8DfJ3Uo+l1wNdsD9sPCkDSNpJulzRd0qEDvL65pJskvShpp36v7SHpjvzYo71/JwiCIJhXaGcGBanh4Iu2L5e0iKTFbD891Am5CsVPgK2B+4BJksb3azx4D7AncEi/c5cCjgLGkVLab8znPt6mvkEQBMEop51+UPsAFwAn5l0rARe1IXtDYLrtGbafB84DdqweYPtu27eQK6VXeA9wme3HslG6DNimjWsGQRAE8wjtJEnsD2wKPAVg+w5g2TbOWwm4t7J9X97XDm2dK2lfSZMlTX744YfbFB0EQRCMBtoxUM/lGRAAkl5Bbr0xt7F9ku1xtscts8wyc1udIAiCoEbaMVBXSTocWFjS1sD5wO/aOO9+YJXK9sp5XzuUnBsEQRDMA7STJHEosDcwFfgUMAE4uY3zJgFrS1qDZFx2AXZrU69LgG/mqhUA7wYOa/PcIAiCoA26fWF1O7X4XgZ+nh9tY/tFSQeQjM0Y4FTb0yQdA0y2PV7SBsBvgCWB7SV91fbrbT8m6WskIwdwjO3HRnL9IAiCYHQzqIGSNJUhYk223ziccNsTSDOu6r4jK88nkdx3A517KnDqcNcIgiAI5k2GmkG9L//dP/89M//dnS5JkgiCIAjmXQY1ULb/ASBpa9tvrrz0JUk3kWJTQRAEQdAI7WTxSdKmlY23tXleEARBEHRMO1l8ewOnSlo8bz8BfKI5lYIW0Z00CIJepp0svhuBN7UMlO0nG9eqR4nmb0EQBLNot1hsGKa5QLevUQiCIGiSiCUFQRAEXUkYqB5kyy23nBnfCoIg6FbacvHlzL3Vq8fbPqMhnYKamS2GtfEXBtwfca0gCLqJYQ2UpDOBtYApwEt5t4EwUEEQBEFjtDODGgesazuqRwRBEARzjHZiULcCyzetSBAEQRBUaWcGtTRwm6QbgOdaO23v0JhWQRAEwailriID7Rioo4uuEARBEMyzDFRIYLAiAyNNxGqnksRVI5JYQdI2wHGkflAn2/52v9cXJCVbvBV4FNjZ9t2SVgf+BtyeD73O9n6d6hEEQRDMOeoqMjBsDErSxpImSfq3pOclvSTpqTbOGwP8BNgWWBfYVdK6/Q7bG3jc9quBHwLfqbx2p+318yOMUxAEQY/RTpLECcCuwB3AwsAnSYZnODYEptueYft54Dxgx37H7Aj8Ij+/AHiXJLWjeBAEQTBv01YlCdvTgTG2X7J9GrBNG6etBNxb2b4v7xvwGNsvAk8Cr8qvrSHpZklXSXr7QBeQtK+kyZImP/zww+38K0EQBI0SlVrqo50kiWclLQBMkXQs8ADNl0h6AFjV9qOS3gpcJOn1tvu4Fm2fBJwEMG7cuFinFQRBMA/RjoH6GMkgHQB8FlgF+FAb592fj22xct430DH3SXoFsDjwaF4U/Bykdh+S7gReA0xu47pBEARzjHbb5EQpsZHTThbfPyQtDKxg+6sjkD0JWFvSGiRDtAuwW79jxgN7AH8BdgL+aNuSlgEes/2SpDWBtYEZI7h2EATBXCHa5NRHO1l825Pq8P1v3l5f0vjhzssxpQOAS0gp47+yPU3SMZJai3xPAV4laTrwOeDQvH9z4BZJU0jJE/vZfmxk/1oQBEEwmml3oe6GwEQA21PyrGhYbE8AJvTbd2Tl+X+BDw9w3oXAhe1cIwiCIJg3aSfZ4YUBuulGQkIQjHIi2yzodtqZQU2TtBswRtLawEHAtc2qFQSjj7rqjwVBkGjHQB0IHEHKqjuXFFP6WpNKBcFooN3sLZj7GVxN1ksLgqZoJ4vvWZKBOqJ5dYIgmFNEtlnQ7QxqoIbL1It2G0HQl7jhB0G9DDWD2oRUhuhc4HogauQFQTBXiPhebzKUgVoe2JpUKHY34A/AubanzQnFgiDoTSJeFrQY1EDZfom0OPd/c9+mXYGJkr5q+4Q5pWAQBEG4T3uTIZMksmHajmScVgd+DPymebWCIBGunSDoXYZKkjgDeAOpEsRXbd86x7QKepbRlLodBEGzDDWD2h14BjgYOKjSR1CAbY9tWLcgCIKghxkqBtV0z6cgGJaIPQRB7xJGKAiCIOhKwkAFQRAEXUk7tfg6RtI2wHHAGOBk29/u9/qCwBnAW4FHgZ1t351fOwzYG3gJOMj2JU3qGgTBvM1sCTjnpPZzA7mRIwGnO2jMQEkaA/yEtNj3PmCSpPG2b6sctjfwuO1XS9oF+A6ws6R1SR14Xw+sCFwu6TV5bVYQBEExEd/sfpqcQW0ITLc9A0DSecCOQNVA7UhqiAipc+4JSumCOwLn2X4OuCt33N2Q1Bo+6AIGSvsejLk9Gh1NugZBMAvZzfQelLQTsI3tT+btjwEb2T6gcsyt+Zj78vadwEYko3Wd7bPy/lOAi21f0O8a+wL75s11gNvbVG9p4JEO/7U5LXc06dqU3NB1dMkNXUeX3G7QdTXby/Tf2WgMqmlsnwScNNLzJE22Pa5ufZqQO5p0bUpu6Dq65Iauo0tuN+vaZBbf/cAqle2V874Bj5H0CmBxUrJEO+cGQRAE8zBNGqhJwNqS1pC0ACnpoX+PqfHAHvn5TsAfnXyO44FdJC0oaQ1gbeCGBnUNgiAIuozGXHy2X5R0AKlF/BjgVNvTJB0DTLY9HjgFODMnQTxGMmLk435FSqh4Edi/5gy+EbsF56Lc0aRrU3JD19ElN3QdXXK7VtfGkiSCIAiCoISoJBEEQRB0JWGggiAIgq4kDFQQBEHQlYSBCoICJI2R9L25rUcQdBOSlpT0xlI5PWWgJL1G0hW5ggWS3ijpy4UyF5H0FUk/z9trS3pfTfquJmmr/HxhSYsVypOk3SUdmbdXlbRhDXo2JXczSXvl58vkJQelMheUtJukwyUd2Xp0Ki9nl25WqtdASJpf0kGSLsiPAyXNXyjzcwM89pa0fg36jpG0Yv78V5W0aqG8D0havLK9hKT3l+qZZa0s6TeSHpb0kKQLJa1cKHM5SadIujhvrytp70KZm0paND/fXdIPJK1WIjPLOljS2PzbPUXSTZLeXShzYpa5FHAT8HNJPyiR2VMGCvg5cBjwAoDtW8ip7QWcBjwHbJK37we+XigTSfuQ6hOemHetDFxUKPanJD13zdtPkwr6llK7XElHAV8ifV4A8wNnlcjM/JZU6/FFUsfo1qOEmyWNl/QxSR9sPUoVBX5GqvT/0/x4S95XwjhgP2Cl/PgUsA3pZvLFToVKOhB4ELgM+EN+/L5Q16NsP9nasP0EcFShzBankdZbrkAqSP27vK+E00nLalbM2/8HfKZQ5s+AZyW9Cfg8cCepA0Qpn7D9FPBuYEngY0Bp9dzFs8wPAmfY3gjYqkTgqC511AGL2L5Bs9rXQ7pRlbCW7Z0l7Qpg+1n1u0CH7E8qkHt9lnuHpGULZW5k+y2Sbs4yH8+LqEtpQu4HgDeTRmLY/mfpDDKzsu1tapBTZSFSBZR3VvYZ+HWh3A1sv6my/UdJfy2UuTLwFtv/hpkDgT8AmwM3Asd2KPdgYB3bjxbqV2WgAXRd96xlbFcN0umSSo3J0rZ/pdQqqLUWtHT95ou2LWlH4ATbp5TOyjKte9R7gTPz2tPS+9YrJK0AfAQ4olBWEliHkFHEI5LWIt08WgVtHyiU+bykhSsy1yLNqEp5zvbzre+MUimo0kVrLyi1QWnpugzwcqHMpuQ+n3+YLZmLFsprca2k9WxPrUketveqS1Y/XpK0lu07ASStSeqPVsKy9P1+vgAsZ/s/kkq+t/cCTw571MiYnF1Erdn4/iQjWgePStodODdv70oaZJTwjKRXMet3sDHl78nT2eDtDmwuaT6SN6GUGyVdCqwBHJYHf6W/2a+SZpDX2J6Uv693lAjsNQO1P2l182sl3Q/cRfrgSzgK+F9gFUlnA5sCexbKBLhK0uHAwpK2Bv4fyQ1Rwo+B3wDLSvoGqbxUUQyuQbm/knQisER2d36C5KItZTNgT0l3kW7UAmy744CupNeQXDHL2X6DUnB4B9ulrt4vAFdKmpH1XA0oNYZnA9dL+m3e3h44Jw8Abhv8tGGZAUyU9AcqBtB2SQziQOArwC/z9mWk33AdfAI4HvghyaBcS/l7+zmS23AtSX8GliH9FkrYGdgN2Nv2v3Jc77uFMiH14lsfmJG9PktR8P/nAeoq1d9RbrX0oRIle7KSRP4xzmf76ZrkvQrYmHQTuc52cen6PFLam+QjFmlkcrILPzBJrwXelWVeYftvpbo2JTcb5pn/v+3LapA5YJxfww4AACAASURBVIDZ9j8KZF5FMiYn2n5z3ner7Td0KrMie0FSKxmA23OPtFKZGwBvy5t/tj25BpkDxoZsf7VU9mgiezrWIX1nb7f9QqG8RYH/2n4pD4ReS2o9VCp3U2CK7WfyTPItwHGFv4MbbBcnR/WR2UsGStISwMeB1anMHm0fVCj3jQPILI0/NIKkJUmV4qu63tShrKWGet32Y53IbZoccH573rzadlFcR9Ik2xtIurlioKbY7igzbrgEi9LvVh7tLkff78A9JTIrshex/WyhjB/Z/oyk3zGAW9v2DiXy8zVqn/UO8rk9CUy1/VCHMm8kfVeXBP5MKsL9vO2PdqpnlnsL8CbgjaTkjpOBj9jeokDmD0nux19SSTzq9P4CvefimwBcB0ylntgLkk4lfcjTKjKLA+RKqepfI7l1XsEsV9TYAplfI7kf72TWD9/0De6PhBvz+QJWBR7Pz5cA7iH5t0eq49MMEWsr+f+z/IOBfZj1+Zwl6STbxxeIrTu2uf0QrxV9t3K23VGkjLuXyN8r0ne4YyRtQir+/Epg1TwI+JTt/9eBuDPz3ybXl/2cPOuFlNEr6RzKMnD3JmWzXpm3tyT9RtaQdIztMwc7cQiUXXB7Az+1fWwNiTLQTPJFa0B2TGVfyf0FbPfMA7ipAZm3NaTrdNJNQzXKvB1YoAFdfw68t7K9LcndVSLza6S422LAWODTwDE16HoLsGhle1HglkKZawKXA8+SlhlcA6zexPeipu/VqxqQez1pZn5zZd+tNchdIP8O1qvzuwtMyn+r+k4plHkJaUbW2l4u71uq0/cCuJlk9K4DXp/3Ta3h/7+KtITjDmB5UsZksdy6H722DupMSftIWkHSUq1Hocy/SFq3Fu36ci/pS12nD/ZW0uymbja2PaG1YftiZsU4OmUH2z+1/bTtp2z/jLR+qRTRNxOuNYvoGNszbG9FCoq/1vZmtu8ukQkgaXGlhZmT8+P7qixc7ZAmsu0AsH1vv11FGYeStiPN9n8MnABMl7RticwKTWT0rmL7wcr2Q3nfY+S1lx3wGZIh+Y1TKviazJqhlbAzKZnlE7b/RVp+UJR8oQYWKveai+950odwBH1dXGsWyDyDZKT+RU1ZYZkvAhNyAL6urKhvkRaV3tpPZqlP/59KFTlaC2k/CvyzUOYzkj4KnEf6jHalfEEtpMWY10v6Td5+P8k11TH9Y5utpQEujG0Cp5IGFR/J2x8j6V+yCLiJbDuAeyW9DbBStYuDgdJEme8D77A9HWYu4fgDcHGhXGgmo3eipN8D5+ftD+V9iwJPdCLQ9lWkjN5F8vYMoPR7hVNG4IWkZrAAj5AycUs4nfT9bK2B+j9SPKrj31evJUnMADZ0DVl2FZnTSemlfeJaLsiGyXIvBf49gNyOs6IkTSP53PvLvKpzTWcmSxxFWuwJ8Cfgqy5IkpC0OnAcKW0fktvsMzXNTN7CrPJEV9u+uVDetQwQ27T9i0K5syValCRf5PMbybaTtDTp89qKNEi7FDjYBQt3W8knlW0BN1T3lVJnRm/W70PM+s7+GbiwxAtSje3ZLo3tVeXuA+wLLGV7LUlrA/9j+10FMmtNFoLem0FNJ8UJ6uRhp+7AdbOia0hT7seztn9cs0yyITpYabGfnasUFMq8m3pcegBIGmv7qWxM786P1mtLlRhTYCHbnytUcSD+I2kz29fAzNTg/5QILDVEQ8h9hDRzrpPJkiYAvyLNoj8MTGply7mDbEZJA35OlVlvxzPJbIguyI+6+BHwHtL6Kmz/VdLmQ5/SFk1Uqql9oXKvGahngCmSrqSve6Nkynxzzv75XT+ZpWnmEyS92/alhXKqXC3pW6Qve1XXjtNAASStR3J1LpW3HwH2sH1rgcyVSQspW6PRq0kj8vs6FHkO8D5mZR7OvBTlbt4z84j09/R9X0vT7D8N/CLHnQQ8RuEicKUqH18EXk8q0QSA7Y4yrSQdz9BZlyW/rYVI2Yat1OeHgYVJWY6dZjO2ymWtA2xAvvFnmTd0rCkzb8jHA68jJXeMAZ5xYeap7XvVtwpRaTURaKZSzeepeaFyrxmoiygvuNqfhUk3pWol4DrqsH0aOESp/MwL1JBmTqptB2lRcYuyNNDEicDnbF8JIGlLkn+/JFHiNJJR+XDe3j3v27oTYbbfl/8WV0QfgCZim9ieArxJ0ti8/VSJvMzZpLjA+0hFY/cg3fg7pXiR72C4gRJSrRmkpD+RahI+nbePJsW3SjiBVHz6fFJR3o8DrymU2URsDxqoVGP7RklbUONC5bmeRhiP0f8A/trOvhHKnC3ld6B9Hci9op19I5Q5g1QotO739WBSir1ICylvAt5dKPPG/PeWyr5Jc+A7cnwH56xMCtw/lB8Xkor91qHP7cCCle0F8w21RObkAd7bmwtlLk0aVDyY34OzqGGZACmtfB+SMb0gPy9a0kKKE3+DVB1/sTo+p56YQUn6le2PSJrKwCvTR5xxJ+mLTovmBnRxuEPXhqTX2v57DuTPhjtwx0na3fZZg/nfXZ7BNUPSV5i1wHJ30k27hFqLeUpaCFgEWFqpmkbLZzKW1HaihCZim5BSgI+T9B7gVaQsvjNJCQid0hrRPpDTuP9Jds02zKbDHzIbtc6i+3EGcEO/bM7TC2U+q1TFf4qkY0lp60VLedxMbA/bL5PWL9ZR37LFx0hVLz4EfDd7f662/dlOBfaEgSKNRCG5NeqiNc2u28XxOVJ2zfcHeK1Td1yrEvhA7SrqSOP8BKmS8YV5+2rKC2/WXczzU6Q1JSuS4lAtA/UUyTVTQhOxTejbEuEM19MS4es5pvV50vs7Fuj4BtIwTbTEAMD2N/J6nVbJq71cmM1JukGPAQ4gvaerUFosNcUM92H2UmqfKJS7KXA0s1eq6dgtbfsuSf8lubyfB95Bisd1rmeemvUEkr5j+0vD7RuhzA/bPn+4fR3IXcj2f4fbN0KZm9r+83D7OpA7jhR/WZ1ZPyJ3MjNtGkkHuqys0UAy9xhov8vTzE8jze7WINVNGwNMtP3WErlzA0k32R7QKzDEOVeQZkzVWfReLkuFrmZzzoa7rH5kXsJwNWlQNTM5wvaFg57Unty/k4xof7klXoo7SeupziHpPCXP1DrXs8cM1Gw/Ekm3lNxIB5E54h/jnJDboK63A4eQFpXWshZMqb37gcw+cixaVCxpf+Bsp+6sreK5u9r+aYncJlCqaN9qifBETuFdyakTNJJeb3tam7KazLZr5/oz18aM4JzVSLO8TZg1iz7Qs1esGInM39t+n1K7ldmyOUtmEGqmfmbROqIh5F7v1PG2TpkHk9YXrgL8nVRO6U/O/cw6oSdcfJI+TcpSWVOpim+LxUiL6TqRuS3J9bKSpOraorEUdOmVtDxp1LywpDfTN1aySIcyNyFl1C3TLw41ljQqL+Vh26W9qvpzEWmB4u+oqbBvZh/bM9vRO3X/3YfUUn1EDBPbtPt2wx0xefR5U2X7UfrG4c4ktUloh8ay7apo8Grmx3UgbuX+A5LsmurYQLnZbM4fkap8THV9I//fS3qvK6XEauJKSd8lZRvXsuTE9nHAcZJeSXLHH01KdOn4HtMTBoo05byYVOrn0Mr+p6tTeklL2n68TZn/JP3od6Bvl8+nKfPpv4e01mVlUhyqGis5vEOZC5CqTL+CvnGopyhvqAZwlKSTgSuoby3Yf93AomJgjCS1biBKrSc6bU/fim3+jVQZu4XovHX6SGg7HtWuu1HS8bYPHLEiKRX6ZAapZm779JHKJM2e+hvggfaNGEnjSa7D3w5iUDuhifqZBwOH17zcBKA1expX2Ve05ETS90kzqFeSZrtHklx9HdNTLr7h6NBPPr+HyPWXdKHtEQdKJX1oKD+zpD1GGuOQtNpQbreCm9NZpEZqfVqOlARyJe1GqhN2KfUuKv4uyQVzYt71KeBe258vkFm767jT684tmZKuJw12xruwaWNlxv8ZUpJMi7HAB0pnpvkaW5AKpm5H6rF0HvD7whjvBiQXX531MxtB0ppOdf2G3DdCmTuRsvYeHPbgNumVGVS7jDhDaijjlOnIp91GEPRgYEQGqo2YUCepwAAb2F5n+MNGxHqkrKh30rfPVumi4i+RjNKn8/ZlpJH/iGnCdTyacX0VD5qe8eNZRVjHkL5T+5CK85bMTL5Bqp+5EJ3Pyvsg6Yr+SSED7euAC5h9Jno+UJKA8wDp/0c1dekNA9WXJqaTTU1RS9ON6+RaSevavq1GmR8G1rT9fI0ysf2ypNOBP9q+vVBcW67jBqn1vSmktooHFeNxehMz/sr5rbJJO5NupkVZl9RYP7OpdXuSXksqc7W4+nYAHkul9FWH/IxU+eRNpGUMJ5PWm3XcpTcM1Oilm3yzG5PWAd1FfS1HWr2rOmqVPRiSdiCVJVoAWEPS+qRGiCPODrT9JKkY5q516tgiJwRMsf3MQCNS2xsPKaDDy3Z43n6kRIiVSE0bLyUVJO2YBmf8SPoVqVjq/5LWwV1VmhJNvfUzm1q3tw5pPegS9O3c/DRpFllC7V16IwZVoZNU2Lkhsym5ncrM6cCzUZhmPpHUSXUSNfauknQjyaUzsRIrmWp7vRK5TZDdhm8ivQ+nk0akH7Hd8Yi0InvAbDtJe3aY0DDHKYnBKVXnuNz2gG5ISVvbvmyEMp8mLYqvLaFBDazby3I3sf2XmmVeRTL4e5Fa7zxEKnnW8W+rZ2ZQ2dc8zfZrhzhsRH7dLPMM20OVIhnxIuC8/mUn278a4rARxTiyrt+xfcgQh3WSClxkiIZgwL5FNfCC7Sf7xUq6dZRW/4i05my7ub2+qlNsXzLMId8hxSdHInOgSi2lvCxpCde/bm8/SX/rJ/f7JYlNJFfpbsDeTg0RV6WwS2/PGCjbL0m6XdKqtu8Z5JgRxQ2yzNUkLTBYrKST6X6Ok3yR1AdnsGMOGKHMlyRtNswxp49EZpN4mCaKkv5ie5MORE/LGYJjlJq0HURKie1GnpZ0GKkG3eZ54DJ/ocwfUm9/oTmyvmoQmozDti1bDdTPrFDbur1+vLFlnCpyizwyTq3jf1DZvocUg+qYnjFQmSVJN6gbqLQPL3QbzQD+nNdVVGWWppZeLukQUmuEqtyS4PvNWc/z+8ksbQ0yN+g0oHsgqSzTc6R1MJeQUoO7kdpHpFBvf6HWUgcNUvKrU7n95NS5+LddRjKrbqJ+Zos61+1Vma+67lOp9FORPchJF98BliUZ+HIXZy/FoPLah9kYbrQ+jMymWmjfNbDYolIspw2wu2i90tyiiTVAvYCkC0ij3BNIizUPBsbZ3qVQbhOluWa6I11ju/M2r93EGrNO4lq1r9vLcj9OWvjfGlR8GPiG7TMHP2tYmdOB7W3X0a8qyewlAwUzA/pr275c0iLAGOemZYVyBxvlBQ0w0huIpN8xdKykKPmiTiRdY3uzHHQfqF5cSdB9adLMY6ss71JSp+KOioRqVsmvj5Bm+y3GAuva3rBA19oW/3Zw7V/b/uDwR45IZieFAOYjGaVWfPwy4OTBkjtGKHtdZs3u/ujCZSKS/my748zKgegpF1/23e5L6n+zFikl9n8YYXJEP5mbkGrGDRh0LpC7CMl1sKrtfXO8ZB3bvy+Q+RrSWoXlbL9B0huBHWx/vUTXucRI4w/fa0SLBrC9Wf5be9Dd9fcXaqrkF9BYu3Ng5gxtdfoWIz4j/63VOLUuOdITXO+6vf4sRWpJf5qkZSStYXsgz027TJb0S1IdzVpKnvWUgSKty9gQuB7A9h2Sli2U+SPqDTq3OI30g2+1Tb+fNB3v2ECRmpN9gewusH2LpHOArjNQkra1fXG/ffvZ/p+8+bERijzS9rtU2F5ltNJUtp3tvwJ/lXSOS9t7z05T7c6RdCZpkDqFWUbPFAb1h2HE7irVuG6vn9yjSHX41iHda+YndestmQGNJTXufHdln0kFaTui1wzUc7afb43IJL2CGlKMGxrlrWV7Z0m75ms8KxU3q1vE9g39xHRceb1hviLpOdt/BMhZje8gzXixfesI5a2Qb3Y7SDqPfqPZwkyr0UAj2XbKFd2BmyTV0q26Qu2LfyuMI7kguz3GcRRpUD0RwPYUpVY0pXwAeDO5Wr7tf0oqmrHbLm1SOhu9ZqCuknQ4qZXF1qQ6aqVtIpoa5T2vVIqllb2zFpVpc4c8kuW0ZO5Eqp/VjexAajXwBWAbUjHaHQvkHQl8hVQlvn+GZR01/rqaBrPtGqvo3oA7ssqtwPLM2e//3R2c09S6vedtuzWokLTocCcMh1J5pr1JpZRmZtmWJGH1VJJEDjjuTZqCipRifHLJKKruoHNF7rtJ6dDrZpmbAnvanlggc03gJJLb8HHgLuCjbmahbTHZ/Xo5ydX5iTpGu5K+Yrtb08obp4lsuyHkdlTRvSl3ZL9rXElqBnkD9VYqGTSu1aG8U0htbA4ltY8/CJjf9n6Feh5C6hawNamW5CeAc1xQtULS+aRGhbsBx5AGF3+zffCQJw4ls8cM1LuAa23/p0aZRW3Yh5H9KlKdOwHX5RFlHXIXBearI3uxbiqZa8p/FyC5IU0NfXDyIGU3UiHaY/LaouVt31CmeXfTVLadKhXdgWrn1MWAP9vevQOZewz1ukfYZmaQazSx5GTAuFaJQc3JUkcwK65zCfD1kntODhWsTPJKzBysjzQFfgC5N9t+c2tgkj1KV7ugZmSvGahfkNpHP0ZqpPUn4Bq336RwIJnTgQezvKuzvCdr0PUsUl+Zq23/vVRelnkncB1ZV7fZLnxeQtLPSO073mn7dUolXi61vcFcVq1Rcnbp+qSR7ZGVl54Gruz0NyBpcdIC+Norug/mjuy/r1uQ9DdqjGspLcq93PY76pDXT3bt9Scl3WB7Q0l/Ig1a/gXc4JK1m71koFpIWpG0vuIQUon80hXUqwJvJ7nh3gs8YXv9QpnvyDLfThqV3Qz8yamtcqcyFyQtzmzpug5wi+0PlOjaBJI+QEqtfTJvLwFsafuiQrk32X6LKoVxJf3VNTTBGw1omAab3URT7sgsZ2NSd97XkWbpY0gp1yVrzM4HDrJdW1xL0hXAB+sY9PaT+wtSfcdJNcr8JHAhqZfb6aSlN1+xfeJQ5w1FTyVJKLUseDvpDXyEtJq+rCWxtDLpZv92UuXpacA1ZZqC7SvzSGQDUvbafqTgY0l5l5dIVZZfIs0iHqLmdhY1cpTt37Q2bD+RU2OLDBTwQh6ZtoLDyzCrIeI8S8PZdrVScUeuJOnHlZfGUl/W6QnALqSlG+OAjwOvKZS5NHCbUim1uuJa/wamSrqMvuXJSuNwGwEflfSPLLe4RY7tVuPPPzFAo1Z10AW8pwwUac3SnaRU5Stt312DzHtILSG+WRq4rJJHTosCfyEZ0Q1slxqTp4CppCy2n5cmcjTMfAPsq+P7+mPgN8Cykr5Bmkl/uQa53U5j2XYN0Oji3xa2p0sa41SV4TRJNwOHFYg8uh7N+vBrCtYRDUSOQe0LzOnkqBF3Ae85F5+k15N6lWxGymK53fZIF31W5b0py9ocWBW4g9T87JRCPX9Iar/8HKm1xp+Av5QkeCi1bdiMtK7ieVIV7z/ZvqJE1yaQdCrwBNCq5Lw/sJTtPQtkzkdKOnmMVD1EwBWusXZYt1Nntl3TNOmOzN6JrUi1/v5FSjffs5tcvaMtBtXGNUfcb66nDJSksSR33BYkl9zSpOy4IbOG2pD7StKN/+2k1gjYHrCJXweyFwP2JMXLlre9YA0yXwtsS+rYuazthUtl1k3ONPwK6SYCqQbZ120/M/hZbcltpIFkt9NEtl1TtNyRkqYyQLp5HcZUqSbng6T402eBxYGf2p5eILOJuNaoiUG1cc2R1yLsMQN1Cyk+dA1p5nBfDTInAwuSZiOt7LjiqbOkA0gG762kBX4t2X8skHkhKU52J7OyDq9vKk2+G5H0PZLb9Nd1ZVuNBprMtqsbSSvYfkCpLfts7sgcS6vjOguTal3WUuMu3wtmi2vZ7thtKOm3pIoPtcagJP0deDXJzVdLDKqNa8YMql2yu+eVtp8qlLOM7YdrUqsq9xCSAbnRdi2BYUnjgJtdQyXkpsnJC19k9lXpRRUfNKst94vAf6G8QnjQDE26IyVtTyogvIDtNVRDjTtJk22Pq+pYOmMfbE1Y6VqwPIMcSG7Hg+ucJfwhZl+ofEx+/QSPsNHqQIHoeRZJ50gam91Ht5Iybr4w3HnDsFuWKUmnSLpJqQpEKb8Bpth+UdKWkg7KqdYlrAEsAiDpy5J+rUG6gHYBZ5NWpa8BfJU0iyx2R9hezPZ8thewPTZvzzROOUYZzEUkfTq799aRdEvlcRdwS02XOZoUi30CUo070nethGclLQBMkXSspM9SeI/NhuhcUrLIjaRqD8ULlbMhWgLYPj+WqMHz81tSObIXSbOy1qN1zREZp9ZJPfMg3fAhleD4PqmC7y2FMv+a/76HZFReD9xUh66kUcirgf8jVTSeUCjzlvx3M1Lxye1ILr65/tkMoOuNVZ3z80lz4LrFn108ij+DxUmj8HNJzfpaj6VqvMZ1+e/NlX2l94LVSLP9saQirz8AXl0oc0uSG+4qUqLUXcDmNfz/B5MG6cfkx1TgwEKZt9b9Xei1NPP5lcpvvJ8UIHxhoDUhI6RVxfG9wBm2p+U0zlJedpo9fQA43vbxOQ22hJZrbzvgJNt/kNR1rTYyreytByRtR0o9XmoOXLeOzy4owCkh4Elg1wYvM03SbqSW6muTatxdWyLQ9j9yXGsFF3bUrvB94N3OcTKlnm7nkmLTJewNbOScdCTpO6TYbMe1+IBrJa1ne2qhbjPpKRcfqQ/S3aQYxJ+yH7YoBgXcKOlSkoG6JGfd1bHw8wWlVht7MKsH1PyFMu+XdCKwMzAh+4y79Tvw9RzY/zwpg/FkalwDMwS9GZTtPQ4keTueA84hGcSOi5rCzLjWFOB/8/b6ksYX6jm/K0kctv+P8vsApIFYNRb9EuWDs81I98Pbs0t2ak5M65ieTZJoIekVLkhCyMkW6wMznKodvApYyXbZB5PaMe9HWvt0rlIPmI/Y/k6BzEVIrSumOjVrXAFYz/alJbrOS3SSChuMPnLC0BH0DejbBQkYkm4ktW2Z6FlltIrWG+X1gC+TmglCCk+McUELiyz3c6TBb6tay/uB023/qEBm/YkXvWSghssyKZC7Esn/XJX5pxKZTZEX/y1HX13vmXsaDYxSa5DjSMV9Xya5Hz5re0bD173OBdWXg9GBpNtJM/NbqXg8im6m+bujvnUei7IO8z1rf9LsBFJm709tl/aGIydIzZRruzSEUDu9FoP6LWkqfyPlzf+Amb7bnYHb6Ns6ushASdqUlGnUMnytdOjOKwNLB5KCtw8y60dpoOuqCJDcLj8hdf6EtL7kXFINsY7J8cGPMki7jTBOPcPDtkublfan9rgW6bd/nO0fwMwBZh2L9TcGpjl3ks6ZyBvZvr5Udp302gzqVttvqFnm7cAb6xjR9JP7d1LM5UYqvmIX1M9Tag2yUYmMOcVAI0/VUHVcPdpuI+iLUm+4XUnNAKuFXTuue6eBezd9reTeIOk6YCvb/87bryR9X9/Wqcws52bgLc4GIIcqJnebe7vXZlC1Z5kAM0hBy1oNFPCk7YtrlnkvaQbZtUhqZepdLOlQ4DzSLG9nYEINl9jIud0GgO3H89qVoLfYi9Swb376ehNKCrOumx+vyI8dSQVvSzwUC7WME4Dtf2dDWIpcmZ3YfllS19mDrlOoYTYD9swL/p6jnvIez5IW5vUfiZWWw79S0ndJP5iq3JsKZM4AJkr6Qz+ZPyiQWTc3MqujLsCnKq+ZsmrT0KPtNoLZ2MD2OjXLPJsB4lqFPCPpLRVX3FuBOjqCz5B0EPCzvP3/SPeHrqLXDNS2Dcgcnx9104q1jKvsMylLqFPuyY8F8qPrsF26mn84erXdRtCXayWta/u2GmU2Edf6DHC+pH+SBm3Lk7wJpexH+i18mXRfuYLUgqOr6KkYVAtJy9K3vlvXZbH1KpI+ONTrJTGCyjVeS4+22wgSSu3Z1yJVZqjFm9JEXCvLnZ/U/RpSe6AXKq9tbfuyEvmDXPMw29+qW+6I9eglAyVpB9LK7BVJnWRXA/5mu+P6azlb51sk33PV6HWcbVeRvR2zF0vtOCVeDRVgrRNJp+WnywJvA1rV298BXGv7fYXyW9lLT+ftscDrui17KWiWRtbsSGeR4lrTqMS1StcsDXPNRtbtdct6wF5z8X2N1LDucttvlvQOcv+mAk4jpW7/kHQT3YsaqjNI+h9SYdd3kKoo7ATcUCj2bOCXwPtIU/w9gNorsZdgey+AXJ1jXdsP5O0VgNNruMTPgOoP798D7AvmcUoM0RA0EdcajqZKc3VFya9uLXPTFC/kFOv5JM1n+0r6xng6YWGnjrSy/Q/bR5Nq3ZXyNtsfBx7Pdb02AV5TKPNVTp1+X7B9VR7Zdc3sqR+rtIxT5kFSx+JSZsteovcGakEzXJsrwMxJmnKBdYVrrdd+mE/kdQR/As6W9BCVcvAd8lxeQ3CHUpPB+4FXFsqEWZk6z0paEXgUWKFQ5twqwNoJV0i6hLQ4F1Jg+PIa5I6K7KVgVLIxKaO3zizhuUVXzKB6zUDtSLrxf5ZUTWBxUqn5Eg4mueIOIrkQ30FynZXye6X+T98FbiKNaH5eKLNagPV4UluAOVGAdcTYPkCpkvvmeddJtn8z1DltMiqyl4JRyTZz4Zp3NyT3/IbkjoieSpIYDkl/sb1JzTKPt31goYwFSQv2nqzsqz17p1syd1rkQPbati/PixPHtJIbOpQ3htQS5aO1KRkEDSPpbcxeP/SMDmUdzxDuuxrWb9ZKr8WghmOh4Q8ZMZuWCrD9XNU4ZTquaj4EH25AZkdI2ge4gNQiBWAl4KISmU6t7leLyhHBaEHSmaTW9JsBG+RHSdx8Mmkx/EKkxKA78mN9CRXKeQAABl5JREFUunBtZK+5+IZjNE0nm/ARd4XfObM/qSX39QC5PciyNcidAfw59+mptqPupmoaQdBiHCmbtZZ7k3O7eEmfBjZzbjWUs4avruMadRIGavTShDHtJgP9nO3nlZsT5zphdeh3Z37MByxWg7wgaJJbSdUjHhjuwBGyJCkG/VjefmXe11WEgerLvD4rGY5u0vUqSYcDC0vampRtV1xGJqfst6pCUy3EGQRdyNLAbZJuoG91ih0K5X4buFnSlaTf/eZAXW3qayOSJCpIeoPtW0d4zkK2/9tv39K2H8nP97R9eo1qtq7xa9tDlgXqQObhtr9Zp8xOyan7e5NaF4jUuuDkUleHpDcAZzIrvf4R4OO2p5XIDYImkLTFQPttX1WD7OWZVfPzetv/KpVZNz1loHKdt++QyuiIWesUxhbInArsY/u6vP0h4Fu2SxfV1pa9M9oyd1pIWhhY1fbtNcq8FjgiL9JG0pbAN0v76wTBaELSFbbfNdy+uU2vufiOBbavuTjobsCpkiaSavy9ihqqM+TsnbWAKfTt1NtJeunk/HdTUs3AX+btD5M6AXcduW7id0mZRWtIWh84pgbXxqIt4wRge6KkRQtlBkEj5NqRxwOvI/0WxgDPdDqolrQQad3m0rlZZ8utP5aUKdtV9JqBerDuytW2p+a2DWcCTwOb276vBtG1Ze+MtsydzFGkLL6JALanSKqjFccMSV8hfV6QajFGJYmgWzkB2IW0cHYc8HHKSp59itTCY0VSurlIA9+nSYawq+i1dVCTJf1S0q6SPth6lAiUdArpA38jqVDs7yXtX4OureydOmll7rToysydzAsDrP3q2FjnGSkkg7wMqRHkr0lB6MaqTQdBKbankxapv2T7NAoqVtg+Lvdc+wawfn5+GmmQ9pdaFK6RXptBjSV1wH13ZV9pm+epwCfzTOcuSRsBdaypaSJ7Z1Rk7mSmSdoNGJNbmhwEXFsg7625puEepHJUrZEjdFf2YhBUeTYvLJ8i6VhSunkdE4udbB8jaTNSSOJ7pPqUGw192pylp5IkRhNNZe90e+aOpDNtfyynmC9K3yy+r/XPmByB3IOATwNrkgr6znyJlChT3L8rCOoml/t6kBR/+iypfuhP86yqRO7NueXQt4Cpts9p7SvXuj56wkBJ+qLtYwfLZivJYmuyYWHdjIbMHUm3AVsBF5NmOn2w/dhsJ41M/s9sf7pERhDMSRrKZv09aaC2Nank0X+AG2y/qa5r1EGvuPhaiRGTqb9aQlMNC2vL3hllmTv/Q6owviazsg9hlkuuyPCHcQpGE5K2J7nf6s5m/QgplvU920/khqBfKJRZOz0xg2ohaQPgcPquLSrq1yLpRttvlTTV9nrVfYW6TmaA7B3bh3Ug62BmZe7cT9/MnZNs/6RE1yaImU4QpHsJKUY0seV+q95r5nV6ZQbV4izSKGEq8HJNMptqWIjt6ZLG5Crcp0m6GRixgbJ9HHCcpCOBH9l+Kqdav4UuzNyBmOkEQeYF20+2alJmemZW0WsG6mHb42uWOVDDwo/XILeJ7J1RkbkTBMFM6s5mHVX0movvXcCupBhHNXW74zRzSeOAI4DVgPlniSxr89xE9s5oydwJgiCRG3UewaylMa1s1ucGP2veodcM1FnAa4FpzHLx2XbHCzUl3c4AbkPb/yhQtSW71uyd0ZK5EwRBojIAXp2a4uajiV4zULfbXqdmmdfY3qxOmVnuzOwd27Vk7+TR2Dak2dMdOXNnPduX1qN1EAR1kgfAh5Aqy9Q6AB4N9JqBOg34ru3aCqQ24TbMcns6eycIguYGwKOFXkuS2JiUdHAXyZi0qgiUTJf3IrkN56fiNqSsfBL0ePZOEAQAHCXpZGoeAI8Wes1AdVxkcQg2qNttmOnp7J0gCOD/t3fvOAzCQBQAd6Wchsvk1mnSkSLKbVJAqpRgsdbOSLQW3fPngWPcBHgKrbb4RhixbbiP27q9A4w5N59Jt+s2RvhtG34yc83MV2auJ4y77M8ttn/83SPiecK4wDwemblc/RJXsYI6aP9e6c/Rlk339g4QkZnv2G7WPvPcfBoCqqju7R1g3AR4FgKqqFH1dYBZdGvxzaR1ewfACqqo7u0dAC2+ulq3dwCsoIrq3t4BEFBFdW/vAAgoAEpyBgVASQIKgJIEFAAlCSgASvoC532T9kLZEAMAAAAASUVORK5CYII=)\n",
    "\n",
    "It seems like correctness was indeed a relatively important feature as hypothesized. It seems that the time to answer a question as well as title length seem to also be relatively important."
   ]
  },
  {
   "cell_type": "markdown",
   "metadata": {
    "id": "zEhc9pMbYgDC"
   },
   "source": [
    "#### Feature importances using permutation on full model\n",
    "Why? importances do not have a bias toward high-cardinality features and can be computed on a left-out test set."
   ]
  },
  {
   "cell_type": "code",
   "execution_count": null,
   "metadata": {
    "id": "aPEDI7IZU-7i"
   },
   "outputs": [],
   "source": [
    "# Could not run due to RAM issues\n",
    "from sklearn.inspection import permutation_importance\n",
    "\n",
    "result = permutation_importance(forest, X_test, y_test, n_repeats=5, random_state=123, n_jobs=-1)\n",
    "forest_importances = pd.Series(result.importances_mean, index=feature_names)\n",
    "\n",
    "fig, ax = plt.subplots()\n",
    "forest_importances.plot.bar(yerr=result.importances_std, ax=ax)\n",
    "ax.set_title(\"Feature importances using permutation on full model\")\n",
    "ax.set_ylabel(\"Mean accuracy decrease\")\n",
    "fig.tight_layout()\n",
    "plt.show()"
   ]
  }
 ],
 "metadata": {
  "colab": {
   "collapsed_sections": [],
   "name": "2-aggregated.ipynb",
   "provenance": []
  },
  "kernelspec": {
   "display_name": "Python 3 (ipykernel)",
   "language": "python",
   "name": "python3"
  },
  "language_info": {
   "codemirror_mode": {
    "name": "ipython",
    "version": 3
   },
   "file_extension": ".py",
   "mimetype": "text/x-python",
   "name": "python",
   "nbconvert_exporter": "python",
   "pygments_lexer": "ipython3",
   "version": "3.8.10"
  }
 },
 "nbformat": 4,
 "nbformat_minor": 4
}
