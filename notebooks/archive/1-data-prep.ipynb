{
 "cells": [
  {
   "cell_type": "markdown",
   "id": "0a866447-aea9-4723-a453-c2a4bdc0c3c3",
   "metadata": {
    "tags": []
   },
   "source": [
    "## M4 | Data Preparation\n",
    "\n",
    "This notebook prepares the data for our different prediction tasks.\n",
    "\n",
    "**Research question** : Predicting student reflection responses to the \"How do you feel about your learning progress\" question from their session interactions (response time, response correctness) and from the characteristics of the session (number of questions, feedback mode, time of the day, etc.)\n",
    "\n",
    "#### Useful imports and setup"
   ]
  },
  {
   "cell_type": "code",
   "execution_count": 1,
   "id": "a246670e-dbc2-46a8-a69c-24c0a7c6ab2b",
   "metadata": {
    "tags": []
   },
   "outputs": [],
   "source": [
    "import numpy as np\n",
    "import pandas as pd\n",
    "import matplotlib.pyplot as plt\n",
    "\n",
    "from pathlib import Path\n",
    "\n",
    "# Self defined modules\n",
    "from modules import data\n",
    "\n",
    "%load_ext autoreload\n",
    "%autoreload 2\n",
    "\n",
    "DATA_DIR = '../data'"
   ]
  },
  {
   "cell_type": "markdown",
   "id": "a71f9e92-6cd3-4fe7-a103-56a6a6e3fd85",
   "metadata": {},
   "source": [
    "### Pre-process raw data\n",
    "*Note: skip to later sections if datasets have already been computed*"
   ]
  },
  {
   "cell_type": "markdown",
   "id": "d0857698-b948-4423-bd9b-9214a0b1e940",
   "metadata": {},
   "source": [
    "We build a dataframe from the raw data with columns `[participant_id, answer_time, mode, feedback_mode, force_reflection, timer, is_solo, video, image, correctness, nth_answer, response]`. This dataframe can be used to aggregate participant answers, as well as be used for time series analysis."
   ]
  },
  {
   "cell_type": "code",
   "execution_count": 2,
   "id": "dc9fb4d3-76b9-4933-9a2c-2814c35b7cc0",
   "metadata": {},
   "outputs": [
    {
     "ename": "TypeError",
     "evalue": "object of type 'float' has no len()",
     "output_type": "error",
     "traceback": [
      "\u001b[0;31m---------------------------------------------------------------------------\u001b[0m",
      "\u001b[0;31mTypeError\u001b[0m                                 Traceback (most recent call last)",
      "\u001b[0;32m/tmp/ipykernel_11847/2124662335.py\u001b[0m in \u001b[0;36m<module>\u001b[0;34m\u001b[0m\n\u001b[1;32m      5\u001b[0m \u001b[0;32mif\u001b[0m \u001b[0;32mnot\u001b[0m \u001b[0mpath\u001b[0m\u001b[0;34m.\u001b[0m\u001b[0mis_file\u001b[0m\u001b[0;34m(\u001b[0m\u001b[0;34m)\u001b[0m\u001b[0;34m:\u001b[0m\u001b[0;34m\u001b[0m\u001b[0;34m\u001b[0m\u001b[0m\n\u001b[1;32m      6\u001b[0m     \u001b[0mraw_data_dir\u001b[0m \u001b[0;34m=\u001b[0m \u001b[0;34m'{}/raw'\u001b[0m\u001b[0;34m.\u001b[0m\u001b[0mformat\u001b[0m\u001b[0;34m(\u001b[0m\u001b[0mDATA_DIR\u001b[0m\u001b[0;34m)\u001b[0m\u001b[0;34m\u001b[0m\u001b[0;34m\u001b[0m\u001b[0m\n\u001b[0;32m----> 7\u001b[0;31m     \u001b[0mdata\u001b[0m\u001b[0;34m.\u001b[0m\u001b[0mprocess_time_series_data\u001b[0m\u001b[0;34m(\u001b[0m\u001b[0mraw_data_dir\u001b[0m\u001b[0;34m,\u001b[0m \u001b[0mpath\u001b[0m\u001b[0;34m)\u001b[0m\u001b[0;34m\u001b[0m\u001b[0;34m\u001b[0m\u001b[0m\n\u001b[0m\u001b[1;32m      8\u001b[0m \u001b[0;34m\u001b[0m\u001b[0m\n\u001b[1;32m      9\u001b[0m \u001b[0;31m# Load the processed data\u001b[0m\u001b[0;34m\u001b[0m\u001b[0;34m\u001b[0m\u001b[0;34m\u001b[0m\u001b[0m\n",
      "\u001b[0;32m~/Documents/milestone-4-team-dino/notebooks/modules/data.py\u001b[0m in \u001b[0;36mprocess_time_series_data\u001b[0;34m(data_dir, output)\u001b[0m\n\u001b[1;32m     85\u001b[0m     \u001b[0manswers\u001b[0m\u001b[0;34m[\u001b[0m\u001b[0;34m'is_solo'\u001b[0m\u001b[0;34m]\u001b[0m \u001b[0;34m=\u001b[0m \u001b[0manswers\u001b[0m\u001b[0;34m.\u001b[0m\u001b[0msession_id\u001b[0m\u001b[0;34m.\u001b[0m\u001b[0mmap\u001b[0m\u001b[0;34m(\u001b[0m\u001b[0msession_information\u001b[0m\u001b[0;34m.\u001b[0m\u001b[0mis_solo\u001b[0m\u001b[0;34m)\u001b[0m\u001b[0;34m\u001b[0m\u001b[0;34m\u001b[0m\u001b[0m\n\u001b[1;32m     86\u001b[0m     \u001b[0;31m# Features extracted from title\u001b[0m\u001b[0;34m\u001b[0m\u001b[0;34m\u001b[0m\u001b[0;34m\u001b[0m\u001b[0m\n\u001b[0;32m---> 87\u001b[0;31m     \u001b[0manswers\u001b[0m\u001b[0;34m[\u001b[0m\u001b[0;34m'title_lang'\u001b[0m\u001b[0;34m]\u001b[0m \u001b[0;34m=\u001b[0m \u001b[0manswers\u001b[0m\u001b[0;34m.\u001b[0m\u001b[0msession_id\u001b[0m\u001b[0;34m.\u001b[0m\u001b[0mmap\u001b[0m\u001b[0;34m(\u001b[0m\u001b[0msession_information\u001b[0m\u001b[0;34m.\u001b[0m\u001b[0mtitle\u001b[0m\u001b[0;34m)\u001b[0m\u001b[0;34m.\u001b[0m\u001b[0mapply\u001b[0m\u001b[0;34m(\u001b[0m\u001b[0;32mlambda\u001b[0m \u001b[0mt\u001b[0m\u001b[0;34m:\u001b[0m \u001b[0mdetect\u001b[0m\u001b[0;34m(\u001b[0m\u001b[0mt\u001b[0m\u001b[0;34m)\u001b[0m \u001b[0;32mif\u001b[0m \u001b[0mlen\u001b[0m\u001b[0;34m(\u001b[0m\u001b[0mt\u001b[0m\u001b[0;34m)\u001b[0m\u001b[0;34m>\u001b[0m\u001b[0;36m0\u001b[0m \u001b[0;32melse\u001b[0m \u001b[0mnp\u001b[0m\u001b[0;34m.\u001b[0m\u001b[0mnan\u001b[0m\u001b[0;34m)\u001b[0m\u001b[0;34m\u001b[0m\u001b[0;34m\u001b[0m\u001b[0m\n\u001b[0m\u001b[1;32m     88\u001b[0m     \u001b[0manswers\u001b[0m\u001b[0;34m[\u001b[0m\u001b[0;34m'title_len'\u001b[0m\u001b[0;34m]\u001b[0m \u001b[0;34m=\u001b[0m \u001b[0manswers\u001b[0m\u001b[0;34m.\u001b[0m\u001b[0msession_id\u001b[0m\u001b[0;34m.\u001b[0m\u001b[0mmap\u001b[0m\u001b[0;34m(\u001b[0m\u001b[0msession_information\u001b[0m\u001b[0;34m.\u001b[0m\u001b[0mtitle\u001b[0m\u001b[0;34m)\u001b[0m\u001b[0;34m.\u001b[0m\u001b[0mapply\u001b[0m\u001b[0;34m(\u001b[0m\u001b[0;32mlambda\u001b[0m \u001b[0mt\u001b[0m\u001b[0;34m:\u001b[0m \u001b[0mlen\u001b[0m\u001b[0;34m(\u001b[0m\u001b[0mt\u001b[0m\u001b[0;34m)\u001b[0m\u001b[0;34m)\u001b[0m\u001b[0;34m\u001b[0m\u001b[0;34m\u001b[0m\u001b[0m\n\u001b[1;32m     89\u001b[0m     \u001b[0manswers\u001b[0m\u001b[0;34m[\u001b[0m\u001b[0;34m'title_topic'\u001b[0m\u001b[0;34m]\u001b[0m \u001b[0;34m=\u001b[0m \u001b[0manswers\u001b[0m\u001b[0;34m.\u001b[0m\u001b[0msession_id\u001b[0m\u001b[0;34m.\u001b[0m\u001b[0mmap\u001b[0m\u001b[0;34m(\u001b[0m\u001b[0msession_information\u001b[0m\u001b[0;34m.\u001b[0m\u001b[0mtitle\u001b[0m\u001b[0;34m)\u001b[0m\u001b[0;34m.\u001b[0m\u001b[0mapply\u001b[0m\u001b[0;34m(\u001b[0m\u001b[0;32mlambda\u001b[0m \u001b[0mt\u001b[0m\u001b[0;34m:\u001b[0m \u001b[0mget_topic\u001b[0m\u001b[0;34m(\u001b[0m\u001b[0mt\u001b[0m\u001b[0;34m)\u001b[0m\u001b[0;34m)\u001b[0m\u001b[0;34m\u001b[0m\u001b[0;34m\u001b[0m\u001b[0m\n",
      "\u001b[0;32m~/.local/lib/python3.8/site-packages/pandas/core/series.py\u001b[0m in \u001b[0;36mapply\u001b[0;34m(self, func, convert_dtype, args, **kwargs)\u001b[0m\n\u001b[1;32m   4355\u001b[0m         \u001b[0mdtype\u001b[0m\u001b[0;34m:\u001b[0m \u001b[0mfloat64\u001b[0m\u001b[0;34m\u001b[0m\u001b[0;34m\u001b[0m\u001b[0m\n\u001b[1;32m   4356\u001b[0m         \"\"\"\n\u001b[0;32m-> 4357\u001b[0;31m         \u001b[0;32mreturn\u001b[0m \u001b[0mSeriesApply\u001b[0m\u001b[0;34m(\u001b[0m\u001b[0mself\u001b[0m\u001b[0;34m,\u001b[0m \u001b[0mfunc\u001b[0m\u001b[0;34m,\u001b[0m \u001b[0mconvert_dtype\u001b[0m\u001b[0;34m,\u001b[0m \u001b[0margs\u001b[0m\u001b[0;34m,\u001b[0m \u001b[0mkwargs\u001b[0m\u001b[0;34m)\u001b[0m\u001b[0;34m.\u001b[0m\u001b[0mapply\u001b[0m\u001b[0;34m(\u001b[0m\u001b[0;34m)\u001b[0m\u001b[0;34m\u001b[0m\u001b[0;34m\u001b[0m\u001b[0m\n\u001b[0m\u001b[1;32m   4358\u001b[0m \u001b[0;34m\u001b[0m\u001b[0m\n\u001b[1;32m   4359\u001b[0m     def _reduce(\n",
      "\u001b[0;32m~/.local/lib/python3.8/site-packages/pandas/core/apply.py\u001b[0m in \u001b[0;36mapply\u001b[0;34m(self)\u001b[0m\n\u001b[1;32m   1041\u001b[0m             \u001b[0;32mreturn\u001b[0m \u001b[0mself\u001b[0m\u001b[0;34m.\u001b[0m\u001b[0mapply_str\u001b[0m\u001b[0;34m(\u001b[0m\u001b[0;34m)\u001b[0m\u001b[0;34m\u001b[0m\u001b[0;34m\u001b[0m\u001b[0m\n\u001b[1;32m   1042\u001b[0m \u001b[0;34m\u001b[0m\u001b[0m\n\u001b[0;32m-> 1043\u001b[0;31m         \u001b[0;32mreturn\u001b[0m \u001b[0mself\u001b[0m\u001b[0;34m.\u001b[0m\u001b[0mapply_standard\u001b[0m\u001b[0;34m(\u001b[0m\u001b[0;34m)\u001b[0m\u001b[0;34m\u001b[0m\u001b[0;34m\u001b[0m\u001b[0m\n\u001b[0m\u001b[1;32m   1044\u001b[0m \u001b[0;34m\u001b[0m\u001b[0m\n\u001b[1;32m   1045\u001b[0m     \u001b[0;32mdef\u001b[0m \u001b[0magg\u001b[0m\u001b[0;34m(\u001b[0m\u001b[0mself\u001b[0m\u001b[0;34m)\u001b[0m\u001b[0;34m:\u001b[0m\u001b[0;34m\u001b[0m\u001b[0;34m\u001b[0m\u001b[0m\n",
      "\u001b[0;32m~/.local/lib/python3.8/site-packages/pandas/core/apply.py\u001b[0m in \u001b[0;36mapply_standard\u001b[0;34m(self)\u001b[0m\n\u001b[1;32m   1097\u001b[0m                 \u001b[0;31m# List[Union[Callable[..., Any], str]]]]]\"; expected\u001b[0m\u001b[0;34m\u001b[0m\u001b[0;34m\u001b[0m\u001b[0;34m\u001b[0m\u001b[0m\n\u001b[1;32m   1098\u001b[0m                 \u001b[0;31m# \"Callable[[Any], Any]\"\u001b[0m\u001b[0;34m\u001b[0m\u001b[0;34m\u001b[0m\u001b[0;34m\u001b[0m\u001b[0m\n\u001b[0;32m-> 1099\u001b[0;31m                 mapped = lib.map_infer(\n\u001b[0m\u001b[1;32m   1100\u001b[0m                     \u001b[0mvalues\u001b[0m\u001b[0;34m,\u001b[0m\u001b[0;34m\u001b[0m\u001b[0;34m\u001b[0m\u001b[0m\n\u001b[1;32m   1101\u001b[0m                     \u001b[0mf\u001b[0m\u001b[0;34m,\u001b[0m  \u001b[0;31m# type: ignore[arg-type]\u001b[0m\u001b[0;34m\u001b[0m\u001b[0;34m\u001b[0m\u001b[0m\n",
      "\u001b[0;32m~/.local/lib/python3.8/site-packages/pandas/_libs/lib.pyx\u001b[0m in \u001b[0;36mpandas._libs.lib.map_infer\u001b[0;34m()\u001b[0m\n",
      "\u001b[0;32m~/Documents/milestone-4-team-dino/notebooks/modules/data.py\u001b[0m in \u001b[0;36m<lambda>\u001b[0;34m(t)\u001b[0m\n\u001b[1;32m     85\u001b[0m     \u001b[0manswers\u001b[0m\u001b[0;34m[\u001b[0m\u001b[0;34m'is_solo'\u001b[0m\u001b[0;34m]\u001b[0m \u001b[0;34m=\u001b[0m \u001b[0manswers\u001b[0m\u001b[0;34m.\u001b[0m\u001b[0msession_id\u001b[0m\u001b[0;34m.\u001b[0m\u001b[0mmap\u001b[0m\u001b[0;34m(\u001b[0m\u001b[0msession_information\u001b[0m\u001b[0;34m.\u001b[0m\u001b[0mis_solo\u001b[0m\u001b[0;34m)\u001b[0m\u001b[0;34m\u001b[0m\u001b[0;34m\u001b[0m\u001b[0m\n\u001b[1;32m     86\u001b[0m     \u001b[0;31m# Features extracted from title\u001b[0m\u001b[0;34m\u001b[0m\u001b[0;34m\u001b[0m\u001b[0;34m\u001b[0m\u001b[0m\n\u001b[0;32m---> 87\u001b[0;31m     \u001b[0manswers\u001b[0m\u001b[0;34m[\u001b[0m\u001b[0;34m'title_lang'\u001b[0m\u001b[0;34m]\u001b[0m \u001b[0;34m=\u001b[0m \u001b[0manswers\u001b[0m\u001b[0;34m.\u001b[0m\u001b[0msession_id\u001b[0m\u001b[0;34m.\u001b[0m\u001b[0mmap\u001b[0m\u001b[0;34m(\u001b[0m\u001b[0msession_information\u001b[0m\u001b[0;34m.\u001b[0m\u001b[0mtitle\u001b[0m\u001b[0;34m)\u001b[0m\u001b[0;34m.\u001b[0m\u001b[0mapply\u001b[0m\u001b[0;34m(\u001b[0m\u001b[0;32mlambda\u001b[0m \u001b[0mt\u001b[0m\u001b[0;34m:\u001b[0m \u001b[0mdetect\u001b[0m\u001b[0;34m(\u001b[0m\u001b[0mt\u001b[0m\u001b[0;34m)\u001b[0m \u001b[0;32mif\u001b[0m \u001b[0mlen\u001b[0m\u001b[0;34m(\u001b[0m\u001b[0mt\u001b[0m\u001b[0;34m)\u001b[0m\u001b[0;34m>\u001b[0m\u001b[0;36m0\u001b[0m \u001b[0;32melse\u001b[0m \u001b[0mnp\u001b[0m\u001b[0;34m.\u001b[0m\u001b[0mnan\u001b[0m\u001b[0;34m)\u001b[0m\u001b[0;34m\u001b[0m\u001b[0;34m\u001b[0m\u001b[0m\n\u001b[0m\u001b[1;32m     88\u001b[0m     \u001b[0manswers\u001b[0m\u001b[0;34m[\u001b[0m\u001b[0;34m'title_len'\u001b[0m\u001b[0;34m]\u001b[0m \u001b[0;34m=\u001b[0m \u001b[0manswers\u001b[0m\u001b[0;34m.\u001b[0m\u001b[0msession_id\u001b[0m\u001b[0;34m.\u001b[0m\u001b[0mmap\u001b[0m\u001b[0;34m(\u001b[0m\u001b[0msession_information\u001b[0m\u001b[0;34m.\u001b[0m\u001b[0mtitle\u001b[0m\u001b[0;34m)\u001b[0m\u001b[0;34m.\u001b[0m\u001b[0mapply\u001b[0m\u001b[0;34m(\u001b[0m\u001b[0;32mlambda\u001b[0m \u001b[0mt\u001b[0m\u001b[0;34m:\u001b[0m \u001b[0mlen\u001b[0m\u001b[0;34m(\u001b[0m\u001b[0mt\u001b[0m\u001b[0;34m)\u001b[0m\u001b[0;34m)\u001b[0m\u001b[0;34m\u001b[0m\u001b[0;34m\u001b[0m\u001b[0m\n\u001b[1;32m     89\u001b[0m     \u001b[0manswers\u001b[0m\u001b[0;34m[\u001b[0m\u001b[0;34m'title_topic'\u001b[0m\u001b[0;34m]\u001b[0m \u001b[0;34m=\u001b[0m \u001b[0manswers\u001b[0m\u001b[0;34m.\u001b[0m\u001b[0msession_id\u001b[0m\u001b[0;34m.\u001b[0m\u001b[0mmap\u001b[0m\u001b[0;34m(\u001b[0m\u001b[0msession_information\u001b[0m\u001b[0;34m.\u001b[0m\u001b[0mtitle\u001b[0m\u001b[0;34m)\u001b[0m\u001b[0;34m.\u001b[0m\u001b[0mapply\u001b[0m\u001b[0;34m(\u001b[0m\u001b[0;32mlambda\u001b[0m \u001b[0mt\u001b[0m\u001b[0;34m:\u001b[0m \u001b[0mget_topic\u001b[0m\u001b[0;34m(\u001b[0m\u001b[0mt\u001b[0m\u001b[0;34m)\u001b[0m\u001b[0;34m)\u001b[0m\u001b[0;34m\u001b[0m\u001b[0;34m\u001b[0m\u001b[0m\n",
      "\u001b[0;31mTypeError\u001b[0m: object of type 'float' has no len()"
     ]
    }
   ],
   "source": [
    "path_to_processed_data = '{}/processed/time-series-processed.csv.gz'.format(DATA_DIR)\n",
    "path = Path(path_to_processed_data)\n",
    "\n",
    "# Compute the processed dataset if it does not exist\n",
    "if not path.is_file():\n",
    "    raw_data_dir = '{}/raw'.format(DATA_DIR)\n",
    "    data.process_time_series_data(raw_data_dir, path)\n",
    "\n",
    "# Load the processed data\n",
    "df = data.load_dataframe(path_to_processed_data)\n",
    "df.head()"
   ]
  },
  {
   "cell_type": "markdown",
   "id": "4a16824e-2bf2-439d-847c-31fa11a3268c",
   "metadata": {},
   "source": [
    "### Missing data\n",
    "We will impute missing data with a different strategy given the nature of the data. For categorical features, we will replace missing data by the most frequent class. For numerical features. we simply replace with the mean of defined values."
   ]
  },
  {
   "cell_type": "code",
   "execution_count": null,
   "id": "5dbe3005-2b9d-4519-a267-61447ad87bec",
   "metadata": {},
   "outputs": [],
   "source": [
    "# Are there any nan values in the data?\n",
    "nan_columns = df.columns[df.isna().any()].to_list()\n",
    "nan_columns"
   ]
  },
  {
   "cell_type": "code",
   "execution_count": null,
   "id": "b10f3b5e-8e0d-4e11-99a3-42247df40873",
   "metadata": {},
   "outputs": [],
   "source": [
    "# Impute missing values\n",
    "from sklearn.impute import SimpleImputer\n",
    "imp_frequent = SimpleImputer(strategy='most_frequent')\n",
    "imp_mean = SimpleImputer(strategy='mean')\n",
    "for col in ['answer_time', 'timer', 'correctness']:\n",
    "    df[col] = imp_mean.fit_transform(df[col].array.reshape(-1,1))\n",
    "for col in ['mode', 'feedback_mode', 'force_reflection', 'is_solo']:\n",
    "    df[col] = imp_frequent.fit_transform(df[col].array.reshape(-1,1))"
   ]
  },
  {
   "cell_type": "markdown",
   "id": "2bd420fd-4ee1-4b06-82a9-101bc2987d14",
   "metadata": {},
   "source": [
    "### Normalizing data\n",
    "In order for all features to be on the same scale, we normalize our data"
   ]
  },
  {
   "cell_type": "code",
   "execution_count": null,
   "id": "eb27705c-ce35-4d76-87b3-6b79698e0ce8",
   "metadata": {},
   "outputs": [],
   "source": [
    "# Scale numerical features not in [0,1] to [0,1]\n",
    "from sklearn.preprocessing import MinMaxScaler\n",
    "min_max = MinMaxScaler()\n",
    "for col in ['answer_time', 'timer']:\n",
    "    df[col] = min_max.fit_transform(df[col].values.reshape(-1, 1))"
   ]
  },
  {
   "cell_type": "markdown",
   "id": "3696928f-dd96-4fd3-8e7b-d96cef3ea07a",
   "metadata": {},
   "source": [
    "### Encode categorical features"
   ]
  },
  {
   "cell_type": "code",
   "execution_count": null,
   "id": "3eec2ee5-f3b1-4875-baec-142fa9f2ae3f",
   "metadata": {},
   "outputs": [],
   "source": [
    "# Encode categorical columns\n",
    "df['feedback_mode'] = df['feedback_mode'].astype('category').cat.codes.astype('float')\n",
    "df['mode'] = df['mode'].astype('category').cat.codes.astype('float')\n",
    "df['force_reflection'] = df['force_reflection'].astype('category').cat.codes.astype('float')\n",
    "df['is_solo'] = df['is_solo'].astype('category').cat.codes.astype('float')\n",
    "df['video'] = df['video'].astype('category').cat.codes.astype('float')\n",
    "df['image'] = df['image'].astype('category').cat.codes.astype('float')"
   ]
  },
  {
   "cell_type": "markdown",
   "id": "40d97800-4295-453f-a435-cf88bb09ed86",
   "metadata": {},
   "source": [
    "#### Save the final dataset"
   ]
  },
  {
   "cell_type": "code",
   "execution_count": null,
   "id": "8686a496-80e2-4067-9cb8-3dfc2968b136",
   "metadata": {},
   "outputs": [],
   "source": [
    "display(df.head())\n",
    "df.to_csv(f'{DATA_DIR}/processed/final.csv.gz', index=False, compression='gzip')"
   ]
  },
  {
   "cell_type": "markdown",
   "id": "1faafced-ab80-4ff6-9578-2086375e201e",
   "metadata": {},
   "source": [
    "## Adapt for tensorflow\n",
    "We finally can make some adjustments to the dataset for it to be passed as input for use in TensorFlow tensors."
   ]
  },
  {
   "cell_type": "code",
   "execution_count": null,
   "id": "a2c95048-1545-4a60-90e6-6521cac3bf5f",
   "metadata": {},
   "outputs": [],
   "source": [
    "# Load the dataset\n",
    "df = df.read_csv(f'{DATA_DIR}/processed/final.csv.gz')"
   ]
  },
  {
   "cell_type": "markdown",
   "id": "d41ba1c7-b276-4cd6-9706-0ad9d1b4b122",
   "metadata": {},
   "source": [
    "To perform predictions on our time series data, we decide on a fixed number of time steps to consider."
   ]
  },
  {
   "cell_type": "code",
   "execution_count": null,
   "id": "278c27b8-222a-4027-b840-b65d5cd789b9",
   "metadata": {},
   "outputs": [],
   "source": [
    "# We decide to consider a fixed amount of time steps\n",
    "N_STEPS = 10 # Note: can be tuned\n",
    "# Keep first answers by participant\n",
    "df = df[df.nth_answer < N_STEPS]\n",
    "# Extract labels\n",
    "labels = df.groupby('participant_id').response.first()\n",
    "# Drop unused columns\n",
    "df.drop(labels=['nth_answer', 'response'], axis='columns', inplace=True)"
   ]
  },
  {
   "cell_type": "code",
   "execution_count": null,
   "id": "4d816480-803b-4a36-9229-261f6cdff46d",
   "metadata": {},
   "outputs": [],
   "source": [
    "# Number of features = # of columns - participant_id column\n",
    "N_FEATURES = df.shape[1] - 1\n",
    "feature_cols = ['answer_time', 'mode', 'feedback_mode', 'force_reflection', 'timer', 'is_solo', 'video', 'image', 'correctness']"
   ]
  },
  {
   "cell_type": "markdown",
   "id": "e10a41ac-52b1-4500-bc7f-328a2f2f63fe",
   "metadata": {},
   "source": [
    "Since not all participants have a enough answers, we need to pad our data:"
   ]
  },
  {
   "cell_type": "code",
   "execution_count": null,
   "id": "60e1b304-fe0c-46b6-b6b5-27406473602b",
   "metadata": {},
   "outputs": [],
   "source": [
    "PAD_VALUE = -1.0\n",
    "\n",
    "def pad(values, n_steps=N_STEPS, pad_val=PAD_VALUE):\n",
    "    return np.pad(values, [(0, n_steps-values.shape[0]), (0, 0)], mode='constant', constant_values=pad_val)\n",
    "\n",
    "df = df.groupby('participant_id').apply(lambda r: np.stack(pad(r[feature_cols].values), axis=0)).explode()"
   ]
  },
  {
   "cell_type": "code",
   "execution_count": null,
   "id": "9de62912-9517-4e5d-8bab-6ce5fcb442da",
   "metadata": {},
   "outputs": [],
   "source": [
    "# Explode column of list\n",
    "X = np.array(df.to_list())\n",
    "# Reshape as tensor\n",
    "X = X.reshape(-1, N_STEPS, N_FEATURES)\n",
    "X.shape"
   ]
  },
  {
   "cell_type": "code",
   "execution_count": null,
   "id": "5fbf88fa-847a-47ef-9d2f-b9e9ddc29250",
   "metadata": {},
   "outputs": [],
   "source": [
    "np.save(f'{DATA_DIR}/processed/{N_STEPS}-steps.npy', X)\n",
    "labels.to_csv(f'{DATA_DIR}/processed/participant-labels.csv.gz', compression='gzip')"
   ]
  }
 ],
 "metadata": {
  "kernelspec": {
   "display_name": "Python 3 (ipykernel)",
   "language": "python",
   "name": "python3"
  },
  "language_info": {
   "codemirror_mode": {
    "name": "ipython",
    "version": 3
   },
   "file_extension": ".py",
   "mimetype": "text/x-python",
   "name": "python",
   "nbconvert_exporter": "python",
   "pygments_lexer": "ipython3",
   "version": "3.8.11"
  }
 },
 "nbformat": 4,
 "nbformat_minor": 5
}
