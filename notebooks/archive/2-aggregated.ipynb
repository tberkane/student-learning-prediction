{
 "cells": [
  {
   "cell_type": "markdown",
   "metadata": {
    "id": "xzbZgko9DOcL",
    "tags": []
   },
   "source": [
    "## M4 | Predictions on aggregated data\n",
    "\n",
    "**Research question:** Predicting student reflection responses to the \"How do you feel about your learning progress\" question from their session interactions (response time, response correctness) and from the characteristics of the session (number of questions, feedback mode, time of the day, etc.)"
   ]
  },
  {
   "cell_type": "code",
   "execution_count": 215,
   "metadata": {
    "id": "LaJ59ZOPGI5N"
   },
   "outputs": [],
   "source": [
    "import numpy as np\n",
    "import pandas as pd\n",
    "import seaborn as sns\n",
    "import matplotlib.pyplot as plt\n",
    "\n",
    "DATA_DIR = '../data/processed' # Change accordingly\n",
    "\n",
    "# Machine Learning\n",
    "from sklearn.model_selection import train_test_split, RandomizedSearchCV, GridSearchCV\n",
    "from sklearn.pipeline import Pipeline\n",
    "from sklearn.preprocessing import StandardScaler\n",
    "from sklearn.linear_model import LogisticRegression\n",
    "from sklearn.svm import LinearSVC, SVC\n",
    "from sklearn.ensemble import RandomForestClassifier\n",
    "from sklearn.metrics import log_loss, balanced_accuracy_score, roc_auc_score"
   ]
  },
  {
   "cell_type": "code",
   "execution_count": 2,
   "metadata": {
    "colab": {
     "base_uri": "https://localhost:8080/"
    },
    "id": "c1ntfmX5NUYO",
    "outputId": "7766b9db-dfa9-47cc-ef4b-c77e9b512df6"
   },
   "outputs": [
    {
     "name": "stdout",
     "output_type": "stream",
     "text": [
      "Mounted at /content/drive\n"
     ]
    }
   ],
   "source": [
    "# Run this cell if working on Colab\n",
    "from google.colab import drive\n",
    "drive.mount('/content/drive')\n",
    "DATA_DIR = '/content/drive/MyDrive/Classtime'"
   ]
  },
  {
   "cell_type": "markdown",
   "metadata": {
    "id": "cRRbTISyCFIp"
   },
   "source": [
    "## Building our dataframe\n",
    "We have generated a dataset of all participant answers with session information and question information such that these participants have answered the relevant feeling of learning question. We will aggregate these features into one row per participant and perform predictions on these."
   ]
  },
  {
   "cell_type": "code",
   "execution_count": 3,
   "metadata": {
    "id": "DlqXrhERNRKS"
   },
   "outputs": [],
   "source": [
    "# Load preprocessed dataset\n",
    "df = pd.read_csv('{}/final.csv.gz'.format(DATA_DIR))"
   ]
  },
  {
   "cell_type": "code",
   "execution_count": 4,
   "metadata": {
    "id": "TgkDAtdQNRKT"
   },
   "outputs": [],
   "source": [
    "# Aggregate participants\n",
    "df = df.groupby('participant_id').agg({\n",
    "    'participant_id': 'first',\n",
    "    'answer_time': ['min', 'max', 'mean'],\n",
    "    'mode': 'first',\n",
    "    'feedback_mode': 'first',\n",
    "    'force_reflection': 'first',\n",
    "    'timer': 'first',\n",
    "    'is_solo': 'first',\n",
    "    'video': 'mean',\n",
    "    'image': 'mean',\n",
    "    'correctness': ['min', 'max', 'mean'],\n",
    "    'nth_answer': 'size', # Number of questions answered\n",
    "    'response': 'first'\n",
    "})"
   ]
  },
  {
   "cell_type": "code",
   "execution_count": 5,
   "metadata": {
    "id": "G9MSz0zDNRKT"
   },
   "outputs": [],
   "source": [
    "# Drop non-feature columns\n",
    "df.drop(labels='participant_id', axis='columns', inplace=True)\n",
    "# Flatten column index\n",
    "df.columns = [\"_\".join(a) for a in df.columns.to_flat_index()]"
   ]
  },
  {
   "cell_type": "code",
   "execution_count": 6,
   "metadata": {
    "colab": {
     "base_uri": "https://localhost:8080/",
     "height": 475
    },
    "collapsed": true,
    "id": "eBGfxLivNRKU",
    "jupyter": {
     "outputs_hidden": true
    },
    "outputId": "be460138-00cf-4512-fee0-771ec1bed505",
    "tags": []
   },
   "outputs": [
    {
     "data": {
      "text/html": [
       "\n",
       "  <div id=\"df-eeca289b-4725-415f-8ff1-965f14d7ef2c\">\n",
       "    <div class=\"colab-df-container\">\n",
       "      <div>\n",
       "<style scoped>\n",
       "    .dataframe tbody tr th:only-of-type {\n",
       "        vertical-align: middle;\n",
       "    }\n",
       "\n",
       "    .dataframe tbody tr th {\n",
       "        vertical-align: top;\n",
       "    }\n",
       "\n",
       "    .dataframe thead th {\n",
       "        text-align: right;\n",
       "    }\n",
       "</style>\n",
       "<table border=\"1\" class=\"dataframe\">\n",
       "  <thead>\n",
       "    <tr style=\"text-align: right;\">\n",
       "      <th></th>\n",
       "      <th>answer_time_min</th>\n",
       "      <th>answer_time_max</th>\n",
       "      <th>answer_time_mean</th>\n",
       "      <th>mode_first</th>\n",
       "      <th>feedback_mode_first</th>\n",
       "      <th>force_reflection_first</th>\n",
       "      <th>timer_first</th>\n",
       "      <th>is_solo_first</th>\n",
       "      <th>video_mean</th>\n",
       "      <th>image_mean</th>\n",
       "      <th>correctness_min</th>\n",
       "      <th>correctness_max</th>\n",
       "      <th>correctness_mean</th>\n",
       "      <th>nth_answer_size</th>\n",
       "      <th>response_first</th>\n",
       "    </tr>\n",
       "    <tr>\n",
       "      <th>participant_id</th>\n",
       "      <th></th>\n",
       "      <th></th>\n",
       "      <th></th>\n",
       "      <th></th>\n",
       "      <th></th>\n",
       "      <th></th>\n",
       "      <th></th>\n",
       "      <th></th>\n",
       "      <th></th>\n",
       "      <th></th>\n",
       "      <th></th>\n",
       "      <th></th>\n",
       "      <th></th>\n",
       "      <th></th>\n",
       "      <th></th>\n",
       "    </tr>\n",
       "  </thead>\n",
       "  <tbody>\n",
       "    <tr>\n",
       "      <th>00000370-cbe8-4301-8728-320b552bf30e</th>\n",
       "      <td>1.004654e-06</td>\n",
       "      <td>0.000019</td>\n",
       "      <td>0.000007</td>\n",
       "      <td>0.0</td>\n",
       "      <td>0.0</td>\n",
       "      <td>0.0</td>\n",
       "      <td>0.041667</td>\n",
       "      <td>0.0</td>\n",
       "      <td>0.0</td>\n",
       "      <td>0.333333</td>\n",
       "      <td>1.0</td>\n",
       "      <td>1.0</td>\n",
       "      <td>1.000000</td>\n",
       "      <td>12</td>\n",
       "      <td>happy</td>\n",
       "    </tr>\n",
       "    <tr>\n",
       "      <th>00000873-7e4a-455a-bf42-08a68ace7d75</th>\n",
       "      <td>3.557573e-07</td>\n",
       "      <td>0.000643</td>\n",
       "      <td>0.000055</td>\n",
       "      <td>0.0</td>\n",
       "      <td>0.0</td>\n",
       "      <td>0.0</td>\n",
       "      <td>0.024368</td>\n",
       "      <td>0.0</td>\n",
       "      <td>0.0</td>\n",
       "      <td>0.000000</td>\n",
       "      <td>0.0</td>\n",
       "      <td>1.0</td>\n",
       "      <td>0.833333</td>\n",
       "      <td>12</td>\n",
       "      <td>happy</td>\n",
       "    </tr>\n",
       "    <tr>\n",
       "      <th>0000308e-9964-4dca-9fe0-62b6df2e61c8</th>\n",
       "      <td>2.491412e-07</td>\n",
       "      <td>0.000006</td>\n",
       "      <td>0.000002</td>\n",
       "      <td>0.0</td>\n",
       "      <td>1.0</td>\n",
       "      <td>0.0</td>\n",
       "      <td>0.024368</td>\n",
       "      <td>0.0</td>\n",
       "      <td>0.0</td>\n",
       "      <td>0.000000</td>\n",
       "      <td>0.5</td>\n",
       "      <td>1.0</td>\n",
       "      <td>0.861667</td>\n",
       "      <td>6</td>\n",
       "      <td>neutral</td>\n",
       "    </tr>\n",
       "    <tr>\n",
       "      <th>0000445b-eeb4-4b70-854c-4ba2152ced50</th>\n",
       "      <td>4.505047e-07</td>\n",
       "      <td>0.000006</td>\n",
       "      <td>0.000002</td>\n",
       "      <td>0.0</td>\n",
       "      <td>1.0</td>\n",
       "      <td>0.0</td>\n",
       "      <td>0.024368</td>\n",
       "      <td>0.0</td>\n",
       "      <td>0.0</td>\n",
       "      <td>0.000000</td>\n",
       "      <td>0.0</td>\n",
       "      <td>1.0</td>\n",
       "      <td>0.583333</td>\n",
       "      <td>12</td>\n",
       "      <td>neutral</td>\n",
       "    </tr>\n",
       "    <tr>\n",
       "      <th>00004874-d34d-4629-9ccb-93390cdafbaa</th>\n",
       "      <td>3.725867e-07</td>\n",
       "      <td>0.000006</td>\n",
       "      <td>0.000002</td>\n",
       "      <td>0.0</td>\n",
       "      <td>1.0</td>\n",
       "      <td>0.0</td>\n",
       "      <td>0.024368</td>\n",
       "      <td>0.0</td>\n",
       "      <td>0.0</td>\n",
       "      <td>0.000000</td>\n",
       "      <td>0.0</td>\n",
       "      <td>1.0</td>\n",
       "      <td>0.416667</td>\n",
       "      <td>24</td>\n",
       "      <td>neutral</td>\n",
       "    </tr>\n",
       "  </tbody>\n",
       "</table>\n",
       "</div>\n",
       "      <button class=\"colab-df-convert\" onclick=\"convertToInteractive('df-eeca289b-4725-415f-8ff1-965f14d7ef2c')\"\n",
       "              title=\"Convert this dataframe to an interactive table.\"\n",
       "              style=\"display:none;\">\n",
       "        \n",
       "  <svg xmlns=\"http://www.w3.org/2000/svg\" height=\"24px\"viewBox=\"0 0 24 24\"\n",
       "       width=\"24px\">\n",
       "    <path d=\"M0 0h24v24H0V0z\" fill=\"none\"/>\n",
       "    <path d=\"M18.56 5.44l.94 2.06.94-2.06 2.06-.94-2.06-.94-.94-2.06-.94 2.06-2.06.94zm-11 1L8.5 8.5l.94-2.06 2.06-.94-2.06-.94L8.5 2.5l-.94 2.06-2.06.94zm10 10l.94 2.06.94-2.06 2.06-.94-2.06-.94-.94-2.06-.94 2.06-2.06.94z\"/><path d=\"M17.41 7.96l-1.37-1.37c-.4-.4-.92-.59-1.43-.59-.52 0-1.04.2-1.43.59L10.3 9.45l-7.72 7.72c-.78.78-.78 2.05 0 2.83L4 21.41c.39.39.9.59 1.41.59.51 0 1.02-.2 1.41-.59l7.78-7.78 2.81-2.81c.8-.78.8-2.07 0-2.86zM5.41 20L4 18.59l7.72-7.72 1.47 1.35L5.41 20z\"/>\n",
       "  </svg>\n",
       "      </button>\n",
       "      \n",
       "  <style>\n",
       "    .colab-df-container {\n",
       "      display:flex;\n",
       "      flex-wrap:wrap;\n",
       "      gap: 12px;\n",
       "    }\n",
       "\n",
       "    .colab-df-convert {\n",
       "      background-color: #E8F0FE;\n",
       "      border: none;\n",
       "      border-radius: 50%;\n",
       "      cursor: pointer;\n",
       "      display: none;\n",
       "      fill: #1967D2;\n",
       "      height: 32px;\n",
       "      padding: 0 0 0 0;\n",
       "      width: 32px;\n",
       "    }\n",
       "\n",
       "    .colab-df-convert:hover {\n",
       "      background-color: #E2EBFA;\n",
       "      box-shadow: 0px 1px 2px rgba(60, 64, 67, 0.3), 0px 1px 3px 1px rgba(60, 64, 67, 0.15);\n",
       "      fill: #174EA6;\n",
       "    }\n",
       "\n",
       "    [theme=dark] .colab-df-convert {\n",
       "      background-color: #3B4455;\n",
       "      fill: #D2E3FC;\n",
       "    }\n",
       "\n",
       "    [theme=dark] .colab-df-convert:hover {\n",
       "      background-color: #434B5C;\n",
       "      box-shadow: 0px 1px 3px 1px rgba(0, 0, 0, 0.15);\n",
       "      filter: drop-shadow(0px 1px 2px rgba(0, 0, 0, 0.3));\n",
       "      fill: #FFFFFF;\n",
       "    }\n",
       "  </style>\n",
       "\n",
       "      <script>\n",
       "        const buttonEl =\n",
       "          document.querySelector('#df-eeca289b-4725-415f-8ff1-965f14d7ef2c button.colab-df-convert');\n",
       "        buttonEl.style.display =\n",
       "          google.colab.kernel.accessAllowed ? 'block' : 'none';\n",
       "\n",
       "        async function convertToInteractive(key) {\n",
       "          const element = document.querySelector('#df-eeca289b-4725-415f-8ff1-965f14d7ef2c');\n",
       "          const dataTable =\n",
       "            await google.colab.kernel.invokeFunction('convertToInteractive',\n",
       "                                                     [key], {});\n",
       "          if (!dataTable) return;\n",
       "\n",
       "          const docLinkHtml = 'Like what you see? Visit the ' +\n",
       "            '<a target=\"_blank\" href=https://colab.research.google.com/notebooks/data_table.ipynb>data table notebook</a>'\n",
       "            + ' to learn more about interactive tables.';\n",
       "          element.innerHTML = '';\n",
       "          dataTable['output_type'] = 'display_data';\n",
       "          await google.colab.output.renderOutput(dataTable, element);\n",
       "          const docLink = document.createElement('div');\n",
       "          docLink.innerHTML = docLinkHtml;\n",
       "          element.appendChild(docLink);\n",
       "        }\n",
       "      </script>\n",
       "    </div>\n",
       "  </div>\n",
       "  "
      ],
      "text/plain": [
       "                                      answer_time_min  answer_time_max  \\\n",
       "participant_id                                                           \n",
       "00000370-cbe8-4301-8728-320b552bf30e     1.004654e-06         0.000019   \n",
       "00000873-7e4a-455a-bf42-08a68ace7d75     3.557573e-07         0.000643   \n",
       "0000308e-9964-4dca-9fe0-62b6df2e61c8     2.491412e-07         0.000006   \n",
       "0000445b-eeb4-4b70-854c-4ba2152ced50     4.505047e-07         0.000006   \n",
       "00004874-d34d-4629-9ccb-93390cdafbaa     3.725867e-07         0.000006   \n",
       "\n",
       "                                      answer_time_mean  mode_first  \\\n",
       "participant_id                                                       \n",
       "00000370-cbe8-4301-8728-320b552bf30e          0.000007         0.0   \n",
       "00000873-7e4a-455a-bf42-08a68ace7d75          0.000055         0.0   \n",
       "0000308e-9964-4dca-9fe0-62b6df2e61c8          0.000002         0.0   \n",
       "0000445b-eeb4-4b70-854c-4ba2152ced50          0.000002         0.0   \n",
       "00004874-d34d-4629-9ccb-93390cdafbaa          0.000002         0.0   \n",
       "\n",
       "                                      feedback_mode_first  \\\n",
       "participant_id                                              \n",
       "00000370-cbe8-4301-8728-320b552bf30e                  0.0   \n",
       "00000873-7e4a-455a-bf42-08a68ace7d75                  0.0   \n",
       "0000308e-9964-4dca-9fe0-62b6df2e61c8                  1.0   \n",
       "0000445b-eeb4-4b70-854c-4ba2152ced50                  1.0   \n",
       "00004874-d34d-4629-9ccb-93390cdafbaa                  1.0   \n",
       "\n",
       "                                      force_reflection_first  timer_first  \\\n",
       "participant_id                                                              \n",
       "00000370-cbe8-4301-8728-320b552bf30e                     0.0     0.041667   \n",
       "00000873-7e4a-455a-bf42-08a68ace7d75                     0.0     0.024368   \n",
       "0000308e-9964-4dca-9fe0-62b6df2e61c8                     0.0     0.024368   \n",
       "0000445b-eeb4-4b70-854c-4ba2152ced50                     0.0     0.024368   \n",
       "00004874-d34d-4629-9ccb-93390cdafbaa                     0.0     0.024368   \n",
       "\n",
       "                                      is_solo_first  video_mean  image_mean  \\\n",
       "participant_id                                                                \n",
       "00000370-cbe8-4301-8728-320b552bf30e            0.0         0.0    0.333333   \n",
       "00000873-7e4a-455a-bf42-08a68ace7d75            0.0         0.0    0.000000   \n",
       "0000308e-9964-4dca-9fe0-62b6df2e61c8            0.0         0.0    0.000000   \n",
       "0000445b-eeb4-4b70-854c-4ba2152ced50            0.0         0.0    0.000000   \n",
       "00004874-d34d-4629-9ccb-93390cdafbaa            0.0         0.0    0.000000   \n",
       "\n",
       "                                      correctness_min  correctness_max  \\\n",
       "participant_id                                                           \n",
       "00000370-cbe8-4301-8728-320b552bf30e              1.0              1.0   \n",
       "00000873-7e4a-455a-bf42-08a68ace7d75              0.0              1.0   \n",
       "0000308e-9964-4dca-9fe0-62b6df2e61c8              0.5              1.0   \n",
       "0000445b-eeb4-4b70-854c-4ba2152ced50              0.0              1.0   \n",
       "00004874-d34d-4629-9ccb-93390cdafbaa              0.0              1.0   \n",
       "\n",
       "                                      correctness_mean  nth_answer_size  \\\n",
       "participant_id                                                            \n",
       "00000370-cbe8-4301-8728-320b552bf30e          1.000000               12   \n",
       "00000873-7e4a-455a-bf42-08a68ace7d75          0.833333               12   \n",
       "0000308e-9964-4dca-9fe0-62b6df2e61c8          0.861667                6   \n",
       "0000445b-eeb4-4b70-854c-4ba2152ced50          0.583333               12   \n",
       "00004874-d34d-4629-9ccb-93390cdafbaa          0.416667               24   \n",
       "\n",
       "                                     response_first  \n",
       "participant_id                                       \n",
       "00000370-cbe8-4301-8728-320b552bf30e          happy  \n",
       "00000873-7e4a-455a-bf42-08a68ace7d75          happy  \n",
       "0000308e-9964-4dca-9fe0-62b6df2e61c8        neutral  \n",
       "0000445b-eeb4-4b70-854c-4ba2152ced50        neutral  \n",
       "00004874-d34d-4629-9ccb-93390cdafbaa        neutral  "
      ]
     },
     "execution_count": 6,
     "metadata": {},
     "output_type": "execute_result"
    }
   ],
   "source": [
    "df.head()"
   ]
  },
  {
   "cell_type": "markdown",
   "metadata": {
    "id": "imjlsyA5Cd4f"
   },
   "source": [
    "## Model training and prediction"
   ]
  },
  {
   "cell_type": "code",
   "execution_count": 7,
   "metadata": {
    "id": "yRYUaV5ZNRKW"
   },
   "outputs": [],
   "source": [
    "# Target label\n",
    "y = df.pop('response_first')\n",
    "# Features\n",
    "X = df.to_numpy()"
   ]
  },
  {
   "cell_type": "markdown",
   "metadata": {
    "id": "UZxqy-_DGvOf"
   },
   "source": [
    "To compare models, we will use accuracy as an evaluation metric. We also compare our model performances to a baseline which simply predicts the most frequent class (\"happy” in our case), which gives an accuracy of about 0.5597."
   ]
  },
  {
   "cell_type": "markdown",
   "metadata": {
    "id": "JI-XqYveHNaJ"
   },
   "source": [
    "#### Baseline"
   ]
  },
  {
   "cell_type": "code",
   "execution_count": 8,
   "metadata": {
    "colab": {
     "base_uri": "https://localhost:8080/"
    },
    "id": "AZyRdrTcHG1S",
    "outputId": "b5d073b9-f505-47ed-80b6-9f36eb629c11"
   },
   "outputs": [
    {
     "data": {
      "text/plain": [
       "happy      740266\n",
       "neutral    399063\n",
       "upset      183322\n",
       "Name: response_first, dtype: int64"
      ]
     },
     "execution_count": 8,
     "metadata": {},
     "output_type": "execute_result"
    }
   ],
   "source": [
    "y.value_counts()"
   ]
  },
  {
   "cell_type": "code",
   "execution_count": 9,
   "metadata": {
    "colab": {
     "base_uri": "https://localhost:8080/"
    },
    "id": "hEHNFkHHHSOe",
    "outputId": "1abc6473-60c8-4bc4-c170-5331aa9f6d07"
   },
   "outputs": [
    {
     "name": "stdout",
     "output_type": "stream",
     "text": [
      "Baseline accuracy = 0.5597\n"
     ]
    }
   ],
   "source": [
    "print(f\"Baseline accuracy = {y.value_counts()[0]/len(y):.4f}\")"
   ]
  },
  {
   "cell_type": "code",
   "execution_count": 71,
   "metadata": {
    "colab": {
     "base_uri": "https://localhost:8080/"
    },
    "id": "XKon5PfEsUAT",
    "outputId": "9324a80d-6778-43cd-f0fd-93919dfd1504"
   },
   "outputs": [
    {
     "name": "stdout",
     "output_type": "stream",
     "text": [
      "Baseline balanced accuracy = 0.3333\n"
     ]
    }
   ],
   "source": [
    "pred = ['happy' for _ in range(len(y))]\n",
    "print(f\"Baseline balanced accuracy = {balanced_accuracy_score(y, pred):.4f}\")"
   ]
  },
  {
   "cell_type": "markdown",
   "metadata": {
    "id": "IPKn0NNGHQCd",
    "tags": []
   },
   "source": [
    "#### Classification\n",
    "We first evaluate classification models on the prediction task"
   ]
  },
  {
   "cell_type": "code",
   "execution_count": 68,
   "metadata": {
    "id": "QS663PASNRKb"
   },
   "outputs": [],
   "source": [
    "models = {\n",
    "    'LR': LogisticRegression(random_state=123, n_jobs=-1),\n",
    "    'SVM': LinearSVC(random_state=123, dual=False),\n",
    "    'RF': RandomForestClassifier(random_state=123, n_jobs=-1)\n",
    "}\n",
    "\n",
    "scalers = {\n",
    "    StandardScaler()\n",
    "}\n",
    "\n",
    "param_grid = {\n",
    "    'LR': {\n",
    "        'model__multi_class': ['ovr', 'multinomial'],\n",
    "        'model__C': np.logspace(-4, 4, 20)\n",
    "    },\n",
    "    'SVM': {\n",
    "        'model__penalty': ['l1', 'l2'],\n",
    "        'model__C': np.logspace(-4, 4, 20)\n",
    "    },\n",
    "    'RF': {\n",
    "        'model__n_estimators': [int(x) for x in np.linspace(start = 50, stop = 150, num = 5)],\n",
    "        'model__min_samples_split': [2, 5, 10],\n",
    "        'model__min_samples_leaf': [1, 2, 4]\n",
    "    }\n",
    "}"
   ]
  },
  {
   "cell_type": "code",
   "execution_count": null,
   "metadata": {
    "id": "H7Qh_G9UNRKc"
   },
   "outputs": [],
   "source": [
    "results_list = []\n",
    "for scaler in scalers:\n",
    "    for name in models.keys():\n",
    "        print(scaler, name)\n",
    "        model = models[name]\n",
    "        params = param_grid[name]\n",
    "        \n",
    "        steps = [('scaler', scaler),\n",
    "                 ('model', model)]\n",
    "        pipeline = Pipeline(steps)\n",
    "        scoring = {\"Accuracy\": 'accuracy', \"Balanced\": 'balanced_accuracy'}\n",
    "        # Number of folds can be tuned\n",
    "        search = GridSearchCV(pipeline, params, cv=5, scoring=scoring,\n",
    "                              refit=\"Balanced\", verbose=1)\n",
    "        search.fit(X, y)\n",
    "        results = (model, name, scaler, search.best_score_, search.best_params_, search.cv_results_)\n",
    "        results_list.append(results)\n",
    "results_df = pd.DataFrame(results_list, columns=['model', 'name', 'scaler', 'score', 'params', 'results']).sort_values('score', ascending=False)"
   ]
  },
  {
   "cell_type": "code",
   "execution_count": 209,
   "metadata": {
    "colab": {
     "base_uri": "https://localhost:8080/",
     "height": 294
    },
    "id": "Dwj-RgHwAtoI",
    "outputId": "9a7be89e-a5d0-4a7c-ed07-08cef0c197de"
   },
   "outputs": [
    {
     "data": {
      "image/png": "[encoded data removed]",
      "text/plain": [
       "<Figure size 432x288 with 2 Axes>"
      ]
     },
     "metadata": {
      "needs_background": "light"
     },
     "output_type": "display_data"
    }
   ],
   "source": [
    "# Extract cross validation results\n",
    "cv_results = pd.json_normalize(results_df.results).set_index(results_df.name)\n",
    "cv_results['max_Balanced'] = cv_results.mean_test_Balanced.apply(lambda a: np.max(a))\n",
    "cv_results['min_Balanced'] = cv_results.mean_test_Balanced.apply(lambda a: np.min(a))\n",
    "cv_results['max_Accuracy'] = cv_results.mean_test_Accuracy.apply(lambda a: np.max(a))\n",
    "cv_results['min_Accuracy'] = cv_results.mean_test_Accuracy.apply(lambda a: np.min(a))\n",
    "\n",
    "# Barplot with min-max error bars\n",
    "def min_max_bar(ax, title, y_lim, baseline):\n",
    "    sns.barplot(data=cv_results[f'mean_test_{title}'], ax=ax, ci=None)\n",
    "    ax.set_title(title)\n",
    "    ax.set_ylim(y_lim[0], y_lim[1])\n",
    "    ax.axhline(baseline, color='red')\n",
    "    ax.text(2.55, baseline, 'Baseline', color='red')\n",
    "    ax.vlines([0, 1, 2], cv_results[f'min_{title}'], cv_results[f'max_{title}'], color='k')\n",
    "    ax.set_xticklabels(cv_results.index)\n",
    "    ax.set_ylabel('Accuracy')\n",
    "\n",
    "fig, axs = plt.subplots(1, 2)\n",
    "fig.suptitle('Model normal vs. balanced accuracy', x=1.25)\n",
    "min_max_bar(axs[0], 'Accuracy', (0.5, 0.6), 0.5597)\n",
    "min_max_bar(axs[1], 'Balanced', (0.3, 0.45), 0.3333)\n",
    "\n",
    "# Adjust spacing between subplots\n",
    "plt.subplots_adjust(right=2.5)\n",
    "plt.show()"
   ]
  },
  {
   "cell_type": "markdown",
   "metadata": {
    "id": "-1Grz3-ZAYWG"
   },
   "source": [
    "Random forests seem to have the best improvement of our considered models, which all improve upon the baseline in terms of normal and balanced accuracy. Random forests, however, seem to best perform in terms of balanced classification. That is, they perform better for all classes. In terms of normal accuracy, performance gains are only marginal (**note the small range of the y-axis**) compared to the computational cost."
   ]
  },
  {
   "cell_type": "markdown",
   "metadata": {
    "id": "m7U83SE3jKMw"
   },
   "source": [
    "#### Binary classification\n",
    "Unfortunately, the multi-classification problem did not yield great predicting accuracy. Instead of predicting responses for each class, we will instead investigate predicting whether the student was happy or not (and turn the problem into a binary prediction problem)."
   ]
  },
  {
   "cell_type": "code",
   "execution_count": 211,
   "metadata": {
    "id": "itxcJ0cnjIvG"
   },
   "outputs": [],
   "source": [
    "y = y.map({'happy': 'happy', 'neutral': 'not_happy', 'upset': 'not_happy'})"
   ]
  },
  {
   "cell_type": "code",
   "execution_count": 222,
   "metadata": {
    "colab": {
     "base_uri": "https://localhost:8080/"
    },
    "id": "JBSwstV9WdPt",
    "outputId": "8ab24853-b1b9-43c1-a659-51d05cdf0f1b"
   },
   "outputs": [
    {
     "name": "stdout",
     "output_type": "stream",
     "text": [
      "Baseline ROC AUC = 0.5000\n"
     ]
    }
   ],
   "source": [
    "# What was the baseline ROC AUC ?\n",
    "roc = roc_auc_score(y.map({'happy': 1, 'not_happy': 0}).values, [1 for _ in range(len(y))])\n",
    "print(f'Baseline ROC AUC = {roc:.4f}')"
   ]
  },
  {
   "cell_type": "code",
   "execution_count": 223,
   "metadata": {
    "colab": {
     "base_uri": "https://localhost:8080/"
    },
    "id": "f_REy_BAVl9H",
    "outputId": "ef607f3f-b891-4b61-a5a8-57e12f6ff9a2"
   },
   "outputs": [
    {
     "name": "stdout",
     "output_type": "stream",
     "text": [
      "LR\n",
      "Fitting 5 folds for each of 40 candidates, totalling 200 fits\n",
      "RF\n",
      "Fitting 5 folds for each of 45 candidates, totalling 225 fits\n"
     ]
    }
   ],
   "source": [
    "results_list = []\n",
    "for name in ['LR', 'RF']:\n",
    "    print(name)\n",
    "    model = models[name]\n",
    "    params = param_grid[name]\n",
    "\n",
    "    steps = [('model', model)]\n",
    "    pipeline = Pipeline(steps)\n",
    "    scoring = {\"Accuracy\": 'accuracy', \"Balanced\": 'balanced_accuracy', \"AUC\": 'roc_auc'}\n",
    "    search = GridSearchCV(pipeline, params, cv=5, scoring=scoring, refit=\"AUC\", verbose=1)\n",
    "    search.fit(X, y)\n",
    "    results = (model, name, scaler, search.best_score_, search.best_params_, search.cv_results_)\n",
    "    results_list.append(results)"
   ]
  },
  {
   "cell_type": "code",
   "execution_count": 255,
   "metadata": {
    "colab": {
     "base_uri": "https://localhost:8080/",
     "height": 294
    },
    "id": "2R--BeZIbBm3",
    "outputId": "c1e95c68-cc17-4443-aea4-05c220e53f6a"
   },
   "outputs": [
    {
     "data": {
      "image/png": "[encoded data removed]",
      "text/plain": [
       "<Figure size 432x288 with 3 Axes>"
      ]
     },
     "metadata": {
      "needs_background": "light"
     },
     "output_type": "display_data"
    }
   ],
   "source": [
    "results_df = pd.DataFrame(results_list, columns=['model', 'name', 'scaler', 'score', 'params', 'results']).sort_values('score', ascending=False)\n",
    "# Extract cross validation results\n",
    "cv_results = pd.json_normalize(results_df.results).set_index(results_df.name)\n",
    "for metric in ['Accuracy', 'Balanced', 'AUC']:\n",
    "    cv_results[f'max_{metric}'] = cv_results[f'mean_test_{metric}'].apply(lambda a: np.max(a))\n",
    "    cv_results[f'min_{metric}'] = cv_results[f'mean_test_{metric}'].apply(lambda a: np.min(a))\n",
    "\n",
    "# Plot\n",
    "fig, axs = plt.subplots(1, 3)\n",
    "fig.suptitle('Binary model metrics', x=1.25)\n",
    "min_max_bar(axs[0], 'Accuracy', (0.3, 0.7), 0.5597)\n",
    "min_max_bar(axs[1], 'Balanced', (0.3, 0.7), 0.3333)\n",
    "min_max_bar(axs[2], 'AUC', (0.3, 0.7), 0.5)\n",
    "\n",
    "# Adjust spacing between subplots\n",
    "plt.subplots_adjust(right=2.5)\n",
    "plt.show()"
   ]
  },
  {
   "cell_type": "code",
   "execution_count": 258,
   "metadata": {
    "colab": {
     "base_uri": "https://localhost:8080/",
     "height": 129
    },
    "id": "Z5s2pNzjfEb6",
    "outputId": "e21819e4-782f-48ec-e5aa-fef1be53c0d7"
   },
   "outputs": [
    {
     "name": "stdout",
     "output_type": "stream",
     "text": [
      "Best scores:\n"
     ]
    },
    {
     "data": {
      "text/html": [
       "\n",
       "  <div id=\"df-ac33e4d2-28b5-4b6f-833a-9365ba492335\">\n",
       "    <div class=\"colab-df-container\">\n",
       "      <div>\n",
       "<style scoped>\n",
       "    .dataframe tbody tr th:only-of-type {\n",
       "        vertical-align: middle;\n",
       "    }\n",
       "\n",
       "    .dataframe tbody tr th {\n",
       "        vertical-align: top;\n",
       "    }\n",
       "\n",
       "    .dataframe thead th {\n",
       "        text-align: right;\n",
       "    }\n",
       "</style>\n",
       "<table border=\"1\" class=\"dataframe\">\n",
       "  <thead>\n",
       "    <tr style=\"text-align: right;\">\n",
       "      <th></th>\n",
       "      <th>name</th>\n",
       "      <th>score</th>\n",
       "    </tr>\n",
       "  </thead>\n",
       "  <tbody>\n",
       "    <tr>\n",
       "      <th>4</th>\n",
       "      <td>LR</td>\n",
       "      <td>0.686931</td>\n",
       "    </tr>\n",
       "    <tr>\n",
       "      <th>5</th>\n",
       "      <td>RF</td>\n",
       "      <td>0.685602</td>\n",
       "    </tr>\n",
       "  </tbody>\n",
       "</table>\n",
       "</div>\n",
       "      <button class=\"colab-df-convert\" onclick=\"convertToInteractive('df-ac33e4d2-28b5-4b6f-833a-9365ba492335')\"\n",
       "              title=\"Convert this dataframe to an interactive table.\"\n",
       "              style=\"display:none;\">\n",
       "        \n",
       "  <svg xmlns=\"http://www.w3.org/2000/svg\" height=\"24px\"viewBox=\"0 0 24 24\"\n",
       "       width=\"24px\">\n",
       "    <path d=\"M0 0h24v24H0V0z\" fill=\"none\"/>\n",
       "    <path d=\"M18.56 5.44l.94 2.06.94-2.06 2.06-.94-2.06-.94-.94-2.06-.94 2.06-2.06.94zm-11 1L8.5 8.5l.94-2.06 2.06-.94-2.06-.94L8.5 2.5l-.94 2.06-2.06.94zm10 10l.94 2.06.94-2.06 2.06-.94-2.06-.94-.94-2.06-.94 2.06-2.06.94z\"/><path d=\"M17.41 7.96l-1.37-1.37c-.4-.4-.92-.59-1.43-.59-.52 0-1.04.2-1.43.59L10.3 9.45l-7.72 7.72c-.78.78-.78 2.05 0 2.83L4 21.41c.39.39.9.59 1.41.59.51 0 1.02-.2 1.41-.59l7.78-7.78 2.81-2.81c.8-.78.8-2.07 0-2.86zM5.41 20L4 18.59l7.72-7.72 1.47 1.35L5.41 20z\"/>\n",
       "  </svg>\n",
       "      </button>\n",
       "      \n",
       "  <style>\n",
       "    .colab-df-container {\n",
       "      display:flex;\n",
       "      flex-wrap:wrap;\n",
       "      gap: 12px;\n",
       "    }\n",
       "\n",
       "    .colab-df-convert {\n",
       "      background-color: #E8F0FE;\n",
       "      border: none;\n",
       "      border-radius: 50%;\n",
       "      cursor: pointer;\n",
       "      display: none;\n",
       "      fill: #1967D2;\n",
       "      height: 32px;\n",
       "      padding: 0 0 0 0;\n",
       "      width: 32px;\n",
       "    }\n",
       "\n",
       "    .colab-df-convert:hover {\n",
       "      background-color: #E2EBFA;\n",
       "      box-shadow: 0px 1px 2px rgba(60, 64, 67, 0.3), 0px 1px 3px 1px rgba(60, 64, 67, 0.15);\n",
       "      fill: #174EA6;\n",
       "    }\n",
       "\n",
       "    [theme=dark] .colab-df-convert {\n",
       "      background-color: #3B4455;\n",
       "      fill: #D2E3FC;\n",
       "    }\n",
       "\n",
       "    [theme=dark] .colab-df-convert:hover {\n",
       "      background-color: #434B5C;\n",
       "      box-shadow: 0px 1px 3px 1px rgba(0, 0, 0, 0.15);\n",
       "      filter: drop-shadow(0px 1px 2px rgba(0, 0, 0, 0.3));\n",
       "      fill: #FFFFFF;\n",
       "    }\n",
       "  </style>\n",
       "\n",
       "      <script>\n",
       "        const buttonEl =\n",
       "          document.querySelector('#df-ac33e4d2-28b5-4b6f-833a-9365ba492335 button.colab-df-convert');\n",
       "        buttonEl.style.display =\n",
       "          google.colab.kernel.accessAllowed ? 'block' : 'none';\n",
       "\n",
       "        async function convertToInteractive(key) {\n",
       "          const element = document.querySelector('#df-ac33e4d2-28b5-4b6f-833a-9365ba492335');\n",
       "          const dataTable =\n",
       "            await google.colab.kernel.invokeFunction('convertToInteractive',\n",
       "                                                     [key], {});\n",
       "          if (!dataTable) return;\n",
       "\n",
       "          const docLinkHtml = 'Like what you see? Visit the ' +\n",
       "            '<a target=\"_blank\" href=https://colab.research.google.com/notebooks/data_table.ipynb>data table notebook</a>'\n",
       "            + ' to learn more about interactive tables.';\n",
       "          element.innerHTML = '';\n",
       "          dataTable['output_type'] = 'display_data';\n",
       "          await google.colab.output.renderOutput(dataTable, element);\n",
       "          const docLink = document.createElement('div');\n",
       "          docLink.innerHTML = docLinkHtml;\n",
       "          element.appendChild(docLink);\n",
       "        }\n",
       "      </script>\n",
       "    </div>\n",
       "  </div>\n",
       "  "
      ],
      "text/plain": [
       "  name     score\n",
       "4   LR  0.686931\n",
       "5   RF  0.685602"
      ]
     },
     "metadata": {},
     "output_type": "display_data"
    }
   ],
   "source": [
    "print('Best scores:')\n",
    "display(results_df[['name', 'score']])"
   ]
  },
  {
   "cell_type": "markdown",
   "metadata": {
    "id": "OkdKD2_Ue5gV"
   },
   "source": [
    "The binary prediction now seems to perform a lot better than the baseline, with accuracy metrics sitting between 0.6-0.65. The ROC area under curve score also sees a significant increase from the baseline 0.5 to values around 0.69."
   ]
  },
  {
   "cell_type": "markdown",
   "metadata": {
    "id": "JgszpQWNNRKd"
   },
   "source": [
    "### Linear Regression\n",
    "As an extension, we will also evaluate predictive performance with a linear regression model by mapping our participant responses to some scale (-10=upset, 0=neutral, +10=happy for example) with an appropriate loss function (mean squared error or an adapted variant which does not penalize happy predictions that are greater than the happy mapping (respectively upset predictions less than the upset mapping))."
   ]
  }
 ],
 "metadata": {
  "colab": {
   "collapsed_sections": [],
   "name": "2-aggregated.ipynb",
   "provenance": []
  },
  "kernelspec": {
   "display_name": "Python 3 (ipykernel)",
   "language": "python",
   "name": "python3"
  },
  "language_info": {
   "codemirror_mode": {
    "name": "ipython",
    "version": 3
   },
   "file_extension": ".py",
   "mimetype": "text/x-python",
   "name": "python",
   "nbconvert_exporter": "python",
   "pygments_lexer": "ipython3",
   "version": "3.8.10"
  }
 },
 "nbformat": 4,
 "nbformat_minor": 4
}
